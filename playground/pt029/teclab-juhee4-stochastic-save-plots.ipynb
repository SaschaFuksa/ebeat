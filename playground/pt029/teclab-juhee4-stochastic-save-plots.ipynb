{
 "cells": [
  {
   "cell_type": "code",
   "execution_count": 5,
   "metadata": {
    "collapsed": true
   },
   "outputs": [],
   "source": [
    "import librosa\n",
    "from matplotlib import pyplot as plt\n",
    "from scipy import signal"
   ]
  },
  {
   "cell_type": "code",
   "execution_count": 6,
   "outputs": [],
   "source": [
    "pathAudio = 'C:/Users/treib/Downloads/OneDrive-2022-06-17/'\n",
    "files = []\n",
    "loaded_files = librosa.util.find_files(pathAudio, ext=['mp3'])\n",
    "name = 'Sentience Council of Seers'\n",
    "for file in loaded_files:\n",
    "    if name in file:\n",
    "        files.append(file)\n",
    "files = sorted(files, key=lambda x: int(x.split('_')[-1].split(\".\")[0]))\n"
   ],
   "metadata": {
    "collapsed": false,
    "pycharm": {
     "name": "#%%\n"
    }
   }
  },
  {
   "cell_type": "code",
   "execution_count": 7,
   "outputs": [
    {
     "data": {
      "text/plain": "['C:\\\\Users\\\\treib\\\\Downloads\\\\OneDrive-2022-06-17\\\\Julia Felix - Sentience Council of Seers_1.mp3',\n 'C:\\\\Users\\\\treib\\\\Downloads\\\\OneDrive-2022-06-17\\\\Julia Felix - Sentience Council of Seers_2.mp3',\n 'C:\\\\Users\\\\treib\\\\Downloads\\\\OneDrive-2022-06-17\\\\Julia Felix - Sentience Council of Seers_3.mp3',\n 'C:\\\\Users\\\\treib\\\\Downloads\\\\OneDrive-2022-06-17\\\\Julia Felix - Sentience Council of Seers_4.mp3',\n 'C:\\\\Users\\\\treib\\\\Downloads\\\\OneDrive-2022-06-17\\\\Julia Felix - Sentience Council of Seers_7.mp3',\n 'C:\\\\Users\\\\treib\\\\Downloads\\\\OneDrive-2022-06-17\\\\Julia Felix - Sentience Council of Seers_8.mp3',\n 'C:\\\\Users\\\\treib\\\\Downloads\\\\OneDrive-2022-06-17\\\\Julia Felix - Sentience Council of Seers_10.mp3',\n 'C:\\\\Users\\\\treib\\\\Downloads\\\\OneDrive-2022-06-17\\\\Julia Felix - Sentience Council of Seers_11.mp3',\n 'C:\\\\Users\\\\treib\\\\Downloads\\\\OneDrive-2022-06-17\\\\Julia Felix - Sentience Council of Seers_12.mp3',\n 'C:\\\\Users\\\\treib\\\\Downloads\\\\OneDrive-2022-06-17\\\\Julia Felix - Sentience Council of Seers_13.mp3',\n 'C:\\\\Users\\\\treib\\\\Downloads\\\\OneDrive-2022-06-17\\\\Julia Felix - Sentience Council of Seers_15.mp3',\n 'C:\\\\Users\\\\treib\\\\Downloads\\\\OneDrive-2022-06-17\\\\Julia Felix - Sentience Council of Seers_16.mp3',\n 'C:\\\\Users\\\\treib\\\\Downloads\\\\OneDrive-2022-06-17\\\\Julia Felix - Sentience Council of Seers_18.mp3',\n 'C:\\\\Users\\\\treib\\\\Downloads\\\\OneDrive-2022-06-17\\\\Julia Felix - Sentience Council of Seers_19.mp3',\n 'C:\\\\Users\\\\treib\\\\Downloads\\\\OneDrive-2022-06-17\\\\Julia Felix - Sentience Council of Seers_20.mp3',\n 'C:\\\\Users\\\\treib\\\\Downloads\\\\OneDrive-2022-06-17\\\\Julia Felix - Sentience Council of Seers_22.mp3',\n 'C:\\\\Users\\\\treib\\\\Downloads\\\\OneDrive-2022-06-17\\\\Julia Felix - Sentience Council of Seers_23.mp3',\n 'C:\\\\Users\\\\treib\\\\Downloads\\\\OneDrive-2022-06-17\\\\Julia Felix - Sentience Council of Seers_27.mp3',\n 'C:\\\\Users\\\\treib\\\\Downloads\\\\OneDrive-2022-06-17\\\\Julia Felix - Sentience Council of Seers_29.mp3',\n 'C:\\\\Users\\\\treib\\\\Downloads\\\\OneDrive-2022-06-17\\\\Julia Felix - Sentience Council of Seers_31.mp3',\n 'C:\\\\Users\\\\treib\\\\Downloads\\\\OneDrive-2022-06-17\\\\Julia Felix - Sentience Council of Seers_33.mp3',\n 'C:\\\\Users\\\\treib\\\\Downloads\\\\OneDrive-2022-06-17\\\\Julia Felix - Sentience Council of Seers_34.mp3',\n 'C:\\\\Users\\\\treib\\\\Downloads\\\\OneDrive-2022-06-17\\\\Julia Felix - Sentience Council of Seers_35.mp3',\n 'C:\\\\Users\\\\treib\\\\Downloads\\\\OneDrive-2022-06-17\\\\Julia Felix - Sentience Council of Seers_37.mp3',\n 'C:\\\\Users\\\\treib\\\\Downloads\\\\OneDrive-2022-06-17\\\\Julia Felix - Sentience Council of Seers_38.mp3',\n 'C:\\\\Users\\\\treib\\\\Downloads\\\\OneDrive-2022-06-17\\\\Julia Felix - Sentience Council of Seers_40.mp3',\n 'C:\\\\Users\\\\treib\\\\Downloads\\\\OneDrive-2022-06-17\\\\Julia Felix - Sentience Council of Seers_42.mp3',\n 'C:\\\\Users\\\\treib\\\\Downloads\\\\OneDrive-2022-06-17\\\\Julia Felix - Sentience Council of Seers_43.mp3',\n 'C:\\\\Users\\\\treib\\\\Downloads\\\\OneDrive-2022-06-17\\\\Julia Felix - Sentience Council of Seers_44.mp3',\n 'C:\\\\Users\\\\treib\\\\Downloads\\\\OneDrive-2022-06-17\\\\Julia Felix - Sentience Council of Seers_46.mp3',\n 'C:\\\\Users\\\\treib\\\\Downloads\\\\OneDrive-2022-06-17\\\\Julia Felix - Sentience Council of Seers_48.mp3',\n 'C:\\\\Users\\\\treib\\\\Downloads\\\\OneDrive-2022-06-17\\\\Julia Felix - Sentience Council of Seers_49.mp3',\n 'C:\\\\Users\\\\treib\\\\Downloads\\\\OneDrive-2022-06-17\\\\Julia Felix - Sentience Council of Seers_50.mp3',\n 'C:\\\\Users\\\\treib\\\\Downloads\\\\OneDrive-2022-06-17\\\\Julia Felix - Sentience Council of Seers_51.mp3',\n 'C:\\\\Users\\\\treib\\\\Downloads\\\\OneDrive-2022-06-17\\\\Julia Felix - Sentience Council of Seers_52.mp3',\n 'C:\\\\Users\\\\treib\\\\Downloads\\\\OneDrive-2022-06-17\\\\Julia Felix - Sentience Council of Seers_53.mp3',\n 'C:\\\\Users\\\\treib\\\\Downloads\\\\OneDrive-2022-06-17\\\\Julia Felix - Sentience Council of Seers_54.mp3',\n 'C:\\\\Users\\\\treib\\\\Downloads\\\\OneDrive-2022-06-17\\\\Julia Felix - Sentience Council of Seers_55.mp3',\n 'C:\\\\Users\\\\treib\\\\Downloads\\\\OneDrive-2022-06-17\\\\Julia Felix - Sentience Council of Seers_56.mp3',\n 'C:\\\\Users\\\\treib\\\\Downloads\\\\OneDrive-2022-06-17\\\\Julia Felix - Sentience Council of Seers_57.mp3',\n 'C:\\\\Users\\\\treib\\\\Downloads\\\\OneDrive-2022-06-17\\\\Julia Felix - Sentience Council of Seers_58.mp3',\n 'C:\\\\Users\\\\treib\\\\Downloads\\\\OneDrive-2022-06-17\\\\Julia Felix - Sentience Council of Seers_59.mp3',\n 'C:\\\\Users\\\\treib\\\\Downloads\\\\OneDrive-2022-06-17\\\\Julia Felix - Sentience Council of Seers_61.mp3',\n 'C:\\\\Users\\\\treib\\\\Downloads\\\\OneDrive-2022-06-17\\\\Julia Felix - Sentience Council of Seers_62.mp3',\n 'C:\\\\Users\\\\treib\\\\Downloads\\\\OneDrive-2022-06-17\\\\Julia Felix - Sentience Council of Seers_63.mp3',\n 'C:\\\\Users\\\\treib\\\\Downloads\\\\OneDrive-2022-06-17\\\\Julia Felix - Sentience Council of Seers_64.mp3',\n 'C:\\\\Users\\\\treib\\\\Downloads\\\\OneDrive-2022-06-17\\\\Julia Felix - Sentience Council of Seers_65.mp3',\n 'C:\\\\Users\\\\treib\\\\Downloads\\\\OneDrive-2022-06-17\\\\Julia Felix - Sentience Council of Seers_66.mp3',\n 'C:\\\\Users\\\\treib\\\\Downloads\\\\OneDrive-2022-06-17\\\\Julia Felix - Sentience Council of Seers_67.mp3',\n 'C:\\\\Users\\\\treib\\\\Downloads\\\\OneDrive-2022-06-17\\\\Julia Felix - Sentience Council of Seers_68.mp3',\n 'C:\\\\Users\\\\treib\\\\Downloads\\\\OneDrive-2022-06-17\\\\Julia Felix - Sentience Council of Seers_71.mp3',\n 'C:\\\\Users\\\\treib\\\\Downloads\\\\OneDrive-2022-06-17\\\\Julia Felix - Sentience Council of Seers_76.mp3',\n 'C:\\\\Users\\\\treib\\\\Downloads\\\\OneDrive-2022-06-17\\\\Julia Felix - Sentience Council of Seers_78.mp3']"
     },
     "execution_count": 7,
     "metadata": {},
     "output_type": "execute_result"
    }
   ],
   "source": [
    "files"
   ],
   "metadata": {
    "collapsed": false,
    "pycharm": {
     "name": "#%%\n"
    }
   }
  },
  {
   "cell_type": "code",
   "execution_count": 8,
   "outputs": [
    {
     "ename": "NoBackendError",
     "evalue": "",
     "output_type": "error",
     "traceback": [
      "\u001B[1;31m---------------------------------------------------------------------------\u001B[0m",
      "\u001B[1;31mRuntimeError\u001B[0m                              Traceback (most recent call last)",
      "File \u001B[1;32m~\\PycharmProjects\\ebeat\\venv\\lib\\site-packages\\librosa\\core\\audio.py:155\u001B[0m, in \u001B[0;36mload\u001B[1;34m(path, sr, mono, offset, duration, dtype, res_type)\u001B[0m\n\u001B[0;32m    153\u001B[0m \u001B[38;5;28;01melse\u001B[39;00m:\n\u001B[0;32m    154\u001B[0m     \u001B[38;5;66;03m# Otherwise, create the soundfile object\u001B[39;00m\n\u001B[1;32m--> 155\u001B[0m     context \u001B[38;5;241m=\u001B[39m \u001B[43msf\u001B[49m\u001B[38;5;241;43m.\u001B[39;49m\u001B[43mSoundFile\u001B[49m\u001B[43m(\u001B[49m\u001B[43mpath\u001B[49m\u001B[43m)\u001B[49m\n\u001B[0;32m    157\u001B[0m \u001B[38;5;28;01mwith\u001B[39;00m context \u001B[38;5;28;01mas\u001B[39;00m sf_desc:\n",
      "File \u001B[1;32m~\\PycharmProjects\\ebeat\\venv\\lib\\site-packages\\soundfile.py:629\u001B[0m, in \u001B[0;36mSoundFile.__init__\u001B[1;34m(self, file, mode, samplerate, channels, subtype, endian, format, closefd)\u001B[0m\n\u001B[0;32m    627\u001B[0m \u001B[38;5;28mself\u001B[39m\u001B[38;5;241m.\u001B[39m_info \u001B[38;5;241m=\u001B[39m _create_info_struct(file, mode, samplerate, channels,\n\u001B[0;32m    628\u001B[0m                                  \u001B[38;5;28mformat\u001B[39m, subtype, endian)\n\u001B[1;32m--> 629\u001B[0m \u001B[38;5;28mself\u001B[39m\u001B[38;5;241m.\u001B[39m_file \u001B[38;5;241m=\u001B[39m \u001B[38;5;28;43mself\u001B[39;49m\u001B[38;5;241;43m.\u001B[39;49m\u001B[43m_open\u001B[49m\u001B[43m(\u001B[49m\u001B[43mfile\u001B[49m\u001B[43m,\u001B[49m\u001B[43m \u001B[49m\u001B[43mmode_int\u001B[49m\u001B[43m,\u001B[49m\u001B[43m \u001B[49m\u001B[43mclosefd\u001B[49m\u001B[43m)\u001B[49m\n\u001B[0;32m    630\u001B[0m \u001B[38;5;28;01mif\u001B[39;00m \u001B[38;5;28mset\u001B[39m(mode)\u001B[38;5;241m.\u001B[39missuperset(\u001B[38;5;124m'\u001B[39m\u001B[38;5;124mr+\u001B[39m\u001B[38;5;124m'\u001B[39m) \u001B[38;5;129;01mand\u001B[39;00m \u001B[38;5;28mself\u001B[39m\u001B[38;5;241m.\u001B[39mseekable():\n\u001B[0;32m    631\u001B[0m     \u001B[38;5;66;03m# Move write position to 0 (like in Python file objects)\u001B[39;00m\n",
      "File \u001B[1;32m~\\PycharmProjects\\ebeat\\venv\\lib\\site-packages\\soundfile.py:1183\u001B[0m, in \u001B[0;36mSoundFile._open\u001B[1;34m(self, file, mode_int, closefd)\u001B[0m\n\u001B[0;32m   1182\u001B[0m     \u001B[38;5;28;01mraise\u001B[39;00m \u001B[38;5;167;01mTypeError\u001B[39;00m(\u001B[38;5;124m\"\u001B[39m\u001B[38;5;124mInvalid file: \u001B[39m\u001B[38;5;132;01m{0!r}\u001B[39;00m\u001B[38;5;124m\"\u001B[39m\u001B[38;5;241m.\u001B[39mformat(\u001B[38;5;28mself\u001B[39m\u001B[38;5;241m.\u001B[39mname))\n\u001B[1;32m-> 1183\u001B[0m \u001B[43m_error_check\u001B[49m\u001B[43m(\u001B[49m\u001B[43m_snd\u001B[49m\u001B[38;5;241;43m.\u001B[39;49m\u001B[43msf_error\u001B[49m\u001B[43m(\u001B[49m\u001B[43mfile_ptr\u001B[49m\u001B[43m)\u001B[49m\u001B[43m,\u001B[49m\n\u001B[0;32m   1184\u001B[0m \u001B[43m             \u001B[49m\u001B[38;5;124;43m\"\u001B[39;49m\u001B[38;5;124;43mError opening \u001B[39;49m\u001B[38;5;132;43;01m{0!r}\u001B[39;49;00m\u001B[38;5;124;43m: \u001B[39;49m\u001B[38;5;124;43m\"\u001B[39;49m\u001B[38;5;241;43m.\u001B[39;49m\u001B[43mformat\u001B[49m\u001B[43m(\u001B[49m\u001B[38;5;28;43mself\u001B[39;49m\u001B[38;5;241;43m.\u001B[39;49m\u001B[43mname\u001B[49m\u001B[43m)\u001B[49m\u001B[43m)\u001B[49m\n\u001B[0;32m   1185\u001B[0m \u001B[38;5;28;01mif\u001B[39;00m mode_int \u001B[38;5;241m==\u001B[39m _snd\u001B[38;5;241m.\u001B[39mSFM_WRITE:\n\u001B[0;32m   1186\u001B[0m     \u001B[38;5;66;03m# Due to a bug in libsndfile version <= 1.0.25, frames != 0\u001B[39;00m\n\u001B[0;32m   1187\u001B[0m     \u001B[38;5;66;03m# when opening a named pipe in SFM_WRITE mode.\u001B[39;00m\n\u001B[0;32m   1188\u001B[0m     \u001B[38;5;66;03m# See http://github.com/erikd/libsndfile/issues/77.\u001B[39;00m\n",
      "File \u001B[1;32m~\\PycharmProjects\\ebeat\\venv\\lib\\site-packages\\soundfile.py:1357\u001B[0m, in \u001B[0;36m_error_check\u001B[1;34m(err, prefix)\u001B[0m\n\u001B[0;32m   1356\u001B[0m err_str \u001B[38;5;241m=\u001B[39m _snd\u001B[38;5;241m.\u001B[39msf_error_number(err)\n\u001B[1;32m-> 1357\u001B[0m \u001B[38;5;28;01mraise\u001B[39;00m \u001B[38;5;167;01mRuntimeError\u001B[39;00m(prefix \u001B[38;5;241m+\u001B[39m _ffi\u001B[38;5;241m.\u001B[39mstring(err_str)\u001B[38;5;241m.\u001B[39mdecode(\u001B[38;5;124m'\u001B[39m\u001B[38;5;124mutf-8\u001B[39m\u001B[38;5;124m'\u001B[39m, \u001B[38;5;124m'\u001B[39m\u001B[38;5;124mreplace\u001B[39m\u001B[38;5;124m'\u001B[39m))\n",
      "\u001B[1;31mRuntimeError\u001B[0m: Error opening 'C:\\\\Users\\\\treib\\\\Downloads\\\\OneDrive-2022-06-17\\\\Julia Felix - Sentience Council of Seers_1.mp3': File contains data in an unknown format.",
      "\nDuring handling of the above exception, another exception occurred:\n",
      "\u001B[1;31mNoBackendError\u001B[0m                            Traceback (most recent call last)",
      "Input \u001B[1;32mIn [8]\u001B[0m, in \u001B[0;36m<cell line: 2>\u001B[1;34m()\u001B[0m\n\u001B[0;32m      1\u001B[0m samples \u001B[38;5;241m=\u001B[39m []\n\u001B[0;32m      2\u001B[0m \u001B[38;5;28;01mfor\u001B[39;00m file_name \u001B[38;5;129;01min\u001B[39;00m files:\n\u001B[1;32m----> 3\u001B[0m     song, sr \u001B[38;5;241m=\u001B[39m \u001B[43mlibrosa\u001B[49m\u001B[38;5;241;43m.\u001B[39;49m\u001B[43mcore\u001B[49m\u001B[38;5;241;43m.\u001B[39;49m\u001B[43mload\u001B[49m\u001B[43m(\u001B[49m\u001B[43mfile_name\u001B[49m\u001B[43m)\u001B[49m\n\u001B[0;32m      4\u001B[0m     resampled_part \u001B[38;5;241m=\u001B[39m signal\u001B[38;5;241m.\u001B[39mresample(song, \u001B[38;5;28mint\u001B[39m(\u001B[38;5;28mlen\u001B[39m(song)\u001B[38;5;241m/\u001B[39m\u001B[38;5;241m35\u001B[39m))\n\u001B[0;32m      5\u001B[0m     samples\u001B[38;5;241m.\u001B[39mappend(resampled_part)\n",
      "File \u001B[1;32m~\\PycharmProjects\\ebeat\\venv\\lib\\site-packages\\librosa\\util\\decorators.py:88\u001B[0m, in \u001B[0;36mdeprecate_positional_args.<locals>._inner_deprecate_positional_args.<locals>.inner_f\u001B[1;34m(*args, **kwargs)\u001B[0m\n\u001B[0;32m     86\u001B[0m extra_args \u001B[38;5;241m=\u001B[39m \u001B[38;5;28mlen\u001B[39m(args) \u001B[38;5;241m-\u001B[39m \u001B[38;5;28mlen\u001B[39m(all_args)\n\u001B[0;32m     87\u001B[0m \u001B[38;5;28;01mif\u001B[39;00m extra_args \u001B[38;5;241m<\u001B[39m\u001B[38;5;241m=\u001B[39m \u001B[38;5;241m0\u001B[39m:\n\u001B[1;32m---> 88\u001B[0m     \u001B[38;5;28;01mreturn\u001B[39;00m f(\u001B[38;5;241m*\u001B[39margs, \u001B[38;5;241m*\u001B[39m\u001B[38;5;241m*\u001B[39mkwargs)\n\u001B[0;32m     90\u001B[0m \u001B[38;5;66;03m# extra_args > 0\u001B[39;00m\n\u001B[0;32m     91\u001B[0m args_msg \u001B[38;5;241m=\u001B[39m [\n\u001B[0;32m     92\u001B[0m     \u001B[38;5;124m\"\u001B[39m\u001B[38;5;132;01m{}\u001B[39;00m\u001B[38;5;124m=\u001B[39m\u001B[38;5;132;01m{}\u001B[39;00m\u001B[38;5;124m\"\u001B[39m\u001B[38;5;241m.\u001B[39mformat(name, arg)\n\u001B[0;32m     93\u001B[0m     \u001B[38;5;28;01mfor\u001B[39;00m name, arg \u001B[38;5;129;01min\u001B[39;00m \u001B[38;5;28mzip\u001B[39m(kwonly_args[:extra_args], args[\u001B[38;5;241m-\u001B[39mextra_args:])\n\u001B[0;32m     94\u001B[0m ]\n",
      "File \u001B[1;32m~\\PycharmProjects\\ebeat\\venv\\lib\\site-packages\\librosa\\core\\audio.py:174\u001B[0m, in \u001B[0;36mload\u001B[1;34m(path, sr, mono, offset, duration, dtype, res_type)\u001B[0m\n\u001B[0;32m    172\u001B[0m \u001B[38;5;28;01mif\u001B[39;00m \u001B[38;5;28misinstance\u001B[39m(path, (\u001B[38;5;28mstr\u001B[39m, pathlib\u001B[38;5;241m.\u001B[39mPurePath)):\n\u001B[0;32m    173\u001B[0m     warnings\u001B[38;5;241m.\u001B[39mwarn(\u001B[38;5;124m\"\u001B[39m\u001B[38;5;124mPySoundFile failed. Trying audioread instead.\u001B[39m\u001B[38;5;124m\"\u001B[39m, stacklevel\u001B[38;5;241m=\u001B[39m\u001B[38;5;241m2\u001B[39m)\n\u001B[1;32m--> 174\u001B[0m     y, sr_native \u001B[38;5;241m=\u001B[39m \u001B[43m__audioread_load\u001B[49m\u001B[43m(\u001B[49m\u001B[43mpath\u001B[49m\u001B[43m,\u001B[49m\u001B[43m \u001B[49m\u001B[43moffset\u001B[49m\u001B[43m,\u001B[49m\u001B[43m \u001B[49m\u001B[43mduration\u001B[49m\u001B[43m,\u001B[49m\u001B[43m \u001B[49m\u001B[43mdtype\u001B[49m\u001B[43m)\u001B[49m\n\u001B[0;32m    175\u001B[0m \u001B[38;5;28;01melse\u001B[39;00m:\n\u001B[0;32m    176\u001B[0m     \u001B[38;5;28;01mraise\u001B[39;00m (exc)\n",
      "File \u001B[1;32m~\\PycharmProjects\\ebeat\\venv\\lib\\site-packages\\librosa\\core\\audio.py:198\u001B[0m, in \u001B[0;36m__audioread_load\u001B[1;34m(path, offset, duration, dtype)\u001B[0m\n\u001B[0;32m    192\u001B[0m \u001B[38;5;124;03m\"\"\"Load an audio buffer using audioread.\u001B[39;00m\n\u001B[0;32m    193\u001B[0m \n\u001B[0;32m    194\u001B[0m \u001B[38;5;124;03mThis loads one block at a time, and then concatenates the results.\u001B[39;00m\n\u001B[0;32m    195\u001B[0m \u001B[38;5;124;03m\"\"\"\u001B[39;00m\n\u001B[0;32m    197\u001B[0m y \u001B[38;5;241m=\u001B[39m []\n\u001B[1;32m--> 198\u001B[0m \u001B[38;5;28;01mwith\u001B[39;00m \u001B[43maudioread\u001B[49m\u001B[38;5;241;43m.\u001B[39;49m\u001B[43maudio_open\u001B[49m\u001B[43m(\u001B[49m\u001B[43mpath\u001B[49m\u001B[43m)\u001B[49m \u001B[38;5;28;01mas\u001B[39;00m input_file:\n\u001B[0;32m    199\u001B[0m     sr_native \u001B[38;5;241m=\u001B[39m input_file\u001B[38;5;241m.\u001B[39msamplerate\n\u001B[0;32m    200\u001B[0m     n_channels \u001B[38;5;241m=\u001B[39m input_file\u001B[38;5;241m.\u001B[39mchannels\n",
      "File \u001B[1;32m~\\PycharmProjects\\ebeat\\venv\\lib\\site-packages\\audioread\\__init__.py:116\u001B[0m, in \u001B[0;36maudio_open\u001B[1;34m(path, backends)\u001B[0m\n\u001B[0;32m    113\u001B[0m         \u001B[38;5;28;01mpass\u001B[39;00m\n\u001B[0;32m    115\u001B[0m \u001B[38;5;66;03m# All backends failed!\u001B[39;00m\n\u001B[1;32m--> 116\u001B[0m \u001B[38;5;28;01mraise\u001B[39;00m NoBackendError()\n",
      "\u001B[1;31mNoBackendError\u001B[0m: "
     ]
    }
   ],
   "source": [
    "samples = []\n",
    "for file_name in files:\n",
    "    song, sr = librosa.core.load(file_name)\n",
    "    resampled_part = signal.resample(song, int(len(song)/35))\n",
    "    samples.append(resampled_part)"
   ],
   "metadata": {
    "collapsed": false,
    "pycharm": {
     "name": "#%%\n"
    }
   }
  },
  {
   "cell_type": "code",
   "execution_count": 18,
   "outputs": [],
   "source": [
    "for i in range(0, len(samples)):\n",
    "    plt.plot(samples[i])\n",
    "    plt.savefig('C:/Users/treib/Downloads/plots/' +name+'/plot_'+str(i)+'.png')\n",
    "    plt.close()"
   ],
   "metadata": {
    "collapsed": false,
    "pycharm": {
     "name": "#%%\n"
    }
   }
  },
  {
   "cell_type": "code",
   "execution_count": null,
   "outputs": [],
   "source": [
    "sample = samples[2]\n",
    "plt.plot(sample)\n",
    "plt.show()"
   ],
   "metadata": {
    "collapsed": false,
    "pycharm": {
     "name": "#%%\n"
    }
   }
  },
  {
   "cell_type": "code",
   "execution_count": null,
   "outputs": [],
   "source": [],
   "metadata": {
    "collapsed": false,
    "pycharm": {
     "name": "#%%\n"
    }
   }
  }
 ],
 "metadata": {
  "kernelspec": {
   "display_name": "Python 3",
   "language": "python",
   "name": "python3"
  },
  "language_info": {
   "codemirror_mode": {
    "name": "ipython",
    "version": 2
   },
   "file_extension": ".py",
   "mimetype": "text/x-python",
   "name": "python",
   "nbconvert_exporter": "python",
   "pygments_lexer": "ipython2",
   "version": "2.7.6"
  }
 },
 "nbformat": 4,
 "nbformat_minor": 0
}