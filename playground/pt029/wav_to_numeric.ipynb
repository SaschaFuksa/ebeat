{
 "cells": [
  {
   "cell_type": "code",
   "execution_count": null,
   "metadata": {
    "collapsed": true,
    "pycharm": {
     "name": "#%%\n"
    }
   },
   "outputs": [],
   "source": [
    "import os\n",
    "import pathlib\n",
    "\n",
    "import matplotlib.pyplot as plt\n",
    "import numpy as np\n",
    "import seaborn as sns\n",
    "import tensorflow as tf\n",
    "import librosa.display\n",
    "import librosa\n",
    "\n",
    "from tensorflow.keras import layers\n",
    "from tensorflow.keras import models\n",
    "from IPython import display\n",
    "\n",
    "# Set the seed value for experiment reproducibility.\n",
    "seed = 42\n",
    "tf.random.set_seed(seed)\n",
    "np.random.seed(seed)\n",
    "\n",
    "# load more files with librosa\n",
    "pathAudio = \"C:/Users/treib/Documents/HDM/2. Semester/Technology Lab/Musik/Test/\"\n",
    "files = librosa.util.find_files(pathAudio, ext=['wav'])\n",
    "files = np.asarray(files)\n",
    "A = []\n",
    "for y in files:\n",
    "    test_file = tf.io.read_file(y)\n",
    "    test_audio, _ = tf.audio.decode_wav(contents=test_file)\n",
    "    print(test_audio)\n"
   ]
  },
  {
   "cell_type": "code",
   "execution_count": null,
   "outputs": [],
   "source": [
    "import librosa\n",
    "import pandas as pd\n",
    "import numpy as np\n",
    "\n",
    "\n",
    "y,sr = librosa.load('C:/Users/treib/Documents/HDM/2. Semester/Technology Lab/Musik/Test/Tea K Pea - nauticals_1.wav')\n",
    "\n",
    "df = pd.DataFrame(y, columns=['Amplitude'])\n",
    "\n",
    "df.index = [(1/sr)*i for i in range(len(df.index))]\n",
    "\n",
    "y = np.mean(y)\n",
    "\n",
    "\n",
    "\n",
    "df[0:1]\n",
    "\n",
    "\n",
    "#https://stackoverflow.com/questions/62261039/how-can-i-get-a-dataframe-of-frequency-and-time-from-a-wav-file-in-python"
   ],
   "metadata": {
    "collapsed": false,
    "pycharm": {
     "name": "#%%\n"
    }
   }
  }
 ],
 "metadata": {
  "kernelspec": {
   "display_name": "Python 3",
   "language": "python",
   "name": "python3"
  },
  "language_info": {
   "codemirror_mode": {
    "name": "ipython",
    "version": 2
   },
   "file_extension": ".py",
   "mimetype": "text/x-python",
   "name": "python",
   "nbconvert_exporter": "python",
   "pygments_lexer": "ipython2",
   "version": "2.7.6"
  }
 },
 "nbformat": 4,
 "nbformat_minor": 0
}