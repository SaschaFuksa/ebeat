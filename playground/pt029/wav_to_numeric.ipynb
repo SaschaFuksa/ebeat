{
 "cells": [
  {
   "cell_type": "code",
   "execution_count": null,
   "metadata": {
    "collapsed": true
   },
   "outputs": [],
   "source": [
    "import os\n",
    "import pathlib\n",
    "\n",
    "import matplotlib.pyplot as plt\n",
    "import numpy as np\n",
    "import seaborn as sns\n",
    "import tensorflow as tf\n",
    "import librosa.display\n",
    "import librosa\n",
    "\n",
    "from tensorflow.keras import layers\n",
    "from tensorflow.keras import models\n",
    "from IPython import display\n",
    "\n",
    "# Set the seed value for experiment reproducibility.\n",
    "seed = 42\n",
    "tf.random.set_seed(seed)\n",
    "np.random.seed(seed)\n",
    "\n",
    "# load more files with librosa\n",
    "pathAudio = \"C:/Users/treib/Documents/HDM/2. Semester/Technology Lab/Musik/Test/\"\n",
    "files = librosa.util.find_files(pathAudio, ext=['wav'])\n",
    "files = np.asarray(files)\n",
    "A = []\n",
    "for y in files:\n",
    "    test_file = tf.io.read_file(y)\n",
    "    test_audio, _ = tf.audio.decode_wav(contents=test_file)\n",
    "    print(test_audio)\n",
    "\n"
   ]
  }
 ],
 "metadata": {
  "kernelspec": {
   "display_name": "Python 3",
   "language": "python",
   "name": "python3"
  },
  "language_info": {
   "codemirror_mode": {
    "name": "ipython",
    "version": 2
   },
   "file_extension": ".py",
   "mimetype": "text/x-python",
   "name": "python",
   "nbconvert_exporter": "python",
   "pygments_lexer": "ipython2",
   "version": "2.7.6"
  }
 },
 "nbformat": 4,
 "nbformat_minor": 0
}