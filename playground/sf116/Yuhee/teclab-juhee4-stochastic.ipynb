{
 "cells": [
  {
   "cell_type": "code",
   "execution_count": 1,
   "metadata": {
    "collapsed": true
   },
   "outputs": [
    {
     "name": "stderr",
     "output_type": "stream",
     "text": [
      "d:\\program files\\jetbrains\\ideaprojects\\ebeat\\venv\\lib\\site-packages\\pydub\\utils.py:165: RuntimeWarning: Couldn't find ffmpeg or avconv - defaulting to ffmpeg, but may not work\n",
      "  warn(\"Couldn't find ffmpeg or avconv - defaulting to ffmpeg, but may not work\", RuntimeWarning)\n"
     ]
    }
   ],
   "source": [
    "import librosa\n",
    "import numpy as np\n",
    "from pydub import AudioSegment\n",
    "from sklearn import preprocessing\n",
    "from matplotlib import pyplot as plt\n",
    "from scipy import signal\n",
    "import pandas as pd"
   ]
  },
  {
   "cell_type": "code",
   "execution_count": 2,
   "outputs": [],
   "source": [
    "pathAudio = 'C:/Users/Admin/Downloads/Technology Lab/sampling/train-stochastic/'\n",
    "files = librosa.util.find_files(pathAudio, ext=['wav'])\n",
    "files = sorted(files, key=lambda x: int(x.split('_')[-1].split(\".\")[0]))"
   ],
   "metadata": {
    "collapsed": false,
    "pycharm": {
     "name": "#%%\n"
    }
   }
  },
  {
   "cell_type": "code",
   "execution_count": 5,
   "outputs": [
    {
     "data": {
      "text/plain": "'Tea K Pea - nauticals_1.wav'"
     },
     "execution_count": 5,
     "metadata": {},
     "output_type": "execute_result"
    }
   ],
   "source": [
    "import os\n",
    "os.path.basename(files[0])"
   ],
   "metadata": {
    "collapsed": false,
    "pycharm": {
     "name": "#%%\n"
    }
   }
  },
  {
   "cell_type": "code",
   "execution_count": 6,
   "outputs": [
    {
     "data": {
      "text/plain": "'Tea K Pea - nauticals_1'"
     },
     "execution_count": 6,
     "metadata": {},
     "output_type": "execute_result"
    }
   ],
   "source": [
    "from pathlib import Path\n",
    "\n",
    "Path(files[0]).stem"
   ],
   "metadata": {
    "collapsed": false,
    "pycharm": {
     "name": "#%%\n"
    }
   }
  },
  {
   "cell_type": "code",
   "execution_count": null,
   "outputs": [],
   "source": [
    "samples = []\n",
    "max_len = 0\n",
    "for file_name in files:\n",
    "    song, sr = librosa.load(file_name)\n",
    "    resampled_part = signal.resample(song, int(len(song)/15))\n",
    "    max_len += len(resampled_part)\n",
    "    samples.append(resampled_part)\n",
    "max_len"
   ],
   "metadata": {
    "collapsed": false,
    "pycharm": {
     "name": "#%%\n"
    }
   }
  },
  {
   "cell_type": "code",
   "execution_count": 43,
   "outputs": [
    {
     "name": "stderr",
     "output_type": "stream",
     "text": [
      "C:\\Users\\Admin\\AppData\\Local\\Temp\\ipykernel_15864\\2919224953.py:1: VisibleDeprecationWarning: Creating an ndarray from ragged nested sequences (which is a list-or-tuple of lists-or-tuples-or ndarrays with different lengths or shapes) is deprecated. If you meant to do this, you must specify 'dtype=object' when creating the ndarray.\n",
      "  samples = np.array(samples)\n"
     ]
    }
   ],
   "source": [
    "samples = np.array(samples)\n",
    "full_song = []\n",
    "for sample in samples:\n",
    "    full_song.extend(sample)"
   ],
   "metadata": {
    "collapsed": false,
    "pycharm": {
     "name": "#%%\n"
    }
   }
  },
  {
   "cell_type": "code",
   "execution_count": 45,
   "outputs": [
    {
     "data": {
      "text/plain": "(326330,)"
     },
     "execution_count": 45,
     "metadata": {},
     "output_type": "execute_result"
    }
   ],
   "source": [
    "full_song = np.array(full_song)\n",
    "full_song.shape"
   ],
   "metadata": {
    "collapsed": false,
    "pycharm": {
     "name": "#%%\n"
    }
   }
  },
  {
   "cell_type": "code",
   "execution_count": 51,
   "outputs": [
    {
     "data": {
      "text/plain": "<Figure size 432x288 with 1 Axes>",
      "image/png": "[encoded data removed]"
     },
     "metadata": {
      "needs_background": "light"
     },
     "output_type": "display_data"
    }
   ],
   "source": [
    "plt.plot(full_song[:100000])\n",
    "plt.show()"
   ],
   "metadata": {
    "collapsed": false,
    "pycharm": {
     "name": "#%%\n"
    }
   }
  },
  {
   "cell_type": "code",
   "execution_count": 50,
   "outputs": [
    {
     "data": {
      "text/plain": "         actual\n0     -0.022670\n1      0.006272\n2     -0.003801\n3      0.002728\n4     -0.002127\n...         ...\n99995  0.470886\n99996  0.551510\n99997  0.206552\n99998  0.136482\n99999  0.264821\n\n[100000 rows x 1 columns]",
      "text/html": "<div>\n<style scoped>\n    .dataframe tbody tr th:only-of-type {\n        vertical-align: middle;\n    }\n\n    .dataframe tbody tr th {\n        vertical-align: top;\n    }\n\n    .dataframe thead th {\n        text-align: right;\n    }\n</style>\n<table border=\"1\" class=\"dataframe\">\n  <thead>\n    <tr style=\"text-align: right;\">\n      <th></th>\n      <th>actual</th>\n    </tr>\n  </thead>\n  <tbody>\n    <tr>\n      <th>0</th>\n      <td>-0.022670</td>\n    </tr>\n    <tr>\n      <th>1</th>\n      <td>0.006272</td>\n    </tr>\n    <tr>\n      <th>2</th>\n      <td>-0.003801</td>\n    </tr>\n    <tr>\n      <th>3</th>\n      <td>0.002728</td>\n    </tr>\n    <tr>\n      <th>4</th>\n      <td>-0.002127</td>\n    </tr>\n    <tr>\n      <th>...</th>\n      <td>...</td>\n    </tr>\n    <tr>\n      <th>99995</th>\n      <td>0.470886</td>\n    </tr>\n    <tr>\n      <th>99996</th>\n      <td>0.551510</td>\n    </tr>\n    <tr>\n      <th>99997</th>\n      <td>0.206552</td>\n    </tr>\n    <tr>\n      <th>99998</th>\n      <td>0.136482</td>\n    </tr>\n    <tr>\n      <th>99999</th>\n      <td>0.264821</td>\n    </tr>\n  </tbody>\n</table>\n<p>100000 rows × 1 columns</p>\n</div>"
     },
     "execution_count": 50,
     "metadata": {},
     "output_type": "execute_result"
    }
   ],
   "source": [
    "frami = pd.DataFrame(columns=['actual'], data=full_song[:100000])\n",
    "frami"
   ],
   "metadata": {
    "collapsed": false,
    "pycharm": {
     "name": "#%%\n"
    }
   }
  },
  {
   "cell_type": "code",
   "execution_count": 7,
   "outputs": [],
   "source": [
    "prev_batch_size = 880 * 2\n",
    "next_batch_size = 60\n",
    "sum_batch_size = prev_batch_size+next_batch_size\n",
    "X = []\n",
    "Y = []\n",
    "for i in range(0, len(samples)-prev_batch_size):\n",
    "    if i < len(samples)-sum_batch_size:\n",
    "        Y.append(samples[i+prev_batch_size:i+sum_batch_size])\n",
    "        X.append(np.array(samples[i:i+prev_batch_size]))"
   ],
   "metadata": {
    "collapsed": false,
    "pycharm": {
     "name": "#%%\n"
    }
   }
  },
  {
   "cell_type": "code",
   "execution_count": 8,
   "outputs": [],
   "source": [
    "X = np.array(X).reshape(-1, prev_batch_size, 1)\n",
    "Y = np.array(Y).reshape(-1, next_batch_size)"
   ],
   "metadata": {
    "collapsed": false,
    "pycharm": {
     "name": "#%%\n"
    }
   }
  },
  {
   "cell_type": "code",
   "execution_count": 9,
   "outputs": [
    {
     "data": {
      "text/plain": "(193984, 1760, 1)"
     },
     "execution_count": 9,
     "metadata": {},
     "output_type": "execute_result"
    }
   ],
   "source": [
    "X.shape"
   ],
   "metadata": {
    "collapsed": false,
    "pycharm": {
     "name": "#%%\n"
    }
   }
  },
  {
   "cell_type": "code",
   "execution_count": 10,
   "outputs": [
    {
     "data": {
      "text/plain": "(193984, 60)"
     },
     "execution_count": 10,
     "metadata": {},
     "output_type": "execute_result"
    }
   ],
   "source": [
    "Y.shape"
   ],
   "metadata": {
    "collapsed": false,
    "pycharm": {
     "name": "#%%\n"
    }
   }
  },
  {
   "cell_type": "code",
   "execution_count": 75,
   "outputs": [
    {
     "name": "stdout",
     "output_type": "stream",
     "text": [
      "Model: \"sequential_1\"\n",
      "_________________________________________________________________\n",
      " Layer (type)                Output Shape              Param #   \n",
      "=================================================================\n",
      " conv1d_1 (Conv1D)           (None, 761, 20)           20020     \n",
      "                                                                 \n",
      " max_pooling1d_1 (MaxPooling  (None, 376, 20)          0         \n",
      " 1D)                                                             \n",
      "                                                                 \n",
      " reshape_1 (Reshape)         (None, 1, 376, 20)        0         \n",
      "                                                                 \n",
      " conv_lstm1d_1 (ConvLSTM1D)  (None, 277, 100)          4800400   \n",
      "                                                                 \n",
      " lstm_1 (LSTM)               (None, 100)               80400     \n",
      "                                                                 \n",
      " dense_1 (Dense)             (None, 60)                6060      \n",
      "                                                                 \n",
      "=================================================================\n",
      "Total params: 4,906,880\n",
      "Trainable params: 4,906,880\n",
      "Non-trainable params: 0\n",
      "_________________________________________________________________\n"
     ]
    }
   ],
   "source": [
    "from keras.layers import LSTM, Dense, Conv1D, MaxPool1D, ConvLSTM1D, Reshape\n",
    "from keras.models import  Sequential\n",
    "\n",
    "model = Sequential()\n",
    "model.add(Conv1D(filters=20, kernel_size=1000, input_shape=(1760, 1)))\n",
    "model.add(MaxPool1D(pool_size=10, strides=5))\n",
    "model.add(LSTM(100, activation='sigmoid'))\n",
    "model.add(Dense(60))\n",
    "'''model = Sequential()\n",
    "model.add(Conv1D(filters=20, kernel_size=1000, input_shape=(1760, 1)))\n",
    "model.add(MaxPool1D(pool_size=10, strides=2))\n",
    "model.add(Reshape((-1, 376, 20)))\n",
    "model.add(ConvLSTM1D(filters=100, kernel_size=100))\n",
    "model.add(LSTM(100, activation='sigmoid'))\n",
    "model.add(Dense(60))'''\n",
    "\n",
    "model.compile(optimizer='rmsprop', loss='mse')\n",
    "model.summary()"
   ],
   "metadata": {
    "collapsed": false,
    "pycharm": {
     "name": "#%%\n"
    }
   }
  },
  {
   "cell_type": "code",
   "execution_count": 12,
   "outputs": [
    {
     "name": "stdout",
     "output_type": "stream",
     "text": [
      "You must install pydot (`pip install pydot`) and install graphviz (see instructions at https://graphviz.gitlab.io/download/) for plot_model/model_to_dot to work.\n"
     ]
    }
   ],
   "source": [
    "from keras.utils.vis_utils import plot_model\n",
    "plot_model(model, to_file='model_plot.png', show_shapes=True, show_layer_names=True)"
   ],
   "metadata": {
    "collapsed": false,
    "pycharm": {
     "name": "#%%\n"
    }
   }
  },
  {
   "cell_type": "code",
   "execution_count": 77,
   "outputs": [
    {
     "name": "stdout",
     "output_type": "stream",
     "text": [
      "6062/6062 [==============================] - 6304s 1s/step - loss: 0.0244\n"
     ]
    },
    {
     "data": {
      "text/plain": "<keras.callbacks.History at 0x208a6f0b1f0>"
     },
     "execution_count": 77,
     "metadata": {},
     "output_type": "execute_result"
    }
   ],
   "source": [
    "model.fit(X, Y, epochs=1)"
   ],
   "metadata": {
    "collapsed": false,
    "pycharm": {
     "name": "#%%\n"
    }
   }
  },
  {
   "cell_type": "code",
   "execution_count": 20,
   "outputs": [],
   "source": [
    "filename = 'model_weights.h5'\n",
    "model.save(filename)"
   ],
   "metadata": {
    "collapsed": false,
    "pycharm": {
     "name": "#%%\n"
    }
   }
  },
  {
   "cell_type": "code",
   "execution_count": 83,
   "outputs": [
    {
     "data": {
      "text/plain": "<Figure size 432x288 with 1 Axes>",
      "image/png": "[encoded data removed]"
     },
     "metadata": {
      "needs_background": "light"
     },
     "output_type": "display_data"
    }
   ],
   "source": [
    "nr = 150000\n",
    "plt.plot(X[nr+1].reshape(prev_batch_size, 1)[:100])\n",
    "plt.show()"
   ],
   "metadata": {
    "collapsed": false,
    "pycharm": {
     "name": "#%%\n"
    }
   }
  },
  {
   "cell_type": "code",
   "execution_count": 84,
   "outputs": [
    {
     "data": {
      "text/plain": "(1, 1760, 1)"
     },
     "execution_count": 84,
     "metadata": {},
     "output_type": "execute_result"
    }
   ],
   "source": [
    "'''example = X[11000].reshape(1, 1, 1760, 1)'''\n",
    "example = X[400]\n",
    "example = example.reshape(1, 1760, 1)\n",
    "example.shape"
   ],
   "metadata": {
    "collapsed": false,
    "pycharm": {
     "name": "#%%\n"
    }
   }
  },
  {
   "cell_type": "code",
   "execution_count": 85,
   "outputs": [
    {
     "data": {
      "text/plain": "array([[[0.48085076],\n        [0.44617801],\n        [0.46914805],\n        ...,\n        [0.42117336],\n        [0.53303153],\n        [0.51569551]]])"
     },
     "execution_count": 85,
     "metadata": {},
     "output_type": "execute_result"
    }
   ],
   "source": [
    "'''pred = model.predict(example)'''\n",
    "pred = model.predict(example)\n",
    "example"
   ],
   "metadata": {
    "collapsed": false,
    "pycharm": {
     "name": "#%%\n"
    }
   }
  },
  {
   "cell_type": "code",
   "execution_count": 86,
   "outputs": [
    {
     "data": {
      "text/plain": "<Figure size 432x288 with 1 Axes>",
      "image/png": "[encoded data removed]"
     },
     "metadata": {
      "needs_background": "light"
     },
     "output_type": "display_data"
    }
   ],
   "source": [
    "plt.plot(pred[0])\n",
    "plt.show()"
   ],
   "metadata": {
    "collapsed": false,
    "pycharm": {
     "name": "#%%\n"
    }
   }
  },
  {
   "cell_type": "code",
   "execution_count": 18,
   "outputs": [],
   "source": [],
   "metadata": {
    "collapsed": false,
    "pycharm": {
     "name": "#%%\n"
    }
   }
  }
 ],
 "metadata": {
  "kernelspec": {
   "display_name": "Python 3",
   "language": "python",
   "name": "python3"
  },
  "language_info": {
   "codemirror_mode": {
    "name": "ipython",
    "version": 2
   },
   "file_extension": ".py",
   "mimetype": "text/x-python",
   "name": "python",
   "nbconvert_exporter": "python",
   "pygments_lexer": "ipython2",
   "version": "2.7.6"
  }
 },
 "nbformat": 4,
 "nbformat_minor": 0
}