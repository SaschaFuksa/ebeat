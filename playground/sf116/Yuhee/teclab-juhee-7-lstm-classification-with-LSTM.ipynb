{
 "cells": [
  {
   "cell_type": "code",
   "execution_count": 133,
   "id": "2052319e-e85d-4361-b060-52884246b08e",
   "metadata": {},
   "outputs": [],
   "source": [
    "import os\n",
    "\n",
    "import librosa\n",
    "import numpy as np\n",
    "from keras.layers import Dense\n",
    "from keras.models import Sequential\n",
    "from matplotlib import pyplot as plt\n",
    "from pydub import AudioSegment\n",
    "from scipy import signal\n",
    "from sklearn import preprocessing"
   ]
  },
  {
   "cell_type": "code",
   "execution_count": 134,
   "id": "4abb4ec0-273b-4150-bbfd-791ff14df2bd",
   "metadata": {},
   "outputs": [],
   "source": [
    "pathAudio = 'C:/Users/Admin/OneDrive/Dokumente/Studium/Technology Lab/Technology Lab Team 4/Techno Titel/train-stochastic/samples/'\n",
    "files = librosa.util.find_files(pathAudio, ext=['mp3'])\n",
    "files = sorted(files, key=lambda x: int(x.split('_')[-1].split(\".\")[0]))"
   ]
  },
  {
   "cell_type": "code",
   "execution_count": 136,
   "id": "9db0918b-2753-4f15-9123-a6753f9a120c",
   "metadata": {},
   "outputs": [],
   "source": [
    "def normalize_sample(sample):\n",
    "    array_of_samples = sample.get_array_of_samples()\n",
    "    np_arr = np.array(array_of_samples)\n",
    "    np_arr = np_arr.reshape(1, -1)\n",
    "    return preprocessing.normalize(np_arr)\n",
    "\n",
    "samples = []\n",
    "samples_sec_canal = []\n",
    "for file_name in files:\n",
    "    sample = AudioSegment.from_mp3(file_name)\n",
    "    mono_samples = sample.split_to_mono()\n",
    "    normalized_sample = normalize_sample(mono_samples[0])[0]\n",
    "    resampled_sample = signal.resample(normalized_sample, 1000)\n",
    "    samples.append(resampled_sample)\n",
    "    normalized_sample_sec_canal = normalize_sample(mono_samples[1])[0]\n",
    "    resampled_sample_sec_canal = signal.resample(normalized_sample_sec_canal, 1000)\n",
    "    samples_sec_canal.append(resampled_sample_sec_canal)"
   ]
  },
  {
   "cell_type": "code",
   "execution_count": 137,
   "id": "21c8e94f-6997-49eb-91b7-c08285b1869c",
   "metadata": {},
   "outputs": [],
   "source": [
    "X_train = []\n",
    "Y_train = []\n",
    "for i in range(len(samples)):\n",
    "    Y_train.append(i)\n",
    "    if i < len(samples) - 1:\n",
    "        x = list(samples[i])\n",
    "        y = list(samples[i + 1])\n",
    "        z = x + y\n",
    "        X_train.append(z)\n",
    "    else:\n",
    "        x = list(samples[i])\n",
    "        y = list(samples[0])\n",
    "        z = x + y\n",
    "        X_train.append(z)"
   ]
  },
  {
   "cell_type": "code",
   "execution_count": 138,
   "id": "8e004b76-5aa3-493f-b6e4-35347d681fb4",
   "metadata": {},
   "outputs": [],
   "source": [
    "from numpy import random\n",
    "\n",
    "X_train_false = []\n",
    "\n",
    "\n",
    "def get_strange_end_part(samples, current_index, max_len):\n",
    "    x = random.randint(max_len)\n",
    "    if x != current_index:\n",
    "        return samples[x]\n",
    "    else:\n",
    "        return get_strange_end_part(samples, current_index, max_len)\n",
    "\n",
    "\n",
    "for i in range(len(samples)):\n",
    "    first_half = samples[i]\n",
    "    last_half = get_strange_end_part(samples, i, len(samples))\n",
    "    new_sample = list(first_half) + list(last_half)\n",
    "    X_train_false.append(new_sample)"
   ]
  },
  {
   "cell_type": "code",
   "execution_count": 139,
   "id": "ef426dc4-fc40-4f9d-95a3-2273e035ce8d",
   "metadata": {},
   "outputs": [],
   "source": [
    "X_train = np.array(X_train)\n",
    "X_train = X_train.reshape(-1, 2000)"
   ]
  },
  {
   "cell_type": "code",
   "execution_count": 140,
   "id": "f648a8f5-d9f6-4a47-b770-2c195d75e013",
   "metadata": {},
   "outputs": [
    {
     "data": {
      "text/plain": "array([[1., 0., 0., ..., 0., 0., 0.],\n       [0., 1., 0., ..., 0., 0., 0.],\n       [0., 0., 1., ..., 0., 0., 0.],\n       ...,\n       [0., 0., 0., ..., 1., 0., 0.],\n       [0., 0., 0., ..., 0., 1., 0.],\n       [0., 0., 0., ..., 0., 0., 1.]], dtype=float32)"
     },
     "execution_count": 140,
     "metadata": {},
     "output_type": "execute_result"
    }
   ],
   "source": [
    "from keras.utils.np_utils  import to_categorical\n",
    "\n",
    "Y_train = to_categorical(Y_train)"
   ]
  },
  {
   "cell_type": "code",
   "execution_count": 141,
   "id": "a38c41a0-a694-41d2-b07b-5885e910f076",
   "metadata": {},
   "outputs": [
    {
     "data": {
      "text/plain": "(151, 151)"
     },
     "execution_count": 141,
     "metadata": {},
     "output_type": "execute_result"
    }
   ],
   "source": [
    "Y_train = np.array(Y_train)\n",
    "Y_train.shape"
   ]
  },
  {
   "cell_type": "code",
   "execution_count": 167,
   "outputs": [
    {
     "data": {
      "text/plain": "(151, 1, 2000)"
     },
     "execution_count": 167,
     "metadata": {},
     "output_type": "execute_result"
    }
   ],
   "source": [
    "X_train = X_train.reshape(-1, 1, 2000)\n",
    "X_train.shape"
   ],
   "metadata": {
    "collapsed": false,
    "pycharm": {
     "name": "#%%\n"
    }
   }
  },
  {
   "cell_type": "code",
   "execution_count": 200,
   "id": "be7b70bc-96be-4a21-9841-9e573ee32846",
   "metadata": {},
   "outputs": [
    {
     "name": "stdout",
     "output_type": "stream",
     "text": [
      "Model: \"sequential_42\"\n",
      "_________________________________________________________________\n",
      " Layer (type)                Output Shape              Param #   \n",
      "=================================================================\n",
      " conv1d_26 (Conv1D)          (None, 2000, 10)          20        \n",
      "                                                                 \n",
      " lstm_40 (LSTM)              (None, 2000, 20)          2480      \n",
      "                                                                 \n",
      " dense_61 (Dense)            (None, 2000, 100)         2100      \n",
      "                                                                 \n",
      " flatten_17 (Flatten)        (None, 200000)            0         \n",
      "                                                                 \n",
      " dense_62 (Dense)            (None, 151)               30200151  \n",
      "                                                                 \n",
      "=================================================================\n",
      "Total params: 30,204,751\n",
      "Trainable params: 30,204,751\n",
      "Non-trainable params: 0\n",
      "_________________________________________________________________\n"
     ]
    }
   ],
   "source": [
    "from keras.layers import Conv1D, Softmax, LSTM, MaxPool1D, Reshape, Flatten\n",
    "\n",
    "model = Sequential()\n",
    "'''model.add(Conv1D(filters=10, kernel_size=1, input_shape=(2000, 1)))\n",
    "model.add(MaxPool1D(pool_size=2, strides=2))\n",
    "model.add(Softmax())\n",
    "model.add(Dense(100))\n",
    "model.add(LSTM(4, activation='sigmoid', return_sequences=True))\n",
    "model.add(Dense(100, activation='sigmoid'))\n",
    "model.add(Flatten())\n",
    "model.add(Softmax())\n",
    "model.add(Dense(151))'''\n",
    "model.add(LSTM(20, input_shape=(1, 2000), return_sequences=True))\n",
    "model.add(Dense(100))\n",
    "model.add(Flatten())\n",
    "model.add(Dense(151, activation='sigmoid'))\n",
    "\n",
    "model.compile(optimizer='rmsprop', loss='categorical_crossentropy', metrics=['accuracy'])\n",
    "#model.compile(optimizer='rmsprop', loss='binary_crossentropy', metrics=['accuracy'])\n",
    "model.summary()"
   ]
  },
  {
   "cell_type": "code",
   "execution_count": 203,
   "id": "e324359e-4308-47ac-9af4-589a2eb41274",
   "metadata": {},
   "outputs": [
    {
     "name": "stdout",
     "output_type": "stream",
     "text": [
      "Epoch 1/200\n"
     ]
    },
    {
     "ename": "ValueError",
     "evalue": "Creating variables on a non-first call to a function decorated with tf.function.",
     "output_type": "error",
     "traceback": [
      "\u001B[1;31m---------------------------------------------------------------------------\u001B[0m",
      "\u001B[1;31mValueError\u001B[0m                                Traceback (most recent call last)",
      "Input \u001B[1;32mIn [203]\u001B[0m, in \u001B[0;36m<cell line: 1>\u001B[1;34m()\u001B[0m\n\u001B[1;32m----> 1\u001B[0m \u001B[43mmodel\u001B[49m\u001B[38;5;241;43m.\u001B[39;49m\u001B[43mfit\u001B[49m\u001B[43m(\u001B[49m\u001B[43mX_train\u001B[49m\u001B[43m,\u001B[49m\u001B[43m \u001B[49m\u001B[43mY_train\u001B[49m\u001B[43m,\u001B[49m\u001B[43m \u001B[49m\u001B[43mepochs\u001B[49m\u001B[38;5;241;43m=\u001B[39;49m\u001B[38;5;241;43m200\u001B[39;49m\u001B[43m)\u001B[49m\n",
      "File \u001B[1;32md:\\program files\\jetbrains\\ideaprojects\\ebeat\\venv\\lib\\site-packages\\keras\\utils\\traceback_utils.py:67\u001B[0m, in \u001B[0;36mfilter_traceback.<locals>.error_handler\u001B[1;34m(*args, **kwargs)\u001B[0m\n\u001B[0;32m     65\u001B[0m \u001B[38;5;28;01mexcept\u001B[39;00m \u001B[38;5;167;01mException\u001B[39;00m \u001B[38;5;28;01mas\u001B[39;00m e:  \u001B[38;5;66;03m# pylint: disable=broad-except\u001B[39;00m\n\u001B[0;32m     66\u001B[0m   filtered_tb \u001B[38;5;241m=\u001B[39m _process_traceback_frames(e\u001B[38;5;241m.\u001B[39m__traceback__)\n\u001B[1;32m---> 67\u001B[0m   \u001B[38;5;28;01mraise\u001B[39;00m e\u001B[38;5;241m.\u001B[39mwith_traceback(filtered_tb) \u001B[38;5;28;01mfrom\u001B[39;00m \u001B[38;5;28mNone\u001B[39m\n\u001B[0;32m     68\u001B[0m \u001B[38;5;28;01mfinally\u001B[39;00m:\n\u001B[0;32m     69\u001B[0m   \u001B[38;5;28;01mdel\u001B[39;00m filtered_tb\n",
      "File \u001B[1;32md:\\program files\\jetbrains\\ideaprojects\\ebeat\\venv\\lib\\site-packages\\tensorflow\\python\\eager\\def_function.py:956\u001B[0m, in \u001B[0;36mFunction._call\u001B[1;34m(self, *args, **kwds)\u001B[0m\n\u001B[0;32m    954\u001B[0m   results \u001B[38;5;241m=\u001B[39m \u001B[38;5;28mself\u001B[39m\u001B[38;5;241m.\u001B[39m_stateful_fn(\u001B[38;5;241m*\u001B[39margs, \u001B[38;5;241m*\u001B[39m\u001B[38;5;241m*\u001B[39mkwds)\n\u001B[0;32m    955\u001B[0m   \u001B[38;5;28;01mif\u001B[39;00m \u001B[38;5;28mself\u001B[39m\u001B[38;5;241m.\u001B[39m_created_variables \u001B[38;5;129;01mand\u001B[39;00m \u001B[38;5;129;01mnot\u001B[39;00m ALLOW_DYNAMIC_VARIABLE_CREATION:\n\u001B[1;32m--> 956\u001B[0m     \u001B[38;5;28;01mraise\u001B[39;00m \u001B[38;5;167;01mValueError\u001B[39;00m(\u001B[38;5;124m\"\u001B[39m\u001B[38;5;124mCreating variables on a non-first call to a function\u001B[39m\u001B[38;5;124m\"\u001B[39m\n\u001B[0;32m    957\u001B[0m                      \u001B[38;5;124m\"\u001B[39m\u001B[38;5;124m decorated with tf.function.\u001B[39m\u001B[38;5;124m\"\u001B[39m)\n\u001B[0;32m    958\u001B[0m   \u001B[38;5;28;01mreturn\u001B[39;00m results\n\u001B[0;32m    960\u001B[0m \u001B[38;5;28;01mtry\u001B[39;00m:\n\u001B[0;32m    961\u001B[0m   \u001B[38;5;66;03m# This is the first call of __call__, so we have to initialize.\u001B[39;00m\n",
      "\u001B[1;31mValueError\u001B[0m: Creating variables on a non-first call to a function decorated with tf.function."
     ]
    }
   ],
   "source": [
    "model.fit(X_train, Y_train, epochs=200)"
   ]
  },
  {
   "cell_type": "code",
   "execution_count": 195,
   "id": "0edac5d1-eadf-4a50-90f2-c806152ea34a",
   "metadata": {},
   "outputs": [
    {
     "data": {
      "text/plain": "array([[5.05625358e-05, 2.82317400e-04, 9.99323249e-01, 3.45159242e-05,\n        9.57813859e-03, 1.00000000e+00, 1.28835440e-04, 8.49342108e-01,\n        9.88341808e-01, 2.51853466e-03, 9.09791231e-01, 1.17054582e-03,\n        8.87838900e-02, 9.99914885e-01, 7.85807610e-01, 1.52786463e-01,\n        8.93168926e-01, 9.98165011e-01, 7.81987011e-02, 9.99992728e-01,\n        7.94561929e-05, 9.95200932e-01, 8.12252462e-02, 4.04659837e-01,\n        1.86641216e-02, 1.93655842e-06, 3.22435647e-01, 4.12814975e-01,\n        1.72695190e-01, 9.95992780e-01, 9.36102867e-03, 8.50912273e-01,\n        8.85794044e-01, 2.24303901e-02, 9.67413187e-04, 3.45869660e-02,\n        3.70919347e-01, 1.12557411e-03, 9.32070613e-03, 3.34531069e-04,\n        6.54548407e-04, 7.33443797e-02, 5.14367640e-01, 8.80693972e-01,\n        2.03669071e-04, 1.15839175e-04, 8.95518661e-01, 9.99911547e-01,\n        6.39017522e-01, 7.56853842e-06, 8.81066442e-01, 9.99989510e-01,\n        4.20212746e-04, 4.54809368e-02, 8.83272946e-01, 6.86312234e-08,\n        6.05597108e-07, 5.76138079e-01, 4.85222340e-02, 1.87653022e-05,\n        8.91262293e-03, 3.14205885e-04, 9.66200829e-01, 1.41141713e-01,\n        9.99295473e-01, 9.22804177e-01, 9.98995900e-01, 9.93665457e-01,\n        9.83886421e-01, 9.89610314e-01, 9.98756409e-01, 9.99924898e-01,\n        3.06016207e-03, 5.84277927e-07, 2.12195516e-03, 7.57300556e-02,\n        9.99910474e-01, 2.31879950e-03, 3.50220581e-08, 2.46414542e-03,\n        1.83576345e-03, 9.96153057e-01, 8.55928719e-01, 1.40537769e-01,\n        5.53562700e-07, 9.87676144e-01, 9.94212151e-01, 1.53652563e-05,\n        3.78668308e-04, 2.95132697e-02, 9.99435186e-01, 9.90860879e-01,\n        2.60811388e-01, 8.70051980e-02, 9.97614384e-01, 4.30827320e-01,\n        9.99582529e-01, 5.47269464e-01, 9.66595531e-01, 1.40970678e-06,\n        3.08122933e-02, 1.78563595e-03, 9.47690845e-01, 4.48572636e-03,\n        9.97965932e-01, 9.46666837e-01, 2.74270773e-03, 9.98160064e-01,\n        9.89360034e-01, 9.22839463e-01, 5.48133850e-02, 9.99956965e-01,\n        7.28927135e-01, 9.98762012e-01, 7.47952754e-06, 5.55573702e-02,\n        1.46328330e-01, 1.58583790e-01, 2.55525112e-04, 9.98150706e-01,\n        5.18090530e-07, 2.37407785e-05, 4.08807397e-03, 7.84339547e-01,\n        3.41266394e-04, 4.53925133e-03, 5.93389314e-06, 2.33814120e-03,\n        1.15424395e-03, 2.17318535e-04, 1.15429163e-02, 9.99962807e-01,\n        6.71046495e-01, 4.95588779e-03, 9.68649387e-01, 9.98353124e-01,\n        8.15904975e-01, 9.97166753e-01, 9.96856451e-01, 1.77347958e-02,\n        9.77681875e-01, 9.99880314e-01, 9.98438239e-01, 1.15628541e-01,\n        9.06327546e-01, 1.39719248e-03, 9.98871088e-01, 1.28060665e-05,\n        2.78688043e-01, 9.46692705e-01, 3.99291515e-03]], dtype=float32)"
     },
     "execution_count": 195,
     "metadata": {},
     "output_type": "execute_result"
    }
   ],
   "source": [
    "example_x_train = X_train[5]\n",
    "example_x_train = example_x_train.reshape(1, 1, 2000)\n",
    "model.predict(example_x_train)"
   ]
  },
  {
   "cell_type": "code",
   "execution_count": 196,
   "id": "adf8bd29-caeb-4303-b654-c8cf65b249f2",
   "metadata": {},
   "outputs": [
    {
     "data": {
      "text/plain": "array([[2.89460421e-02, 3.13639641e-04, 7.85211265e-01, 6.73353672e-04,\n        2.93140765e-05, 8.52014184e-01, 8.96869540e-01, 1.00000000e+00,\n        9.99979615e-01, 4.11242247e-04, 9.31499720e-01, 9.99303341e-01,\n        9.00250793e-01, 6.70967817e-01, 5.20766946e-07, 9.98807251e-01,\n        9.97382164e-01, 9.99065518e-01, 8.92190695e-01, 9.32662845e-01,\n        9.99639750e-01, 2.05895305e-03, 9.99941409e-01, 1.06878012e-01,\n        5.85072803e-06, 7.68547654e-01, 7.30983317e-01, 2.15589732e-01,\n        7.73084164e-03, 9.92666602e-01, 3.19123060e-01, 1.00177228e-02,\n        3.44416112e-05, 4.88139838e-01, 9.79641259e-01, 8.00197482e-01,\n        5.78889251e-03, 3.53327394e-03, 8.74279022e-01, 9.56257343e-01,\n        8.29092264e-02, 1.80909038e-03, 9.99931216e-01, 9.97920573e-01,\n        7.26963282e-02, 3.18787664e-01, 9.99980509e-01, 1.06116802e-01,\n        8.12076569e-01, 3.69116634e-01, 2.84808874e-03, 5.09186089e-02,\n        9.99935687e-01, 9.84859943e-01, 1.95307910e-01, 2.02557445e-03,\n        6.10104203e-03, 2.51771212e-01, 1.45027041e-03, 5.21542490e-01,\n        9.99733150e-01, 9.05629575e-01, 2.27740407e-03, 5.08236289e-02,\n        9.99505699e-01, 9.99233603e-01, 1.06570125e-03, 9.99250412e-01,\n        2.95028090e-03, 1.52523518e-02, 9.75104690e-01, 9.99072433e-01,\n        6.67420328e-02, 3.50385904e-04, 9.54748392e-02, 4.86497581e-02,\n        9.75116730e-01, 1.06742978e-03, 5.53610921e-03, 8.84576440e-02,\n        9.99904096e-01, 2.45415866e-02, 9.26714301e-01, 1.91607475e-02,\n        6.42463863e-01, 9.64295387e-01, 9.28801537e-01, 6.80981874e-02,\n        6.57262802e-02, 1.22460425e-02, 1.85650736e-01, 1.61319584e-01,\n        9.28032875e-01, 6.45308495e-02, 2.06366241e-01, 7.40649700e-02,\n        4.05329956e-06, 1.00317597e-03, 9.99727488e-01, 8.95618200e-01,\n        5.00703931e-01, 1.65700912e-04, 9.72220778e-01, 9.97147441e-01,\n        8.45422328e-01, 8.05882573e-01, 1.08293891e-02, 1.51431054e-01,\n        9.99967217e-01, 8.88703108e-01, 2.01216936e-02, 8.34607661e-01,\n        9.98877048e-01, 1.52113140e-02, 3.23179781e-01, 7.82385468e-03,\n        9.99904633e-01, 3.63842249e-02, 1.56942099e-01, 9.89940763e-01,\n        8.94841552e-03, 8.78573064e-06, 9.90724802e-01, 3.00407410e-04,\n        9.89545465e-01, 2.32994556e-04, 9.50688243e-01, 1.04245543e-03,\n        1.79961413e-01, 7.69491089e-05, 1.82867050e-03, 9.97593939e-01,\n        9.98526454e-01, 9.56048389e-05, 9.59541261e-01, 4.94873673e-01,\n        3.87386084e-02, 9.96601045e-01, 9.21772599e-01, 2.24021375e-02,\n        8.45903158e-03, 8.47295880e-01, 9.99377728e-01, 1.57255090e-05,\n        9.99457717e-01, 7.96981215e-01, 1.24263853e-01, 5.14734983e-01,\n        9.41558123e-01, 9.99650955e-01, 9.99924183e-01]], dtype=float32)"
     },
     "execution_count": 196,
     "metadata": {},
     "output_type": "execute_result"
    }
   ],
   "source": [
    "example_x_train = X_train[7]\n",
    "example_x_train = example_x_train.reshape(1, 1, 2000)\n",
    "model.predict(example_x_train)"
   ]
  },
  {
   "cell_type": "code",
   "execution_count": 199,
   "id": "8337de62-27bb-4395-a7a0-ac4453adb147",
   "metadata": {},
   "outputs": [
    {
     "data": {
      "text/plain": "array([[9.9999440e-01, 9.9819219e-01, 3.7700534e-03, 2.6171565e-02,\n        9.2414021e-04, 4.7521958e-01, 1.4454126e-04, 2.0880997e-01,\n        3.6584139e-03, 9.9998486e-01, 2.9977232e-02, 9.5517933e-01,\n        9.9869335e-01, 1.1635235e-04, 1.6582161e-02, 5.0780648e-01,\n        3.0966780e-06, 6.7374170e-01, 4.3985584e-01, 9.6849132e-01,\n        3.0415303e-01, 2.7847290e-04, 1.0326421e-01, 9.9998641e-01,\n        9.6492672e-01, 7.5740838e-01, 4.9542664e-06, 9.9999899e-01,\n        2.9047549e-01, 7.5548887e-04, 2.7765334e-03, 9.9999970e-01,\n        2.2514758e-01, 1.0160461e-01, 2.6941189e-01, 9.9989605e-01,\n        3.1826401e-01, 9.9963057e-01, 2.4247044e-01, 7.4364614e-01,\n        9.4046479e-01, 3.1184980e-01, 2.5558364e-01, 3.5479665e-04,\n        7.2683036e-01, 1.1827350e-03, 5.1647425e-04, 5.2961113e-08,\n        1.5649796e-03, 9.9613488e-01, 7.1651030e-01, 2.0390570e-02,\n        9.4345838e-02, 1.4625886e-06, 9.9448282e-01, 6.6059607e-01,\n        5.7894969e-01, 6.1434478e-02, 9.0513325e-01, 9.0782475e-01,\n        1.9885807e-05, 1.7037365e-01, 1.3298988e-03, 8.7271786e-01,\n        7.6943636e-04, 9.8305404e-01, 9.9915177e-01, 1.5193224e-04,\n        3.7453529e-07, 8.1752105e-06, 9.9411410e-01, 9.6441591e-01,\n        9.9891824e-01, 8.4762621e-01, 9.9847072e-01, 9.9852031e-01,\n        9.9885470e-01, 9.3985498e-01, 9.8308873e-01, 9.8717189e-01,\n        6.3928908e-01, 1.1511827e-04, 9.1008544e-03, 9.7207916e-01,\n        2.0115584e-02, 1.0279715e-03, 1.0818005e-02, 9.9919784e-01,\n        6.9497108e-01, 9.9999428e-01, 2.8454363e-03, 6.8155897e-01,\n        7.0361960e-01, 9.9986911e-01, 9.6822244e-01, 1.1184621e-01,\n        4.2502061e-01, 8.7302923e-01, 9.8952472e-01, 9.5442557e-01,\n        1.6631186e-02, 6.2652439e-01, 7.0124334e-01, 5.4863274e-02,\n        1.7668798e-07, 6.1273575e-04, 4.4892740e-01, 3.8611621e-02,\n        7.0773959e-03, 1.4804870e-02, 7.0174038e-03, 1.4246207e-01,\n        1.1275828e-01, 6.9323182e-04, 4.4962895e-01, 7.1149756e-08,\n        3.2666892e-02, 5.2358508e-02, 9.9817115e-01, 1.6155839e-04,\n        9.9983346e-01, 9.9443805e-01, 8.7695444e-01, 2.9239058e-04,\n        9.9805021e-01, 9.9945557e-01, 9.1277522e-01, 9.7430396e-01,\n        1.5061006e-01, 1.2500373e-01, 7.7342403e-01, 1.0712385e-02,\n        9.9945706e-01, 9.3585253e-03, 1.0817227e-01, 4.1905046e-04,\n        7.3837274e-01, 6.2826276e-04, 3.6033988e-04, 1.6841888e-03,\n        7.6154459e-01, 1.3469501e-06, 1.2286901e-03, 1.5197724e-02,\n        5.7898402e-02, 9.2227161e-03, 3.9403087e-05, 7.6065457e-01,\n        1.6432312e-01, 9.9995381e-01, 1.3918814e-01]], dtype=float32)"
     },
     "execution_count": 199,
     "metadata": {},
     "output_type": "execute_result"
    }
   ],
   "source": [
    "example_x_train = X_train_false[0]\n",
    "example_x_train = np.array(example_x_train)\n",
    "example_x_train = example_x_train.reshape(1, 1, 2000)\n",
    "model.predict(example_x_train)"
   ]
  },
  {
   "cell_type": "code",
   "execution_count": 149,
   "id": "e02049cd-8cb3-4424-bf43-d0d30bfabc4c",
   "metadata": {},
   "outputs": [
    {
     "data": {
      "text/plain": "<Figure size 432x288 with 1 Axes>",
      "image/png": "[encoded data removed]"
     },
     "metadata": {
      "needs_background": "light"
     },
     "output_type": "display_data"
    }
   ],
   "source": [
    "plt.plot(X_train[15])\n",
    "plt.show()"
   ]
  },
  {
   "cell_type": "code",
   "execution_count": 149,
   "id": "02311d6c-1d65-4199-917f-9deb0df1894e",
   "metadata": {},
   "outputs": [],
   "source": []
  }
 ],
 "metadata": {
  "kernelspec": {
   "display_name": "python3",
   "language": "python",
   "name": "python3"
  },
  "language_info": {
   "codemirror_mode": {
    "name": "ipython",
    "version": 3
   },
   "file_extension": ".py",
   "mimetype": "text/x-python",
   "name": "python",
   "nbconvert_exporter": "python",
   "pygments_lexer": "ipython3",
   "version": "3.9.12"
  }
 },
 "nbformat": 4,
 "nbformat_minor": 5
}