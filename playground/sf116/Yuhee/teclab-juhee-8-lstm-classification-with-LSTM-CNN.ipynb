{
 "cells": [
  {
   "cell_type": "code",
   "execution_count": 13,
   "id": "2052319e-e85d-4361-b060-52884246b08e",
   "metadata": {},
   "outputs": [],
   "source": [
    "import os\n",
    "\n",
    "import librosa\n",
    "import numpy as np\n",
    "from keras.layers import Dense\n",
    "from keras.models import Sequential\n",
    "from matplotlib import pyplot as plt\n",
    "from pydub import AudioSegment\n",
    "from scipy import signal\n",
    "from sklearn import preprocessing"
   ]
  },
  {
   "cell_type": "code",
   "execution_count": 14,
   "id": "4abb4ec0-273b-4150-bbfd-791ff14df2bd",
   "metadata": {},
   "outputs": [],
   "source": [
    "pathAudio = 'C:/Users/Admin/OneDrive/Dokumente/Studium/Technology Lab/Technology Lab Team 4/Techno Titel/train-stochastic/samples/'\n",
    "files = librosa.util.find_files(pathAudio, ext=['mp3'])\n",
    "files = sorted(files, key=lambda x: int(x.split('_')[-1].split(\".\")[0]))"
   ]
  },
  {
   "cell_type": "code",
   "execution_count": 15,
   "id": "9db0918b-2753-4f15-9123-a6753f9a120c",
   "metadata": {},
   "outputs": [],
   "source": [
    "def normalize_sample(sample):\n",
    "    array_of_samples = sample.get_array_of_samples()\n",
    "    np_arr = np.array(array_of_samples)\n",
    "    np_arr = np_arr.reshape(1, -1)\n",
    "    return preprocessing.normalize(np_arr)\n",
    "\n",
    "samples = []\n",
    "samples_sec_canal = []\n",
    "for file_name in files:\n",
    "    sample = AudioSegment.from_mp3(file_name)\n",
    "    mono_samples = sample.split_to_mono()\n",
    "    normalized_sample = normalize_sample(mono_samples[0])[0]\n",
    "    resampled_sample = signal.resample(normalized_sample, 1000)\n",
    "    samples.append(resampled_sample)\n",
    "    normalized_sample_sec_canal = normalize_sample(mono_samples[1])[0]\n",
    "    resampled_sample_sec_canal = signal.resample(normalized_sample_sec_canal, 1000)\n",
    "    samples_sec_canal.append(resampled_sample_sec_canal)"
   ]
  },
  {
   "cell_type": "code",
   "execution_count": 16,
   "id": "21c8e94f-6997-49eb-91b7-c08285b1869c",
   "metadata": {},
   "outputs": [],
   "source": [
    "X_train = []\n",
    "Y_train = []\n",
    "for i in range(len(samples)):\n",
    "    Y_train.append(i)\n",
    "    if i < len(samples) - 1:\n",
    "        x = list(samples[i])\n",
    "        y = list(samples[i + 1])\n",
    "        z = x + y\n",
    "        X_train.append(z)\n",
    "    else:\n",
    "        x = list(samples[i])\n",
    "        y = list(samples[0])\n",
    "        z = x + y\n",
    "        X_train.append(z)"
   ]
  },
  {
   "cell_type": "code",
   "execution_count": 17,
   "id": "8e004b76-5aa3-493f-b6e4-35347d681fb4",
   "metadata": {},
   "outputs": [],
   "source": [
    "from numpy import random\n",
    "\n",
    "X_train_false = []\n",
    "\n",
    "\n",
    "def get_strange_end_part(samples, current_index, max_len):\n",
    "    x = random.randint(max_len)\n",
    "    if x != current_index:\n",
    "        return samples[x]\n",
    "    else:\n",
    "        return get_strange_end_part(samples, current_index, max_len)\n",
    "\n",
    "\n",
    "for i in range(len(samples)):\n",
    "    first_half = samples[i]\n",
    "    last_half = get_strange_end_part(samples, i, len(samples))\n",
    "    new_sample = list(first_half) + list(last_half)\n",
    "    X_train_false.append(new_sample)"
   ]
  },
  {
   "cell_type": "code",
   "execution_count": 18,
   "id": "ef426dc4-fc40-4f9d-95a3-2273e035ce8d",
   "metadata": {},
   "outputs": [],
   "source": [
    "X_train = np.array(X_train)\n",
    "X_train = X_train.reshape(-1, 2000)"
   ]
  },
  {
   "cell_type": "code",
   "execution_count": 19,
   "id": "f648a8f5-d9f6-4a47-b770-2c195d75e013",
   "metadata": {},
   "outputs": [],
   "source": [
    "from keras.utils.np_utils  import to_categorical\n",
    "\n",
    "Y_train = to_categorical(Y_train)"
   ]
  },
  {
   "cell_type": "code",
   "execution_count": 20,
   "id": "a38c41a0-a694-41d2-b07b-5885e910f076",
   "metadata": {},
   "outputs": [
    {
     "data": {
      "text/plain": "(151, 151)"
     },
     "execution_count": 20,
     "metadata": {},
     "output_type": "execute_result"
    }
   ],
   "source": [
    "Y_train = np.array(Y_train)\n",
    "Y_train.shape"
   ]
  },
  {
   "cell_type": "code",
   "execution_count": 21,
   "outputs": [
    {
     "data": {
      "text/plain": "(151, 2000)"
     },
     "execution_count": 21,
     "metadata": {},
     "output_type": "execute_result"
    }
   ],
   "source": [
    "X_train = X_train.reshape(-1, 2000)\n",
    "X_train.shape"
   ],
   "metadata": {
    "collapsed": false,
    "pycharm": {
     "name": "#%%\n"
    }
   }
  },
  {
   "cell_type": "code",
   "execution_count": 22,
   "outputs": [
    {
     "name": "stdout",
     "output_type": "stream",
     "text": [
      "Model: \"sequential_1\"\n",
      "_________________________________________________________________\n",
      " Layer (type)                Output Shape              Param #   \n",
      "=================================================================\n",
      " conv1d_1 (Conv1D)           (None, 2000, 10)          20        \n",
      "                                                                 \n",
      " lstm_1 (LSTM)               (None, 2000, 20)          2480      \n",
      "                                                                 \n",
      " dense_2 (Dense)             (None, 2000, 100)         2100      \n",
      "                                                                 \n",
      " flatten_1 (Flatten)         (None, 200000)            0         \n",
      "                                                                 \n",
      " dense_3 (Dense)             (None, 151)               30200151  \n",
      "                                                                 \n",
      "=================================================================\n",
      "Total params: 30,204,751\n",
      "Trainable params: 30,204,751\n",
      "Non-trainable params: 0\n",
      "_________________________________________________________________\n"
     ]
    }
   ],
   "source": [
    "from keras.layers import Conv1D, Softmax, LSTM, MaxPool1D, Reshape, Flatten\n",
    "\n",
    "model = Sequential()\n",
    "model.add(Conv1D(filters=10, kernel_size=1, input_shape=(2000, 1)))\n",
    "model.add(LSTM(20, return_sequences=True))\n",
    "model.add(Dense(100))\n",
    "model.add(Flatten())\n",
    "model.add(Dense(151, activation='sigmoid'))\n",
    "\n",
    "model.compile(optimizer='rmsprop', loss='categorical_crossentropy', metrics=['accuracy'])\n",
    "model.summary()"
   ],
   "metadata": {
    "collapsed": false,
    "pycharm": {
     "name": "#%%\n"
    }
   }
  },
  {
   "cell_type": "code",
   "execution_count": 23,
   "id": "e324359e-4308-47ac-9af4-589a2eb41274",
   "metadata": {},
   "outputs": [
    {
     "name": "stdout",
     "output_type": "stream",
     "text": [
      "Epoch 1/100\n",
      "5/5 [==============================] - 4s 554ms/step - loss: 6.2149 - accuracy: 0.0000e+00\n",
      "Epoch 2/100\n",
      "5/5 [==============================] - 3s 551ms/step - loss: 5.1626 - accuracy: 0.0331\n",
      "Epoch 3/100\n",
      "5/5 [==============================] - 3s 550ms/step - loss: 5.0407 - accuracy: 0.0199\n",
      "Epoch 4/100\n",
      "5/5 [==============================] - 3s 548ms/step - loss: 4.9909 - accuracy: 0.0199\n",
      "Epoch 5/100\n",
      "5/5 [==============================] - 3s 551ms/step - loss: 5.0420 - accuracy: 0.0066\n",
      "Epoch 6/100\n",
      "5/5 [==============================] - 3s 584ms/step - loss: 4.9541 - accuracy: 0.0464\n",
      "Epoch 7/100\n",
      "5/5 [==============================] - 3s 549ms/step - loss: 5.0038 - accuracy: 0.0530\n",
      "Epoch 8/100\n",
      "5/5 [==============================] - 3s 546ms/step - loss: 4.8440 - accuracy: 0.0265\n",
      "Epoch 9/100\n",
      "5/5 [==============================] - 3s 549ms/step - loss: 4.7749 - accuracy: 0.0464\n",
      "Epoch 10/100\n",
      "5/5 [==============================] - 3s 550ms/step - loss: 4.6685 - accuracy: 0.1060\n",
      "Epoch 11/100\n",
      "5/5 [==============================] - 3s 558ms/step - loss: 4.5185 - accuracy: 0.0927\n",
      "Epoch 12/100\n",
      "5/5 [==============================] - 3s 560ms/step - loss: 4.1884 - accuracy: 0.1589\n",
      "Epoch 13/100\n",
      "5/5 [==============================] - 3s 561ms/step - loss: 3.9284 - accuracy: 0.2980\n",
      "Epoch 14/100\n",
      "5/5 [==============================] - 3s 569ms/step - loss: 3.3802 - accuracy: 0.3245\n",
      "Epoch 15/100\n",
      "5/5 [==============================] - 3s 550ms/step - loss: 3.0063 - accuracy: 0.4040\n",
      "Epoch 16/100\n",
      "5/5 [==============================] - 3s 547ms/step - loss: 2.6138 - accuracy: 0.4305\n",
      "Epoch 17/100\n",
      "5/5 [==============================] - 3s 548ms/step - loss: 2.2094 - accuracy: 0.4834\n",
      "Epoch 18/100\n",
      "5/5 [==============================] - 3s 544ms/step - loss: 1.9823 - accuracy: 0.5563\n",
      "Epoch 19/100\n",
      "5/5 [==============================] - 3s 544ms/step - loss: 1.7859 - accuracy: 0.5960\n",
      "Epoch 20/100\n",
      "5/5 [==============================] - 3s 553ms/step - loss: 1.5238 - accuracy: 0.6755\n",
      "Epoch 21/100\n",
      "5/5 [==============================] - 3s 577ms/step - loss: 1.3204 - accuracy: 0.7086\n",
      "Epoch 22/100\n",
      "5/5 [==============================] - 3s 557ms/step - loss: 1.0915 - accuracy: 0.7285\n",
      "Epoch 23/100\n",
      "5/5 [==============================] - 3s 554ms/step - loss: 0.9377 - accuracy: 0.7748\n",
      "Epoch 24/100\n",
      "5/5 [==============================] - 3s 550ms/step - loss: 0.9941 - accuracy: 0.7483\n",
      "Epoch 25/100\n",
      "5/5 [==============================] - 3s 551ms/step - loss: 0.7956 - accuracy: 0.7815\n",
      "Epoch 26/100\n",
      "5/5 [==============================] - 3s 542ms/step - loss: 0.6925 - accuracy: 0.8212\n",
      "Epoch 27/100\n",
      "5/5 [==============================] - 3s 553ms/step - loss: 0.6194 - accuracy: 0.8146\n",
      "Epoch 28/100\n",
      "5/5 [==============================] - 3s 577ms/step - loss: 0.6296 - accuracy: 0.8344\n",
      "Epoch 29/100\n",
      "5/5 [==============================] - 3s 565ms/step - loss: 0.5431 - accuracy: 0.8411\n",
      "Epoch 30/100\n",
      "5/5 [==============================] - 3s 576ms/step - loss: 0.5133 - accuracy: 0.8609\n",
      "Epoch 31/100\n",
      "5/5 [==============================] - 3s 565ms/step - loss: 0.4076 - accuracy: 0.8940\n",
      "Epoch 32/100\n",
      "5/5 [==============================] - 3s 556ms/step - loss: 0.4244 - accuracy: 0.8874\n",
      "Epoch 33/100\n",
      "5/5 [==============================] - 3s 572ms/step - loss: 0.5203 - accuracy: 0.8742\n",
      "Epoch 34/100\n",
      "5/5 [==============================] - 3s 605ms/step - loss: 0.4077 - accuracy: 0.8808\n",
      "Epoch 35/100\n",
      "5/5 [==============================] - 3s 559ms/step - loss: 0.3543 - accuracy: 0.8940\n",
      "Epoch 36/100\n",
      "5/5 [==============================] - 3s 554ms/step - loss: 0.2972 - accuracy: 0.9338\n",
      "Epoch 37/100\n",
      "5/5 [==============================] - 3s 550ms/step - loss: 0.3562 - accuracy: 0.9007\n",
      "Epoch 38/100\n",
      "5/5 [==============================] - 3s 560ms/step - loss: 0.3368 - accuracy: 0.9007\n",
      "Epoch 39/100\n",
      "5/5 [==============================] - 3s 554ms/step - loss: 0.2688 - accuracy: 0.9205\n",
      "Epoch 40/100\n",
      "5/5 [==============================] - 3s 550ms/step - loss: 0.2474 - accuracy: 0.9338\n",
      "Epoch 41/100\n",
      "5/5 [==============================] - 3s 547ms/step - loss: 0.1930 - accuracy: 0.9536\n",
      "Epoch 42/100\n",
      "5/5 [==============================] - 3s 547ms/step - loss: 0.1792 - accuracy: 0.9536\n",
      "Epoch 43/100\n",
      "5/5 [==============================] - 3s 556ms/step - loss: 0.2084 - accuracy: 0.9470\n",
      "Epoch 44/100\n",
      "5/5 [==============================] - 3s 542ms/step - loss: 0.1772 - accuracy: 0.9404\n",
      "Epoch 45/100\n",
      "5/5 [==============================] - 3s 550ms/step - loss: 0.1248 - accuracy: 0.9603\n",
      "Epoch 46/100\n",
      "5/5 [==============================] - 3s 547ms/step - loss: 0.1492 - accuracy: 0.9735\n",
      "Epoch 47/100\n",
      "5/5 [==============================] - 3s 550ms/step - loss: 0.1182 - accuracy: 0.9735\n",
      "Epoch 48/100\n",
      "5/5 [==============================] - 3s 546ms/step - loss: 0.1400 - accuracy: 0.9603\n",
      "Epoch 49/100\n",
      "5/5 [==============================] - 3s 545ms/step - loss: 0.1127 - accuracy: 0.9735\n",
      "Epoch 50/100\n",
      "5/5 [==============================] - 3s 555ms/step - loss: 0.0850 - accuracy: 0.9801\n",
      "Epoch 51/100\n",
      "5/5 [==============================] - 3s 643ms/step - loss: 0.0813 - accuracy: 0.9801\n",
      "Epoch 52/100\n",
      "5/5 [==============================] - 3s 545ms/step - loss: 0.1259 - accuracy: 0.9735\n",
      "Epoch 53/100\n",
      "5/5 [==============================] - 3s 579ms/step - loss: 0.0633 - accuracy: 0.9801\n",
      "Epoch 54/100\n",
      "5/5 [==============================] - 3s 548ms/step - loss: 0.0946 - accuracy: 0.9735\n",
      "Epoch 55/100\n",
      "5/5 [==============================] - 3s 543ms/step - loss: 0.0699 - accuracy: 0.9868\n",
      "Epoch 56/100\n",
      "5/5 [==============================] - 3s 545ms/step - loss: 0.0719 - accuracy: 0.9735\n",
      "Epoch 57/100\n",
      "5/5 [==============================] - 3s 548ms/step - loss: 0.0500 - accuracy: 0.9735\n",
      "Epoch 58/100\n",
      "5/5 [==============================] - 3s 548ms/step - loss: 0.0374 - accuracy: 0.9801\n",
      "Epoch 59/100\n",
      "5/5 [==============================] - 3s 552ms/step - loss: 0.0780 - accuracy: 0.9735\n",
      "Epoch 60/100\n",
      "5/5 [==============================] - 3s 565ms/step - loss: 0.0725 - accuracy: 0.9603\n",
      "Epoch 61/100\n",
      "5/5 [==============================] - 3s 575ms/step - loss: 0.0534 - accuracy: 0.9801\n",
      "Epoch 62/100\n",
      "5/5 [==============================] - 3s 625ms/step - loss: 0.0363 - accuracy: 0.9934\n",
      "Epoch 63/100\n",
      "5/5 [==============================] - 3s 562ms/step - loss: 0.0360 - accuracy: 0.9801\n",
      "Epoch 64/100\n",
      "5/5 [==============================] - 3s 557ms/step - loss: 0.0346 - accuracy: 0.9868\n",
      "Epoch 65/100\n",
      "5/5 [==============================] - 3s 544ms/step - loss: 0.0323 - accuracy: 0.9934\n",
      "Epoch 66/100\n",
      "5/5 [==============================] - 3s 536ms/step - loss: 0.0322 - accuracy: 0.9868\n",
      "Epoch 67/100\n",
      "5/5 [==============================] - 3s 578ms/step - loss: 0.0416 - accuracy: 0.9868\n",
      "Epoch 68/100\n",
      "5/5 [==============================] - 3s 597ms/step - loss: 0.0166 - accuracy: 1.0000\n",
      "Epoch 69/100\n",
      "5/5 [==============================] - 3s 551ms/step - loss: 0.0595 - accuracy: 0.9801\n",
      "Epoch 70/100\n",
      "5/5 [==============================] - 3s 552ms/step - loss: 0.0264 - accuracy: 0.9934\n",
      "Epoch 71/100\n",
      "5/5 [==============================] - 3s 543ms/step - loss: 0.0398 - accuracy: 0.9735\n",
      "Epoch 72/100\n",
      "5/5 [==============================] - 3s 537ms/step - loss: 0.0291 - accuracy: 0.9868\n",
      "Epoch 73/100\n",
      "5/5 [==============================] - 3s 565ms/step - loss: 0.0300 - accuracy: 0.9868\n",
      "Epoch 74/100\n",
      "5/5 [==============================] - 3s 568ms/step - loss: 0.0478 - accuracy: 0.9801\n",
      "Epoch 75/100\n",
      "5/5 [==============================] - 3s 562ms/step - loss: 0.0182 - accuracy: 0.9868\n",
      "Epoch 76/100\n",
      "5/5 [==============================] - 3s 556ms/step - loss: 0.0126 - accuracy: 0.9934\n",
      "Epoch 77/100\n",
      "5/5 [==============================] - 3s 556ms/step - loss: 0.0148 - accuracy: 0.9934\n",
      "Epoch 78/100\n",
      "5/5 [==============================] - 3s 564ms/step - loss: 0.0173 - accuracy: 0.9934\n",
      "Epoch 79/100\n",
      "5/5 [==============================] - 3s 570ms/step - loss: 0.0125 - accuracy: 0.9934\n",
      "Epoch 80/100\n",
      "5/5 [==============================] - 3s 575ms/step - loss: 0.0373 - accuracy: 0.9801\n",
      "Epoch 81/100\n",
      "5/5 [==============================] - 3s 558ms/step - loss: 0.0254 - accuracy: 0.9801\n",
      "Epoch 82/100\n",
      "5/5 [==============================] - 3s 558ms/step - loss: 0.0238 - accuracy: 0.9868\n",
      "Epoch 83/100\n",
      "5/5 [==============================] - 3s 551ms/step - loss: 0.0228 - accuracy: 0.9868\n",
      "Epoch 84/100\n",
      "5/5 [==============================] - 3s 564ms/step - loss: 0.0115 - accuracy: 0.9934\n",
      "Epoch 85/100\n",
      "5/5 [==============================] - 3s 564ms/step - loss: 0.0135 - accuracy: 0.9934\n",
      "Epoch 86/100\n",
      "5/5 [==============================] - 3s 558ms/step - loss: 0.0082 - accuracy: 1.0000\n",
      "Epoch 87/100\n",
      "5/5 [==============================] - 3s 559ms/step - loss: 0.0100 - accuracy: 0.9934\n",
      "Epoch 88/100\n",
      "5/5 [==============================] - 3s 553ms/step - loss: 0.0144 - accuracy: 0.9868\n",
      "Epoch 89/100\n",
      "5/5 [==============================] - 3s 568ms/step - loss: 0.0312 - accuracy: 0.9934\n",
      "Epoch 90/100\n",
      "5/5 [==============================] - 3s 558ms/step - loss: 0.0096 - accuracy: 0.9934\n",
      "Epoch 91/100\n",
      "5/5 [==============================] - 3s 555ms/step - loss: 0.0076 - accuracy: 0.9934\n",
      "Epoch 92/100\n",
      "5/5 [==============================] - 3s 532ms/step - loss: 0.0096 - accuracy: 0.9934\n",
      "Epoch 93/100\n",
      "5/5 [==============================] - 3s 563ms/step - loss: 0.0179 - accuracy: 0.9934\n",
      "Epoch 94/100\n",
      "5/5 [==============================] - 3s 534ms/step - loss: 0.0339 - accuracy: 0.9868\n",
      "Epoch 95/100\n",
      "5/5 [==============================] - 3s 579ms/step - loss: 0.0234 - accuracy: 0.9868\n",
      "Epoch 96/100\n",
      "5/5 [==============================] - 3s 529ms/step - loss: 0.0084 - accuracy: 0.9934\n",
      "Epoch 97/100\n",
      "5/5 [==============================] - 3s 560ms/step - loss: 0.0033 - accuracy: 1.0000\n",
      "Epoch 98/100\n",
      "5/5 [==============================] - 3s 553ms/step - loss: 0.0054 - accuracy: 1.0000\n",
      "Epoch 99/100\n",
      "5/5 [==============================] - 3s 535ms/step - loss: 0.0085 - accuracy: 1.0000\n",
      "Epoch 100/100\n",
      "5/5 [==============================] - 3s 541ms/step - loss: 0.0054 - accuracy: 0.9934\n"
     ]
    },
    {
     "data": {
      "text/plain": "<keras.callbacks.History at 0x15982ff1ee0>"
     },
     "execution_count": 23,
     "metadata": {},
     "output_type": "execute_result"
    }
   ],
   "source": [
    "model.fit(X_train, Y_train, epochs=50)"
   ]
  },
  {
   "cell_type": "code",
   "execution_count": 25,
   "id": "0edac5d1-eadf-4a50-90f2-c806152ea34a",
   "metadata": {},
   "outputs": [
    {
     "data": {
      "text/plain": "array([[0.1155197 , 0.09499806, 0.10819641, 0.24734515, 0.08010966,\n        0.99999976, 0.03235859, 0.09354329, 0.7644672 , 0.43629235,\n        0.87785304, 0.45638436, 0.18086553, 0.21477497, 0.17617598,\n        0.46413058, 0.84987545, 0.2363402 , 0.31426448, 0.32180023,\n        0.22280705, 0.3568207 , 0.12246639, 0.08876893, 0.09041423,\n        0.1022242 , 0.1179395 , 0.04676923, 0.0652498 , 0.1524972 ,\n        0.20655802, 0.08659616, 0.09586105, 0.08443609, 0.19441497,\n        0.120915  , 0.134485  , 0.05067721, 0.08827373, 0.10430866,\n        0.08999884, 0.21596971, 0.02025309, 0.17312726, 0.0803861 ,\n        0.10938597, 0.04605448, 0.07781839, 0.19186291, 0.13659441,\n        0.13092047, 0.05411488, 0.10392627, 0.08109275, 0.12193373,\n        0.14410487, 0.17297137, 0.13988599, 0.04560044, 0.12381893,\n        0.09330493, 0.17821988, 0.09398633, 0.53253984, 0.12086371,\n        0.06125689, 0.08759531, 0.08359504, 0.09267509, 0.11143452,\n        0.11194801, 0.43615732, 0.35498935, 0.05390635, 0.06260434,\n        0.09059858, 0.10242397, 0.08137473, 0.06504938, 0.16266897,\n        0.3666482 , 0.28775215, 0.10233951, 0.06941867, 0.1438776 ,\n        0.11562294, 0.0496875 , 0.05272615, 0.09292787, 0.1260575 ,\n        0.10849488, 0.13631463, 0.11415759, 0.14270568, 0.26122326,\n        0.20501673, 0.11306754, 0.12017372, 0.3794372 , 0.04543552,\n        0.1007196 , 0.07245871, 0.08401349, 0.10284677, 0.08731666,\n        0.29029512, 0.1812838 , 0.12330768, 0.06779847, 0.21062952,\n        0.03023633, 0.08323687, 0.09437823, 0.21183029, 0.18782422,\n        0.08241788, 0.09847796, 0.19927964, 0.33321345, 0.07467419,\n        0.14866662, 0.07642904, 0.21768707, 0.07743621, 0.09132466,\n        0.09321141, 0.15727258, 0.12580481, 0.12779418, 0.16102377,\n        0.301022  , 0.11202386, 0.08725411, 0.10128325, 0.26907936,\n        0.06094551, 0.0768877 , 0.04753524, 0.21346879, 0.09620047,\n        0.12626782, 0.06023678, 0.36453977, 0.10242748, 0.12954488,\n        0.08229712, 0.07776842, 0.08094949, 0.08869612, 0.3581144 ,\n        0.24211124]], dtype=float32)"
     },
     "execution_count": 25,
     "metadata": {},
     "output_type": "execute_result"
    }
   ],
   "source": [
    "example_x_train = X_train[5]\n",
    "example_x_train = example_x_train.reshape(1, 2000)\n",
    "model.predict(example_x_train)"
   ]
  },
  {
   "cell_type": "code",
   "execution_count": 26,
   "id": "adf8bd29-caeb-4303-b654-c8cf65b249f2",
   "metadata": {},
   "outputs": [
    {
     "data": {
      "text/plain": "array([[9.72260535e-02, 8.99455547e-02, 8.38040709e-02, 1.42036051e-01,\n        9.65026021e-02, 1.17318153e-01, 9.32859480e-02, 1.00000000e+00,\n        6.61250412e-01, 4.39455390e-01, 8.02544832e-01, 6.25939310e-01,\n        3.06759775e-01, 1.72424048e-01, 7.39420057e-06, 4.69055712e-01,\n        7.62838066e-01, 3.98360431e-01, 1.35889500e-01, 3.56560946e-01,\n        1.68748915e-01, 4.56203401e-01, 1.04245871e-01, 8.49641562e-02,\n        9.12809670e-02, 1.00424677e-01, 1.36928111e-01, 7.12146461e-02,\n        8.66831243e-02, 6.01220727e-02, 5.86901903e-02, 9.92038846e-02,\n        1.08283550e-01, 8.72550607e-02, 3.75804901e-02, 1.00272179e-01,\n        7.34792352e-02, 9.79675055e-02, 1.97563708e-01, 1.41380548e-01,\n        6.82972372e-02, 5.14945686e-02, 9.64626968e-02, 6.94693625e-02,\n        5.65363765e-02, 7.68977404e-02, 5.87127209e-02, 6.01515174e-02,\n        4.62696850e-02, 1.17538452e-01, 9.16757286e-02, 1.21439368e-01,\n        1.27818912e-01, 1.41320765e-01, 9.35410857e-02, 7.88290203e-02,\n        1.14735812e-01, 2.51510024e-01, 1.39694571e-01, 1.36800796e-01,\n        1.99981868e-01, 9.49275196e-02, 5.48570156e-02, 3.14729929e-01,\n        5.60301185e-01, 1.43544227e-01, 7.76999593e-02, 8.93365145e-02,\n        4.68338430e-02, 9.60387290e-02, 1.71807975e-01, 2.11466551e-01,\n        1.01218373e-01, 7.74853230e-02, 9.40725505e-02, 1.44396961e-01,\n        8.89968872e-02, 6.71910942e-02, 5.13517559e-02, 7.70345330e-02,\n        4.50765163e-01, 3.26486707e-01, 5.50816953e-02, 8.45269561e-02,\n        9.01507437e-02, 7.82490969e-02, 1.51493788e-01, 1.22042507e-01,\n        8.12920928e-02, 8.97055864e-02, 1.27336711e-01, 7.08610415e-02,\n        5.12849987e-02, 1.01642519e-01, 1.22134417e-01, 1.18042916e-01,\n        7.90529549e-02, 1.98813200e-01, 2.36164451e-01, 6.22652769e-02,\n        4.69800234e-02, 7.04617202e-02, 6.61430955e-02, 5.71472645e-02,\n        7.46931732e-02, 2.59916961e-01, 1.01399183e-01, 6.97166622e-02,\n        7.60530829e-02, 2.40742058e-01, 9.18820202e-02, 8.63574147e-02,\n        6.29794002e-02, 1.44281954e-01, 1.47502154e-01, 8.43443573e-02,\n        9.82700884e-02, 2.21789002e-01, 5.88626266e-02, 1.49567008e-01,\n        1.03198439e-01, 4.61149216e-02, 1.22417122e-01, 3.92010808e-02,\n        1.16602719e-01, 7.83634186e-02, 1.98458225e-01, 1.37456656e-01,\n        7.93936551e-02, 1.39102519e-01, 7.32117593e-02, 5.29050231e-02,\n        9.65413451e-02, 7.37181902e-02, 2.82269448e-01, 6.45733774e-02,\n        1.06888622e-01, 7.87022710e-02, 4.01651680e-01, 4.92356420e-02,\n        8.31541717e-02, 6.57082200e-02, 3.03282142e-01, 7.71759152e-02,\n        7.75320828e-02, 1.39334142e-01, 7.78616071e-02, 1.35630995e-01,\n        5.49624562e-02, 3.51167470e-01, 3.02071244e-01]], dtype=float32)"
     },
     "execution_count": 26,
     "metadata": {},
     "output_type": "execute_result"
    }
   ],
   "source": [
    "example_x_train = X_train[7]\n",
    "example_x_train = example_x_train.reshape(1, 2000)\n",
    "model.predict(example_x_train)"
   ]
  },
  {
   "cell_type": "code",
   "execution_count": 27,
   "id": "8337de62-27bb-4395-a7a0-ac4453adb147",
   "metadata": {
    "pycharm": {
     "name": "#%%\n"
    }
   },
   "outputs": [
    {
     "data": {
      "text/plain": "array([[6.07429981e-01, 6.35533035e-02, 2.97198594e-02, 1.46061182e-03,\n        4.82842624e-02, 8.62190425e-02, 8.64733160e-02, 2.70354748e-02,\n        5.18209934e-01, 1.81520343e-01, 6.93426073e-01, 4.35563743e-01,\n        9.40398276e-02, 4.39375043e-02, 7.20770061e-02, 1.89518780e-01,\n        6.88767672e-01, 2.89665520e-01, 4.44339216e-01, 1.85474575e-01,\n        1.72162324e-01, 6.09632432e-01, 1.30386233e-01, 5.41687012e-02,\n        2.45497316e-01, 6.77424550e-01, 4.64788079e-02, 7.08445907e-03,\n        1.63012743e-03, 6.87070370e-01, 5.83828688e-01, 2.07768083e-02,\n        2.19884515e-03, 9.19938087e-04, 8.47866237e-02, 1.66740417e-02,\n        4.02021408e-03, 3.47720921e-01, 2.91358829e-02, 9.78887081e-04,\n        1.32051110e-03, 8.96617591e-01, 2.31447816e-02, 1.03093058e-01,\n        3.87389362e-02, 4.47377443e-01, 3.82290781e-02, 2.07088709e-01,\n        2.47540414e-01, 4.94676858e-01, 1.15307182e-01, 1.50100589e-01,\n        9.99886990e-01, 9.40875113e-02, 2.84490585e-02, 7.41492987e-01,\n        3.70870709e-01, 2.04999149e-02, 7.39567280e-02, 2.25514174e-04,\n        4.57040966e-02, 9.05935287e-01, 1.06327236e-02, 7.81790078e-01,\n        2.47075260e-02, 7.66409039e-02, 6.97766840e-02, 6.96285784e-01,\n        2.99814105e-01, 1.09411180e-02, 2.22616494e-02, 1.21263534e-01,\n        1.17596090e-02, 1.93625689e-04, 6.67632759e-01, 3.62442434e-02,\n        2.19124556e-03, 8.97493958e-03, 1.80550814e-01, 1.28106445e-01,\n        4.52636868e-01, 7.66454041e-01, 1.07703209e-02, 9.74059105e-04,\n        6.21317744e-01, 3.37591171e-02, 9.20593739e-04, 4.24358249e-03,\n        2.62413919e-02, 2.31857300e-02, 1.15966797e-03, 7.66534865e-01,\n        2.63098776e-02, 2.71119177e-02, 1.93082631e-01, 5.16496241e-01,\n        1.84463859e-02, 2.42021084e-02, 1.11707985e-01, 3.14213991e-01,\n        5.17025590e-02, 8.74322891e-01, 2.07945704e-03, 1.58711970e-02,\n        4.90169108e-01, 1.54602528e-03, 3.65825891e-02, 3.66327465e-02,\n        6.63373172e-01, 2.94701159e-02, 3.32523286e-02, 4.52518761e-02,\n        9.38509405e-02, 3.37064266e-04, 1.02756262e-01, 1.56169236e-01,\n        5.88135362e-01, 1.13274187e-01, 1.74436718e-01, 5.36547303e-02,\n        1.37390256e-01, 9.69834626e-02, 6.61504030e-01, 3.03300470e-01,\n        4.79454696e-02, 5.37097454e-04, 1.03158236e-01, 6.32129908e-02,\n        2.94934362e-01, 7.97854424e-01, 9.78362083e-01, 5.10578752e-02,\n        1.46309137e-02, 7.69799948e-03, 2.68184543e-01, 3.81740332e-01,\n        1.17272139e-03, 1.69734061e-02, 3.37546676e-01, 1.83535546e-01,\n        6.93446100e-02, 2.00333744e-01, 7.89028108e-02, 9.66506004e-02,\n        1.14260912e-02, 1.42256916e-02, 5.94946742e-03, 2.00879902e-01,\n        6.46972358e-02, 1.56524092e-01, 3.62713993e-01]], dtype=float32)"
     },
     "execution_count": 27,
     "metadata": {},
     "output_type": "execute_result"
    }
   ],
   "source": [
    "example_x_train = X_train_false[0]\n",
    "example_x_train = np.array(example_x_train)\n",
    "example_x_train = example_x_train.reshape(1, 2000)\n",
    "model.predict(example_x_train)"
   ]
  }
 ],
 "metadata": {
  "kernelspec": {
   "display_name": "python3",
   "language": "python",
   "name": "python3"
  },
  "language_info": {
   "codemirror_mode": {
    "name": "ipython",
    "version": 3
   },
   "file_extension": ".py",
   "mimetype": "text/x-python",
   "name": "python",
   "nbconvert_exporter": "python",
   "pygments_lexer": "ipython3",
   "version": "3.9.12"
  }
 },
 "nbformat": 4,
 "nbformat_minor": 5
}