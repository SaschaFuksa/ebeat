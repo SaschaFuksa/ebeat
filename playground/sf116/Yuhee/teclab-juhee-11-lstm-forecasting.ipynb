{
 "cells": [
  {
   "cell_type": "code",
   "execution_count": 1,
   "id": "2052319e-e85d-4361-b060-52884246b08e",
   "metadata": {
    "pycharm": {
     "name": "#%%\n"
    }
   },
   "outputs": [],
   "source": [
    "import librosa\n",
    "import numpy as np\n",
    "import itertools\n",
    "from matplotlib import pyplot as plt\n",
    "from keras.layers import Dense\n",
    "from keras.models import Sequential\n",
    "from pydub import AudioSegment\n",
    "from scipy import signal\n",
    "from sklearn import preprocessing"
   ]
  },
  {
   "cell_type": "code",
   "execution_count": 2,
   "id": "4abb4ec0-273b-4150-bbfd-791ff14df2bd",
   "metadata": {
    "pycharm": {
     "name": "#%%\n"
    }
   },
   "outputs": [],
   "source": [
    "pathAudio = 'C:/Users/Admin/OneDrive/Dokumente/Studium/Technology Lab/Technology Lab Team 4/Techno Titel/train/samples-stochastic/'\n",
    "files = librosa.util.find_files(pathAudio, ext=['mp3'])\n",
    "\n",
    "song_lounge_it = []\n",
    "song_tuesday_night = []\n",
    "song_kingtop = []\n",
    "for file in files:\n",
    "    if 'Maarten Schellekens - Lounge It' in file:\n",
    "        song_lounge_it.append(file)\n",
    "    if 'Maarten Schellekens - Tuesday Night Radio Edit' in file:\n",
    "        song_tuesday_night.append(file)\n",
    "    if 'Tea K Pea - kingtop' in file:\n",
    "        song_kingtop.append(file)\n",
    "song_lounge_it = sorted(song_lounge_it, key=lambda x: int(x.split('_')[-1].split('.')[0]))\n",
    "song_tuesday_night = sorted(song_tuesday_night, key=lambda x: int(x.split('_')[-1].split('.')[0]))\n",
    "song_kingtop = sorted(song_kingtop, key=lambda x: int(x.split('_')[-1].split('.')[0]))"
   ]
  },
  {
   "cell_type": "code",
   "execution_count": 3,
   "outputs": [
    {
     "name": "stdout",
     "output_type": "stream",
     "text": [
      "126\n",
      "43\n",
      "74\n"
     ]
    }
   ],
   "source": [
    "print(len(song_lounge_it))\n",
    "print(len(song_tuesday_night))\n",
    "print(len(song_kingtop))"
   ],
   "metadata": {
    "collapsed": false,
    "pycharm": {
     "name": "#%%\n"
    }
   }
  },
  {
   "cell_type": "code",
   "execution_count": 4,
   "outputs": [
    {
     "data": {
      "text/plain": "243"
     },
     "execution_count": 4,
     "metadata": {},
     "output_type": "execute_result"
    }
   ],
   "source": [
    "full_songs = []\n",
    "full_songs.extend(song_lounge_it)\n",
    "full_songs.extend(song_tuesday_night)\n",
    "full_songs.extend(song_kingtop)\n",
    "len(full_songs)"
   ],
   "metadata": {
    "collapsed": false,
    "pycharm": {
     "name": "#%%\n"
    }
   }
  },
  {
   "cell_type": "code",
   "execution_count": 5,
   "id": "9db0918b-2753-4f15-9123-a6753f9a120c",
   "metadata": {
    "pycharm": {
     "name": "#%%\n"
    }
   },
   "outputs": [],
   "source": [
    "# todo: Check smallest sample!!\n",
    "def normalize_sample(sample):\n",
    "    array_of_samples = sample.get_array_of_samples()\n",
    "    np_arr = np.array(array_of_samples)\n",
    "    np_arr = np_arr.reshape(1, -1)\n",
    "    return preprocessing.normalize(np_arr)\n",
    "\n",
    "\n",
    "samples = []\n",
    "samples_sec_canal = []\n",
    "for file_name in full_songs:\n",
    "    sample = AudioSegment.from_mp3(file_name)\n",
    "    mono_samples = sample.split_to_mono()\n",
    "    normalized_sample = normalize_sample(mono_samples[0])[0]\n",
    "    resampled_sample = signal.resample(normalized_sample, int(len(normalized_sample)/35))\n",
    "    samples.append(resampled_sample)\n",
    "    normalized_sample_sec_canal = normalize_sample(mono_samples[1])[0]\n",
    "    resampled_sample_sec_canal = signal.resample(normalized_sample_sec_canal, int(len(normalized_sample)/35))\n",
    "    samples_sec_canal.append(resampled_sample_sec_canal)"
   ]
  },
  {
   "cell_type": "code",
   "execution_count": 12,
   "outputs": [
    {
     "data": {
      "text/plain": "2579"
     },
     "execution_count": 12,
     "metadata": {},
     "output_type": "execute_result"
    }
   ],
   "source": [
    "len(samples[0])"
   ],
   "metadata": {
    "collapsed": false,
    "pycharm": {
     "name": "#%%\n"
    }
   }
  },
  {
   "cell_type": "code",
   "execution_count": 7,
   "outputs": [],
   "source": [
    "edge_size = min(map(len, samples))"
   ],
   "metadata": {
    "collapsed": false,
    "pycharm": {
     "name": "#%%\n"
    }
   }
  },
  {
   "cell_type": "code",
   "execution_count": 8,
   "outputs": [
    {
     "data": {
      "text/plain": "<Figure size 432x288 with 1 Axes>",
      "image/png": "[encoded data removed]"
     },
     "metadata": {
      "needs_background": "light"
     },
     "output_type": "display_data"
    }
   ],
   "source": [
    "plt.plot(list(itertools.chain.from_iterable(samples)))\n",
    "plt.show()"
   ],
   "metadata": {
    "collapsed": false,
    "pycharm": {
     "name": "#%%\n"
    }
   }
  },
  {
   "cell_type": "code",
   "execution_count": 28,
   "id": "21c8e94f-6997-49eb-91b7-c08285b1869c",
   "metadata": {
    "pycharm": {
     "name": "#%%\n"
    }
   },
   "outputs": [],
   "source": [
    "X_train = []\n",
    "Y_train = []\n",
    "for i in range(len(samples)-2):\n",
    "    if i == 0:\n",
    "        first_half = list(samples[i][-1500:])\n",
    "    else:\n",
    "        ref_samp = list(samples[i-1]) + list(samples[i])\n",
    "        if len(ref_samp) < 1500:\n",
    "            ref_samp_2 = list(samples[i-2]) + list(samples[i-1]) + list(samples[i])\n",
    "            first_half = list(ref_samp_2[-1500:])\n",
    "        else:\n",
    "            first_half = list(ref_samp[-1500:])\n",
    "    X_train.append(first_half)\n",
    "    last_ref = list(samples[i+1]) + list(samples[i+2])\n",
    "    last_half = list(last_ref[:500])\n",
    "    Y_train.append(last_half)"
   ]
  },
  {
   "cell_type": "code",
   "execution_count": 29,
   "outputs": [
    {
     "data": {
      "text/plain": "1500"
     },
     "execution_count": 29,
     "metadata": {},
     "output_type": "execute_result"
    }
   ],
   "source": [
    "min(map(len, X_train))"
   ],
   "metadata": {
    "collapsed": false,
    "pycharm": {
     "name": "#%%\n"
    }
   }
  },
  {
   "cell_type": "code",
   "execution_count": 30,
   "outputs": [
    {
     "data": {
      "text/plain": "241"
     },
     "execution_count": 30,
     "metadata": {},
     "output_type": "execute_result"
    }
   ],
   "source": [
    "len(X_train)"
   ],
   "metadata": {
    "collapsed": false,
    "pycharm": {
     "name": "#%%\n"
    }
   }
  },
  {
   "cell_type": "code",
   "execution_count": 31,
   "outputs": [
    {
     "data": {
      "text/plain": "<Figure size 432x288 with 1 Axes>",
      "image/png": "[encoded data removed]"
     },
     "metadata": {
      "needs_background": "light"
     },
     "output_type": "display_data"
    }
   ],
   "source": [
    "plt.plot(X_train[1])\n",
    "plt.show()"
   ],
   "metadata": {
    "collapsed": false,
    "pycharm": {
     "name": "#%%\n"
    }
   }
  },
  {
   "cell_type": "code",
   "execution_count": 32,
   "id": "ef426dc4-fc40-4f9d-95a3-2273e035ce8d",
   "metadata": {
    "pycharm": {
     "name": "#%%\n"
    }
   },
   "outputs": [
    {
     "data": {
      "text/plain": "(241, 1500)"
     },
     "execution_count": 32,
     "metadata": {},
     "output_type": "execute_result"
    }
   ],
   "source": [
    "X_train = np.array(X_train)\n",
    "X_train = X_train.reshape(-1, 1500)\n",
    "X_train.shape"
   ]
  },
  {
   "cell_type": "code",
   "execution_count": 33,
   "id": "a38c41a0-a694-41d2-b07b-5885e910f076",
   "metadata": {
    "pycharm": {
     "name": "#%%\n"
    }
   },
   "outputs": [
    {
     "data": {
      "text/plain": "(241, 500)"
     },
     "execution_count": 33,
     "metadata": {},
     "output_type": "execute_result"
    }
   ],
   "source": [
    "Y_train = np.array(Y_train)\n",
    "Y_train = Y_train.reshape(-1, 500)\n",
    "Y_train.shape"
   ]
  },
  {
   "cell_type": "code",
   "execution_count": 86,
   "outputs": [
    {
     "name": "stdout",
     "output_type": "stream",
     "text": [
      "Model: \"sequential_4\"\n",
      "_________________________________________________________________\n",
      " Layer (type)                Output Shape              Param #   \n",
      "=================================================================\n",
      " conv1d_4 (Conv1D)           (None, 1500, 100)         200       \n",
      "                                                                 \n",
      " lstm_4 (LSTM)               (None, 200)               240800    \n",
      "                                                                 \n",
      " dense_8 (Dense)             (None, 200)               40200     \n",
      "                                                                 \n",
      " flatten_4 (Flatten)         (None, 200)               0         \n",
      "                                                                 \n",
      " dense_9 (Dense)             (None, 500)               100500    \n",
      "                                                                 \n",
      "=================================================================\n",
      "Total params: 381,700\n",
      "Trainable params: 381,700\n",
      "Non-trainable params: 0\n",
      "_________________________________________________________________\n"
     ]
    }
   ],
   "source": [
    "from keras.layers import Conv1D, LSTM, Flatten\n",
    "\n",
    "model = Sequential()\n",
    "model.add(Conv1D(filters=1000, kernel_size=1, input_shape=(1500, 1)))\n",
    "model.add(LSTM(500))\n",
    "model.add(Dense(500))\n",
    "model.add(Flatten())\n",
    "model.add(Dense(500))\n",
    "\n",
    "model.compile(optimizer='rmsprop', loss='mse')\n",
    "model.summary()"
   ],
   "metadata": {
    "collapsed": false,
    "pycharm": {
     "name": "#%%\n"
    }
   }
  },
  {
   "cell_type": "code",
   "execution_count": 87,
   "id": "e324359e-4308-47ac-9af4-589a2eb41274",
   "metadata": {
    "pycharm": {
     "name": "#%%\n"
    }
   },
   "outputs": [
    {
     "name": "stdout",
     "output_type": "stream",
     "text": [
      "Epoch 1/10\n",
      "8/8 [==============================] - 31s 4s/step - loss: 3.2680e-05\n",
      "Epoch 2/10\n",
      "8/8 [==============================] - 30s 4s/step - loss: 2.1380e-05\n",
      "Epoch 3/10\n",
      "8/8 [==============================] - 32s 4s/step - loss: 2.1526e-05\n",
      "Epoch 4/10\n",
      "8/8 [==============================] - 31s 4s/step - loss: 2.1020e-05\n",
      "Epoch 5/10\n",
      "8/8 [==============================] - 31s 4s/step - loss: 2.1810e-05\n",
      "Epoch 6/10\n",
      "8/8 [==============================] - 31s 4s/step - loss: 2.1529e-05\n",
      "Epoch 7/10\n",
      "8/8 [==============================] - 31s 4s/step - loss: 2.1244e-05\n",
      "Epoch 8/10\n",
      "8/8 [==============================] - 31s 4s/step - loss: 2.0492e-05\n",
      "Epoch 9/10\n",
      "8/8 [==============================] - 31s 4s/step - loss: 2.1400e-05\n",
      "Epoch 10/10\n",
      "8/8 [==============================] - 31s 4s/step - loss: 2.1318e-05\n"
     ]
    },
    {
     "data": {
      "text/plain": "<keras.callbacks.History at 0x21212b1bf10>"
     },
     "execution_count": 87,
     "metadata": {},
     "output_type": "execute_result"
    }
   ],
   "source": [
    "model.fit(X_train, Y_train, epochs=10)"
   ]
  },
  {
   "cell_type": "code",
   "execution_count": 94,
   "outputs": [
    {
     "data": {
      "text/plain": "<Figure size 432x288 with 1 Axes>",
      "image/png": "[encoded data removed]"
     },
     "metadata": {
      "needs_background": "light"
     },
     "output_type": "display_data"
    }
   ],
   "source": [
    "nr = 4\n",
    "example_x_train = X_train[nr]\n",
    "example_x_train_res = example_x_train.reshape(1, 1500)\n",
    "pred = model.predict(example_x_train_res)\n",
    "plt.plot(pred[0])\n",
    "plt.show()"
   ],
   "metadata": {
    "collapsed": false,
    "pycharm": {
     "name": "#%%\n"
    }
   }
  },
  {
   "cell_type": "code",
   "execution_count": null,
   "outputs": [],
   "source": [
    "plt.plot(list(example_x_train)+list(samples[nr+1][:500]))\n",
    "plt.show()\n",
    "plt.plot(list(example_x_train)+list(pred[0]))\n",
    "plt.show()"
   ],
   "metadata": {
    "collapsed": false,
    "pycharm": {
     "name": "#%%\n"
    }
   }
  }
 ],
 "metadata": {
  "kernelspec": {
   "display_name": "python3",
   "language": "python",
   "name": "python3"
  },
  "language_info": {
   "codemirror_mode": {
    "name": "ipython",
    "version": 3
   },
   "file_extension": ".py",
   "mimetype": "text/x-python",
   "name": "python",
   "nbconvert_exporter": "python",
   "pygments_lexer": "ipython3",
   "version": "3.9.12"
  }
 },
 "nbformat": 4,
 "nbformat_minor": 5
}