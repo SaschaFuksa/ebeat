{
 "cells": [
  {
   "cell_type": "code",
   "execution_count": 145,
   "metadata": {},
   "outputs": [],
   "source": [
    "import librosa\n",
    "import numpy as np\n",
    "from pydub import AudioSegment\n",
    "from sklearn import preprocessing\n",
    "from matplotlib import pyplot as plt\n",
    "from scipy import signal\n",
    "import pandas as pd"
   ]
  },
  {
   "cell_type": "code",
   "execution_count": 146,
   "metadata": {
    "pycharm": {
     "name": "#%%\n"
    }
   },
   "outputs": [
    {
     "data": {
      "text/plain": "326330"
     },
     "execution_count": 146,
     "metadata": {},
     "output_type": "execute_result"
    }
   ],
   "source": [
    "pathAudio = '/Users/vanessahartmann/TechLab/train-stochastic'\n",
    "files = librosa.util.find_files(pathAudio, ext=['wav'])\n",
    "files = sorted(files, key=lambda x: int(x.split('_')[-1].split(\".\")[0]))\n",
    "samples = []\n",
    "max_len = 0\n",
    "for file_name in files:\n",
    "    song, sr = librosa.load(file_name)\n",
    "    resampled_part = signal.resample(song, int(len(song)/15))\n",
    "    max_len += len(resampled_part)\n",
    "    samples.append(resampled_part)\n",
    "max_len"
   ]
  },
  {
   "cell_type": "code",
   "execution_count": 147,
   "metadata": {
    "pycharm": {
     "name": "#%%\n"
    }
   },
   "outputs": [
    {
     "name": "stderr",
     "output_type": "stream",
     "text": [
      "/var/folders/c9/hsvl55q17d3615mwsgdwb8sm0000gn/T/ipykernel_42089/2919224953.py:1: VisibleDeprecationWarning: Creating an ndarray from ragged nested sequences (which is a list-or-tuple of lists-or-tuples-or ndarrays with different lengths or shapes) is deprecated. If you meant to do this, you must specify 'dtype=object' when creating the ndarray.\n",
      "  samples = np.array(samples)\n"
     ]
    }
   ],
   "source": [
    "samples = np.array(samples)\n",
    "full_song = []\n",
    "for sample in samples:\n",
    "    full_song.extend(sample)"
   ]
  },
  {
   "cell_type": "code",
   "execution_count": 148,
   "metadata": {
    "pycharm": {
     "name": "#%%\n"
    }
   },
   "outputs": [
    {
     "data": {
      "text/plain": "(326330,)"
     },
     "execution_count": 148,
     "metadata": {},
     "output_type": "execute_result"
    }
   ],
   "source": [
    "full_song = np.array(full_song)\n",
    "full_song.shape"
   ]
  },
  {
   "cell_type": "code",
   "execution_count": 149,
   "metadata": {
    "pycharm": {
     "name": "#%%\n"
    }
   },
   "outputs": [
    {
     "data": {
      "text/plain": "<Figure size 432x288 with 1 Axes>",
      "image/png": "[encoded data removed]"
     },
     "metadata": {
      "needs_background": "light"
     },
     "output_type": "display_data"
    }
   ],
   "source": [
    "plt.plot(full_song[:100000])\n",
    "plt.show()"
   ]
  },
  {
   "cell_type": "code",
   "execution_count": 150,
   "metadata": {
    "pycharm": {
     "name": "#%%\n"
    }
   },
   "outputs": [
    {
     "data": {
      "text/plain": "         actual\n0     -0.022670\n1      0.006272\n2     -0.003801\n3      0.002728\n4     -0.002127\n...         ...\n99995  0.470886\n99996  0.551510\n99997  0.206552\n99998  0.136482\n99999  0.264821\n\n[100000 rows x 1 columns]",
      "text/html": "<div>\n<style scoped>\n    .dataframe tbody tr th:only-of-type {\n        vertical-align: middle;\n    }\n\n    .dataframe tbody tr th {\n        vertical-align: top;\n    }\n\n    .dataframe thead th {\n        text-align: right;\n    }\n</style>\n<table border=\"1\" class=\"dataframe\">\n  <thead>\n    <tr style=\"text-align: right;\">\n      <th></th>\n      <th>actual</th>\n    </tr>\n  </thead>\n  <tbody>\n    <tr>\n      <th>0</th>\n      <td>-0.022670</td>\n    </tr>\n    <tr>\n      <th>1</th>\n      <td>0.006272</td>\n    </tr>\n    <tr>\n      <th>2</th>\n      <td>-0.003801</td>\n    </tr>\n    <tr>\n      <th>3</th>\n      <td>0.002728</td>\n    </tr>\n    <tr>\n      <th>4</th>\n      <td>-0.002127</td>\n    </tr>\n    <tr>\n      <th>...</th>\n      <td>...</td>\n    </tr>\n    <tr>\n      <th>99995</th>\n      <td>0.470886</td>\n    </tr>\n    <tr>\n      <th>99996</th>\n      <td>0.551510</td>\n    </tr>\n    <tr>\n      <th>99997</th>\n      <td>0.206552</td>\n    </tr>\n    <tr>\n      <th>99998</th>\n      <td>0.136482</td>\n    </tr>\n    <tr>\n      <th>99999</th>\n      <td>0.264821</td>\n    </tr>\n  </tbody>\n</table>\n<p>100000 rows × 1 columns</p>\n</div>"
     },
     "execution_count": 150,
     "metadata": {},
     "output_type": "execute_result"
    }
   ],
   "source": [
    "df = pd.DataFrame(columns=['actual'], data=full_song[:100000])\n",
    "df"
   ]
  },
  {
   "cell_type": "code",
   "execution_count": 151,
   "metadata": {
    "pycharm": {
     "name": "#%%\n"
    }
   },
   "outputs": [],
   "source": [
    "prev_batch_size = 880 * 2\n",
    "next_batch_size = 60\n",
    "sum_batch_size = prev_batch_size+next_batch_size\n",
    "X = []\n",
    "Y = []\n",
    "for i in range(0, len(full_song)-prev_batch_size):\n",
    "    if i < len(full_song)-sum_batch_size:\n",
    "        Y.append(full_song[i+prev_batch_size:i+sum_batch_size])\n",
    "        X.append(np.array(full_song[i:i+prev_batch_size]))"
   ]
  },
  {
   "cell_type": "code",
   "execution_count": 152,
   "metadata": {
    "pycharm": {
     "name": "#%%\n"
    }
   },
   "outputs": [
    {
     "ename": "KeyboardInterrupt",
     "evalue": "",
     "output_type": "error",
     "traceback": [
      "\u001B[0;31m---------------------------------------------------------------------------\u001B[0m",
      "\u001B[0;31mKeyboardInterrupt\u001B[0m                         Traceback (most recent call last)",
      "Input \u001B[0;32mIn [152]\u001B[0m, in \u001B[0;36m<cell line: 1>\u001B[0;34m()\u001B[0m\n\u001B[0;32m----> 1\u001B[0m X \u001B[38;5;241m=\u001B[39m np\u001B[38;5;241m.\u001B[39marray(X)\u001B[38;5;241m.\u001B[39mreshape(\u001B[38;5;241m-\u001B[39m\u001B[38;5;241m1\u001B[39m, prev_batch_size, \u001B[38;5;241m1\u001B[39m)\n\u001B[1;32m      2\u001B[0m Y \u001B[38;5;241m=\u001B[39m np\u001B[38;5;241m.\u001B[39marray(Y)\u001B[38;5;241m.\u001B[39mreshape(\u001B[38;5;241m-\u001B[39m\u001B[38;5;241m1\u001B[39m, next_batch_size)\n",
      "\u001B[0;31mKeyboardInterrupt\u001B[0m: "
     ]
    }
   ],
   "source": [
    "X = np.array(X).reshape(-1, prev_batch_size, 1)\n",
    "Y = np.array(Y).reshape(-1, next_batch_size)"
   ]
  },
  {
   "cell_type": "code",
   "execution_count": null,
   "metadata": {
    "pycharm": {
     "name": "#%%\n"
    }
   },
   "outputs": [],
   "source": [
    "X.shape"
   ]
  },
  {
   "cell_type": "code",
   "execution_count": null,
   "metadata": {
    "pycharm": {
     "name": "#%%\n"
    }
   },
   "outputs": [],
   "source": [
    "Y.shape"
   ]
  },
  {
   "cell_type": "code",
   "execution_count": 143,
   "metadata": {
    "pycharm": {
     "name": "#%%\n"
    }
   },
   "outputs": [
    {
     "name": "stdout",
     "output_type": "stream",
     "text": [
      "Model: \"sequential_9\"\n",
      "_________________________________________________________________\n",
      " Layer (type)                Output Shape              Param #   \n",
      "=================================================================\n",
      " conv1d_9 (Conv1D)           (None, 761, 20)           20020     \n",
      "                                                                 \n",
      " max_pooling1d_9 (MaxPooling  (None, 151, 20)          0         \n",
      " 1D)                                                             \n",
      "                                                                 \n",
      " lstm_9 (LSTM)               (None, 100)               48400     \n",
      "                                                                 \n",
      " dense_9 (Dense)             (None, 60)                6060      \n",
      "                                                                 \n",
      "=================================================================\n",
      "Total params: 74,480\n",
      "Trainable params: 74,480\n",
      "Non-trainable params: 0\n",
      "_________________________________________________________________\n"
     ]
    }
   ],
   "source": [
    "from keras.layers import LSTM, Dense, Conv1D, MaxPool1D, ConvLSTM1D, Reshape\n",
    "from keras.models import  Sequential\n",
    "\n",
    "model = Sequential()\n",
    "model.add(Conv1D(filters=20, kernel_size=1000, input_shape=(1760, 1)))\n",
    "model.add(MaxPool1D(pool_size=10, strides=5))\n",
    "model.add(LSTM(100, activation='sigmoid'))\n",
    "model.add(Dense(60))\n",
    "'''model = Sequential()\n",
    "model.add(Conv1D(filters=20, kernel_size=1000, input_shape=(1760, 1)))\n",
    "model.add(MaxPool1D(pool_size=10, strides=2))\n",
    "model.add(Reshape((-1, 376, 20)))\n",
    "model.add(ConvLSTM1D(filters=100, kernel_size=100))\n",
    "model.add(LSTM(100, activation='sigmoid'))\n",
    "model.add(Dense(60))'''\n",
    "\n",
    "model.compile(optimizer='rmsprop', loss='mse')\n",
    "model.summary()"
   ]
  },
  {
   "cell_type": "code",
   "execution_count": null,
   "metadata": {
    "pycharm": {
     "name": "#%%\n"
    }
   },
   "outputs": [],
   "source": [
    "model.fit(X, Y, epochs=1)"
   ]
  },
  {
   "cell_type": "code",
   "execution_count": 117,
   "metadata": {
    "pycharm": {
     "name": "#%%\n"
    }
   },
   "outputs": [],
   "source": [
    "filename = 'model_weights.h5'\n",
    "model.save(filename)"
   ]
  },
  {
   "cell_type": "code",
   "execution_count": 119,
   "metadata": {
    "pycharm": {
     "name": "#%%\n"
    }
   },
   "outputs": [
    {
     "ename": "IndexError",
     "evalue": "index 1 is out of bounds for axis 0 with size 0",
     "output_type": "error",
     "traceback": [
      "\u001B[0;31m---------------------------------------------------------------------------\u001B[0m",
      "\u001B[0;31mIndexError\u001B[0m                                Traceback (most recent call last)",
      "Input \u001B[0;32mIn [119]\u001B[0m, in \u001B[0;36m<cell line: 2>\u001B[0;34m()\u001B[0m\n\u001B[1;32m      1\u001B[0m nr \u001B[38;5;241m=\u001B[39m \u001B[38;5;241m0\u001B[39m\n\u001B[0;32m----> 2\u001B[0m plt\u001B[38;5;241m.\u001B[39mplot(\u001B[43mX\u001B[49m\u001B[43m[\u001B[49m\u001B[43mnr\u001B[49m\u001B[38;5;241;43m+\u001B[39;49m\u001B[38;5;241;43m1\u001B[39;49m\u001B[43m]\u001B[49m\u001B[38;5;241m.\u001B[39mreshape(prev_batch_size, \u001B[38;5;241m0\u001B[39m)[:\u001B[38;5;241m100\u001B[39m])\n\u001B[1;32m      3\u001B[0m plt\u001B[38;5;241m.\u001B[39mshow()\n",
      "\u001B[0;31mIndexError\u001B[0m: index 1 is out of bounds for axis 0 with size 0"
     ]
    }
   ],
   "source": [
    "nr = 150000\n",
    "plt.plot(X[nr+1].reshape(prev_batch_size, 1)[:100])\n",
    "plt.show()"
   ]
  },
  {
   "cell_type": "code",
   "execution_count": 114,
   "metadata": {
    "pycharm": {
     "name": "#%%\n"
    }
   },
   "outputs": [
    {
     "ename": "IndexError",
     "evalue": "index 400 is out of bounds for axis 0 with size 0",
     "output_type": "error",
     "traceback": [
      "\u001B[0;31m---------------------------------------------------------------------------\u001B[0m",
      "\u001B[0;31mIndexError\u001B[0m                                Traceback (most recent call last)",
      "Input \u001B[0;32mIn [114]\u001B[0m, in \u001B[0;36m<cell line: 2>\u001B[0;34m()\u001B[0m\n\u001B[1;32m      1\u001B[0m \u001B[38;5;124;03m'''example = X[11000].reshape(1, 1, 1760, 1)'''\u001B[39;00m\n\u001B[0;32m----> 2\u001B[0m example \u001B[38;5;241m=\u001B[39m \u001B[43mX\u001B[49m\u001B[43m[\u001B[49m\u001B[38;5;241;43m400\u001B[39;49m\u001B[43m]\u001B[49m\n\u001B[1;32m      3\u001B[0m example \u001B[38;5;241m=\u001B[39m example\u001B[38;5;241m.\u001B[39mreshape(\u001B[38;5;241m1\u001B[39m, \u001B[38;5;241m1760\u001B[39m, \u001B[38;5;241m1\u001B[39m)\n\u001B[1;32m      4\u001B[0m example\u001B[38;5;241m.\u001B[39mshape\n",
      "\u001B[0;31mIndexError\u001B[0m: index 400 is out of bounds for axis 0 with size 0"
     ]
    }
   ],
   "source": [
    "'''example = X[11000].reshape(1, 1, 1760, 1)'''\n",
    "example = X[400]\n",
    "example = example.reshape(1, 1760, 1)\n",
    "example.shape"
   ]
  },
  {
   "cell_type": "code",
   "execution_count": 115,
   "metadata": {
    "pycharm": {
     "name": "#%%\n"
    }
   },
   "outputs": [
    {
     "ename": "NameError",
     "evalue": "name 'example' is not defined",
     "output_type": "error",
     "traceback": [
      "\u001B[0;31m---------------------------------------------------------------------------\u001B[0m",
      "\u001B[0;31mNameError\u001B[0m                                 Traceback (most recent call last)",
      "Input \u001B[0;32mIn [115]\u001B[0m, in \u001B[0;36m<cell line: 2>\u001B[0;34m()\u001B[0m\n\u001B[1;32m      1\u001B[0m \u001B[38;5;124;03m'''pred = model.predict(example)'''\u001B[39;00m\n\u001B[0;32m----> 2\u001B[0m pred \u001B[38;5;241m=\u001B[39m model\u001B[38;5;241m.\u001B[39mpredict(\u001B[43mexample\u001B[49m)\n\u001B[1;32m      3\u001B[0m example\n",
      "\u001B[0;31mNameError\u001B[0m: name 'example' is not defined"
     ]
    }
   ],
   "source": [
    "'''pred = model.predict(example)'''\n",
    "pred = model.predict(example)\n",
    "example"
   ]
  },
  {
   "cell_type": "code",
   "execution_count": 116,
   "metadata": {
    "pycharm": {
     "name": "#%%\n"
    }
   },
   "outputs": [
    {
     "ename": "NameError",
     "evalue": "name 'pred' is not defined",
     "output_type": "error",
     "traceback": [
      "\u001B[0;31m---------------------------------------------------------------------------\u001B[0m",
      "\u001B[0;31mNameError\u001B[0m                                 Traceback (most recent call last)",
      "Input \u001B[0;32mIn [116]\u001B[0m, in \u001B[0;36m<cell line: 1>\u001B[0;34m()\u001B[0m\n\u001B[0;32m----> 1\u001B[0m plt\u001B[38;5;241m.\u001B[39mplot(\u001B[43mpred\u001B[49m[\u001B[38;5;241m0\u001B[39m])\n\u001B[1;32m      2\u001B[0m plt\u001B[38;5;241m.\u001B[39mshow()\n",
      "\u001B[0;31mNameError\u001B[0m: name 'pred' is not defined"
     ]
    }
   ],
   "source": [
    "plt.plot(pred[0])\n",
    "plt.show()"
   ]
  },
  {
   "cell_type": "code",
   "execution_count": null,
   "outputs": [],
   "source": [],
   "metadata": {
    "collapsed": false,
    "pycharm": {
     "name": "#%%\n"
    }
   }
  }
 ],
 "metadata": {
  "kernelspec": {
   "display_name": "Python 3",
   "language": "python",
   "name": "python3"
  }
 },
 "nbformat": 4,
 "nbformat_minor": 1
}