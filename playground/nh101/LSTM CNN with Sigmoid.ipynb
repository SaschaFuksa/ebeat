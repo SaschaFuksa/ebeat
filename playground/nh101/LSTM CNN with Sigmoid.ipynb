{
 "cells": [
  {
   "cell_type": "code",
   "execution_count": null,
   "metadata": {
    "collapsed": true,
    "pycharm": {
     "is_executing": true
    }
   },
   "outputs": [
    {
     "name": "stdout",
     "output_type": "stream",
     "text": [
      "Model: \"sequential_1\"\n",
      "_________________________________________________________________\n",
      " Layer (type)                Output Shape              Param #   \n",
      "=================================================================\n",
      " conv1d_1 (Conv1D)           (None, None, 32)          128       \n",
      "                                                                 \n",
      " max_pooling1d_1 (MaxPooling  (None, None, 32)         0         \n",
      " 1D)                                                             \n",
      "                                                                 \n",
      " lstm_1 (LSTM)               (None, None, 100)         53200     \n",
      "                                                                 \n",
      " dense_1 (Dense)             (None, None, 1)           101       \n",
      "                                                                 \n",
      "=================================================================\n",
      "Total params: 53,429\n",
      "Trainable params: 53,429\n",
      "Non-trainable params: 0\n",
      "_________________________________________________________________\n",
      "Epoch 1/25\n",
      "1/1 - 32s - loss: 0.0202 - 32s/epoch - 32s/step\n",
      "Epoch 2/25\n",
      "1/1 - 28s - loss: 0.0320 - 28s/epoch - 28s/step\n",
      "Epoch 3/25\n",
      "1/1 - 26s - loss: 0.0179 - 26s/epoch - 26s/step\n",
      "Epoch 4/25\n",
      "1/1 - 26s - loss: 0.0106 - 26s/epoch - 26s/step\n",
      "Epoch 5/25\n",
      "1/1 - 26s - loss: 0.0193 - 26s/epoch - 26s/step\n",
      "Epoch 6/25\n",
      "1/1 - 26s - loss: 0.0190 - 26s/epoch - 26s/step\n",
      "Epoch 7/25\n",
      "1/1 - 26s - loss: 0.0121 - 26s/epoch - 26s/step\n",
      "Epoch 8/25\n",
      "1/1 - 26s - loss: 0.0106 - 26s/epoch - 26s/step\n",
      "Epoch 9/25\n",
      "1/1 - 26s - loss: 0.0147 - 26s/epoch - 26s/step\n",
      "Epoch 10/25\n",
      "1/1 - 26s - loss: 0.0160 - 26s/epoch - 26s/step\n",
      "Epoch 11/25\n",
      "1/1 - 26s - loss: 0.0128 - 26s/epoch - 26s/step\n",
      "Epoch 12/25\n",
      "1/1 - 26s - loss: 0.0102 - 26s/epoch - 26s/step\n",
      "Epoch 13/25\n",
      "1/1 - 26s - loss: 0.0113 - 26s/epoch - 26s/step\n",
      "Epoch 14/25\n",
      "1/1 - 33s - loss: 0.0135 - 33s/epoch - 33s/step\n",
      "Epoch 15/25\n",
      "1/1 - 36s - loss: 0.0132 - 36s/epoch - 36s/step\n",
      "Epoch 16/25\n",
      "1/1 - 35s - loss: 0.0111 - 35s/epoch - 35s/step\n",
      "Epoch 17/25\n",
      "1/1 - 36s - loss: 0.0101 - 36s/epoch - 36s/step\n",
      "Epoch 18/25\n",
      "1/1 - 36s - loss: 0.0112 - 36s/epoch - 36s/step\n",
      "Epoch 19/25\n",
      "1/1 - 37s - loss: 0.0122 - 37s/epoch - 37s/step\n",
      "Epoch 20/25\n",
      "1/1 - 36s - loss: 0.0117 - 36s/epoch - 36s/step\n",
      "Epoch 21/25\n",
      "1/1 - 36s - loss: 0.0105 - 36s/epoch - 36s/step\n",
      "Epoch 22/25\n",
      "1/1 - 36s - loss: 0.0102 - 36s/epoch - 36s/step\n",
      "Epoch 23/25\n",
      "1/1 - 249s - loss: 0.0110 - 249s/epoch - 249s/step\n",
      "Epoch 24/25\n"
     ]
    }
   ],
   "source": [
    "import os\n",
    "import librosa\n",
    "import numpy\n",
    "import tensorflow as tf\n",
    "from tensorflow.keras import Sequential\n",
    "from tensorflow.keras import layers\n",
    "from tensorflow.keras.layers import Dense\n",
    "from tensorflow.keras.layers import LSTM\n",
    "\n",
    "directory = os.listdir(\"/Users/nicolahaller/Documents/WI Master/Semester 2/Technology Lab/Samples/\")\n",
    "array = []\n",
    "\n",
    "sequence_length = []\n",
    "for sample_name in directory:\n",
    "    if 'wav' in sample_name:\n",
    "        file_path = os.path.join(\"/Users/nicolahaller/Documents/WI Master/Semester 2/Technology Lab/Samples/\", sample_name)\n",
    "        song, sr = librosa.load(file_path)\n",
    "        sequence_length.append(len(song))\n",
    "        array.append(song)\n",
    "\n",
    "\n",
    "# Removing the last element using slicing\n",
    "lastElementIndex = len(array)-1\n",
    "in_array = array[:lastElementIndex]\n",
    "out_array = array[1:]\n",
    "\n",
    "\n",
    "#Create the Input and Output to tensors\n",
    "input_tensor = tf.convert_to_tensor(in_array)\n",
    "output_tensor = tf.convert_to_tensor(out_array)\n",
    "\n",
    "\n",
    "batch_size = len(input_tensor)\n",
    "timestep = sequence_length[0]\n",
    "\n",
    "input_data = tf.reshape(input_tensor, shape=(batch_size, timestep, 1))\n",
    "output_data = tf.reshape(output_tensor, shape=(batch_size, timestep, 1))\n",
    "\n",
    "# Test mit Conv1D Layer, MaxPooling1D Layer, Aktivierungsfunktion Sigmoid\n",
    "# Mögliche Anpassungen: Anzahl der Samples, Aktivierungsfunktion \n",
    "\n",
    "# define model\n",
    "model = Sequential()\n",
    "model.add(layers.Conv1D(filters=32, kernel_size=3,strides=1, padding=\"causal\", activation=\"sigmoid\",input_shape=[None, 1]))\n",
    "model.add(layers.MaxPooling1D(pool_size=2, strides=1, padding='same'))\n",
    "model.add(LSTM(100, activation='sigmoid', return_sequences=True, input_shape=(timestep, 1)))\n",
    "model.add(Dense(1))\n",
    "model.compile(optimizer='adam', loss='mse')\n",
    "model.summary()\n",
    "\n",
    "# fit model\n",
    "model.fit(input_data, output_data, epochs=25, verbose=2)\n"
   ]
  },
  {
   "cell_type": "code",
   "execution_count": null,
   "outputs": [],
   "source": [
    "# demonstrate prediction\n",
    "x_input = array[2]\n",
    "x_input = x_input.reshape((1, timestep, 1))\n",
    "yhat = model.predict(x_input, verbose=2)\n",
    "print(yhat)\n"
   ],
   "metadata": {
    "collapsed": false,
    "pycharm": {
     "name": "#%%\n",
     "is_executing": true
    }
   }
  },
  {
   "cell_type": "code",
   "execution_count": null,
   "outputs": [],
   "source": [
    "print(array[3])\n"
   ],
   "metadata": {
    "collapsed": false,
    "pycharm": {
     "name": "#%%\n",
     "is_executing": true
    }
   }
  },
  {
   "cell_type": "code",
   "execution_count": null,
   "outputs": [],
   "source": [
    "# Evaluate the model on the test data using `evaluate`\n",
    "print(\"Evaluate on test data\")\n",
    "results = model.evaluate(input_tensor, output_tensor, batch_size)\n",
    "print(\"test loss, test acc:\", results)"
   ],
   "metadata": {
    "collapsed": false,
    "pycharm": {
     "name": "#%%\n",
     "is_executing": true
    }
   }
  }
 ],
 "metadata": {
  "kernelspec": {
   "display_name": "Python 3",
   "language": "python",
   "name": "python3"
  },
  "language_info": {
   "codemirror_mode": {
    "name": "ipython",
    "version": 2
   },
   "file_extension": ".py",
   "mimetype": "text/x-python",
   "name": "python",
   "nbconvert_exporter": "python",
   "pygments_lexer": "ipython2",
   "version": "2.7.6"
  }
 },
 "nbformat": 4,
 "nbformat_minor": 0
}