{
 "cells": [
  {
   "cell_type": "code",
   "execution_count": 1,
   "metadata": {
    "collapsed": true
   },
   "outputs": [
    {
     "name": "stderr",
     "output_type": "stream",
     "text": [
      "/Library/Frameworks/Python.framework/Versions/3.9/lib/python3.9/site-packages/pydub/utils.py:165: RuntimeWarning: Couldn't find ffmpeg or avconv - defaulting to ffmpeg, but may not work\n",
      "  warn(\"Couldn't find ffmpeg or avconv - defaulting to ffmpeg, but may not work\", RuntimeWarning)\n"
     ]
    },
    {
     "ename": "ModuleNotFoundError",
     "evalue": "No module named 'Paths'",
     "output_type": "error",
     "traceback": [
      "\u001B[0;31m---------------------------------------------------------------------------\u001B[0m",
      "\u001B[0;31mModuleNotFoundError\u001B[0m                       Traceback (most recent call last)",
      "Input \u001B[0;32mIn [1]\u001B[0m, in \u001B[0;36m<cell line: 7>\u001B[0;34m()\u001B[0m\n\u001B[1;32m      5\u001B[0m \u001B[38;5;28;01mfrom\u001B[39;00m \u001B[38;5;21;01mkeras\u001B[39;00m\u001B[38;5;21;01m.\u001B[39;00m\u001B[38;5;21;01mlayers\u001B[39;00m \u001B[38;5;28;01mimport\u001B[39;00m Dense, LSTM, Conv1D, MaxPooling1D, Dropout, Activation\n\u001B[1;32m      6\u001B[0m \u001B[38;5;28;01mfrom\u001B[39;00m \u001B[38;5;21;01mkeras\u001B[39;00m\u001B[38;5;21;01m.\u001B[39;00m\u001B[38;5;21;01mmodels\u001B[39;00m \u001B[38;5;28;01mimport\u001B[39;00m Sequential\n\u001B[0;32m----> 7\u001B[0m \u001B[38;5;28;01mimport\u001B[39;00m \u001B[38;5;21;01mPaths\u001B[39;00m\n\u001B[1;32m      8\u001B[0m \u001B[38;5;28;01mfrom\u001B[39;00m \u001B[38;5;21;01mSampleModel\u001B[39;00m \u001B[38;5;28;01mimport\u001B[39;00m SampleModel\n\u001B[1;32m      9\u001B[0m \u001B[38;5;28;01mfrom\u001B[39;00m \u001B[38;5;21;01mkeras\u001B[39;00m \u001B[38;5;28;01mimport\u001B[39;00m models, layers\n",
      "\u001B[0;31mModuleNotFoundError\u001B[0m: No module named 'Paths'"
     ]
    }
   ],
   "source": [
    "import os\n",
    "import librosa\n",
    "from pydub import AudioSegment\n",
    "import tensorflow as tf\n",
    "from keras.layers import Dense, LSTM, Conv1D, MaxPooling1D, Dropout, Activation\n",
    "from keras.models import Sequential\n",
    "import Paths\n",
    "from SampleModel import SampleModel\n",
    "from keras import models, layers\n",
    "import time\n",
    "\n",
    "directory = os.listdir(Paths.IN_DIRECTORY)\n",
    "\n",
    "EDGE_SIZE = 50\n",
    "\n",
    "\n",
    "def define_model(len_ts,\n",
    "                 hidden_neurons = 10,\n",
    "                 nfeature=1,\n",
    "                 batch_size=None,\n",
    "                 stateful=False):\n",
    "    in_out_neurons = 1\n",
    "\n",
    "    inp = layers.Input(batch_shape= (batch_size, len_ts, nfeature),\n",
    "                       name=\"input\")\n",
    "\n",
    "    rnn = layers.LSTM(hidden_neurons,\n",
    "                    return_sequences=True,\n",
    "                    stateful=stateful,\n",
    "                    name=\"RNN\")(inp)\n",
    "\n",
    "    dens = layers.TimeDistributed(layers.Dense(in_out_neurons,name=\"dense\"))(rnn)\n",
    "    model = models.Model(inputs=[inp],outputs=[dens])\n",
    "\n",
    "    model.compile(loss=\"mean_squared_error\",\n",
    "                  sample_weight_mode=\"temporal\",\n",
    "                  optimizer=\"rmsprop\")\n",
    "    return(model,(inp,rnn,dens))\n",
    "\n",
    "\n",
    "def load_sample_edges(path: str):\n",
    "    start_samples = []\n",
    "    end_samples = []\n",
    "    files = os.listdir(path)\n",
    "    files = sorted(files, key=lambda x: int(x.split('_')[-1].split(\".\")[0]))\n",
    "    print(files[:11])\n",
    "    i = 0\n",
    "    #sequence_length = []\n",
    "    sampleModel = []\n",
    "    for file_name in files:\n",
    "        if 'wav' in file_name:\n",
    "            complete_path = path + file_name\n",
    "            sample = AudioSegment.from_wav(complete_path)\n",
    "            sample_array = sample.get_array_of_samples()\n",
    "            start_array = sample_array[:EDGE_SIZE]\n",
    "            start_samples.append(start_array)\n",
    "            end_array = sample_array[-EDGE_SIZE:]\n",
    "            end_samples.append(end_array)\n",
    "            model = SampleModel(name=file_name, start=start_array, end=end_array)\n",
    "            sampleModel.append(model)\n",
    "            #sequence_length.append(len(model))\n",
    "            i += 1\n",
    "\n",
    "    end_samples = end_samples[:-1]\n",
    "    start_samples = start_samples[1:]\n",
    "\n",
    "    return end_samples, start_samples, sampleModel\n",
    "\n",
    "\n",
    "end_samples, start_samples, sampleModel = load_sample_edges(Paths.IN_DIRECTORY)\n",
    "\n",
    "\n",
    "\n",
    "source_samples = []\n",
    "target_samples = []\n",
    "source_values = set()\n",
    "target_values = set()\n",
    "\n",
    "i = 0\n",
    "\n",
    "while i < 9:\n",
    "    #print(end_samples[i])\n",
    "    #print(start_samples[i])\n",
    "    i += 1\n",
    "\n",
    "\n",
    "i = 0\n",
    "\n",
    "while i < len(end_samples):\n",
    "    source_samples.append(end_samples[i])\n",
    "    target_samples.append(start_samples[i])\n",
    "    for value in end_samples[i]:\n",
    "        if value not in source_values:\n",
    "            source_values.add(value)\n",
    "    for value in start_samples[i]:\n",
    "        if value not in target_values:\n",
    "            target_values.add(value)\n",
    "    i += 1\n",
    "\n",
    "source_values_sorted = sorted(list(source_values))\n",
    "target_values_sorted = sorted(list(target_values))\n",
    "\n",
    "#source_samples = tf.convert_to_tensor(source_samples)\n",
    "#target_samples = tf.convert_to_tensor(target_samples)\n",
    "\n",
    "input_data = tf.reshape(source_samples, shape=(len(source_samples), EDGE_SIZE, 1))\n",
    "output_data = tf.reshape(target_samples, shape=(len(source_samples), EDGE_SIZE, 1))\n",
    "\n",
    "'''\n",
    "\n",
    "\n",
    "# Removing the last element using slicing\n",
    "lastElementIndex = len(array)-1\n",
    "in_array = array[:lastElementIndex]\n",
    "out_array = array[1:]\n",
    "\n",
    "\n",
    "#Create the Input and Output to tensors\n",
    "input_tensor = tf.convert_to_tensor(in_array)\n",
    "output_tensor = tf.convert_to_tensor(out_array)\n",
    "\n",
    "\n",
    "\n",
    "timestep = sequence_length[0]\n",
    "\n",
    "input_data = tf.reshape(input_tensor, shape=(batch_size, timestep, 1))\n",
    "output_data = tf.reshape(output_tensor, shape=(batch_size, timestep, 1))\n",
    "\n",
    "\n",
    "\n",
    "# Test mit Conv1D Layer, MaxPooling1D Layer, Aktivierungsfunktion Sigmoid\n",
    "# Mögliche Anpassungen: Anzahl der Samples, Aktivierungsfunktion\n",
    "\n",
    "# define model\n",
    "model = Sequential()\n",
    "model.add(Conv1D(filters=32, kernel_size=3,strides=1, padding=\"causal\", activation=\"sigmoid\",input_shape=[None, 1]))\n",
    "model.add(MaxPooling1D(pool_size=2, strides=1, padding='same'))\n",
    "model.add(LSTM(100, activation='sigmoid', return_sequences=True, input_shape=(EDGE_SIZE, 1)))\n",
    "model.add(Dense(1))\n",
    "'''\n",
    "\n",
    "\n",
    "model = Sequential()\n",
    "model.add(LSTM(10, activation='relu', return_sequences=True, input_shape=(EDGE_SIZE, 1)))\n",
    "model.add(Dense(1))\n",
    "model.compile(optimizer='adam', loss='mse')\n",
    "#model.summary()\n",
    "\n",
    "# fit model\n",
    "start = time.time()\n",
    "model.fit(input_data, output_data, epochs=20000, verbose=1)\n",
    "end = time.time()\n",
    "print(\"Time Took :{:3.2f} min\".format( (end-start)/60 ))"
   ]
  },
  {
   "cell_type": "code",
   "execution_count": null,
   "outputs": [],
   "source": [
    "# demonstrate prediction\n",
    "x_input = source_samples[4]\n",
    "x_input = tf.reshape(x_input, (1, EDGE_SIZE, 1))\n",
    "yhat = model.predict(x_input, verbose=2)\n",
    "print(yhat)"
   ],
   "metadata": {
    "collapsed": false,
    "pycharm": {
     "name": "#%%\n"
    }
   }
  },
  {
   "cell_type": "code",
   "execution_count": null,
   "outputs": [],
   "source": [
    "print(source_samples[5])"
   ],
   "metadata": {
    "collapsed": false,
    "pycharm": {
     "name": "#%%\n"
    }
   }
  },
  {
   "cell_type": "code",
   "execution_count": null,
   "outputs": [],
   "source": [
    "print(len(source_samples))\n",
    "\n"
   ],
   "metadata": {
    "collapsed": false,
    "pycharm": {
     "name": "#%%\n"
    }
   }
  }
 ],
 "metadata": {
  "kernelspec": {
   "display_name": "Python 3",
   "language": "python",
   "name": "python3"
  },
  "language_info": {
   "codemirror_mode": {
    "name": "ipython",
    "version": 2
   },
   "file_extension": ".py",
   "mimetype": "text/x-python",
   "name": "python",
   "nbconvert_exporter": "python",
   "pygments_lexer": "ipython2",
   "version": "2.7.6"
  }
 },
 "nbformat": 4,
 "nbformat_minor": 0
}