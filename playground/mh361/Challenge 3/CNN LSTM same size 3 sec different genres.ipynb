{
 "cells": [
  {
   "cell_type": "code",
   "execution_count": 1,
   "id": "2052319e-e85d-4361-b060-52884246b08e",
   "metadata": {},
   "outputs": [],
   "source": [
    "import librosa\n",
    "import numpy as np\n",
    "#import pandas as pd\n",
    "from keras.layers import Dense\n",
    "from keras.models import Sequential\n",
    "from pydub import AudioSegment\n",
    "from scipy import signal\n",
    "from sklearn import preprocessing"
   ]
  },
  {
   "cell_type": "code",
   "execution_count": 2,
   "id": "4abb4ec0-273b-4150-bbfd-791ff14df2bd",
   "metadata": {},
   "outputs": [],
   "source": [
    "pathAudio = '/home/stud/m/mh361/share/sample-same-with-diff-genre/'\n",
    "files = librosa.util.find_files(pathAudio, ext=['mp3'])\n",
    "\n",
    "song_lounge_it = []\n",
    "song_tuesday_night = []\n",
    "song_kingtop = []\n",
    "for file in files:\n",
    "    if 'Nutmeg' in file:\n",
    "        song_lounge_it.append(file)\n",
    "    if 'John' in file:\n",
    "        song_tuesday_night.append(file)\n",
    "    if 'Holizna' in file:\n",
    "        song_kingtop.append(file)\n",
    "song_lounge_it = sorted(song_lounge_it, key=lambda x: int(x.split('_')[-1].split('.')[0]))\n",
    "song_tuesday_night = sorted(song_tuesday_night, key=lambda x: int(x.split('_')[-1].split('.')[0]))\n",
    "song_kingtop = sorted(song_kingtop, key=lambda x: int(x.split('_')[-1].split('.')[0]))"
   ]
  },
  {
   "cell_type": "code",
   "execution_count": 3,
   "id": "7acd6c7d",
   "metadata": {
    "collapsed": false,
    "jupyter": {
     "outputs_hidden": false
    },
    "pycharm": {
     "name": "#%%\n"
    }
   },
   "outputs": [
    {
     "name": "stdout",
     "output_type": "stream",
     "text": [
      "124\n",
      "44\n",
      "69\n"
     ]
    }
   ],
   "source": [
    "print(len(song_lounge_it))\n",
    "print(len(song_tuesday_night))\n",
    "print(len(song_kingtop))"
   ]
  },
  {
   "cell_type": "code",
   "execution_count": 4,
   "id": "b2b71c21",
   "metadata": {
    "collapsed": false,
    "jupyter": {
     "outputs_hidden": false
    },
    "pycharm": {
     "name": "#%%\n"
    }
   },
   "outputs": [
    {
     "data": {
      "text/plain": [
       "237"
      ]
     },
     "execution_count": 4,
     "metadata": {},
     "output_type": "execute_result"
    }
   ],
   "source": [
    "full_songs = []\n",
    "full_songs.extend(song_lounge_it)\n",
    "full_songs.extend(song_tuesday_night)\n",
    "full_songs.extend(song_kingtop)\n",
    "len(full_songs)"
   ]
  },
  {
   "cell_type": "code",
   "execution_count": 5,
   "id": "9db0918b-2753-4f15-9123-a6753f9a120c",
   "metadata": {},
   "outputs": [],
   "source": [
    "from matplotlib import pyplot as plt\n",
    "def normalize_sample(sample):\n",
    "    array_of_samples = sample.get_array_of_samples()\n",
    "    np_arr = np.array(array_of_samples)\n",
    "    np_arr = np_arr.reshape(1, -1)\n",
    "    return preprocessing.normalize(np_arr)\n",
    "# todo: Check smallest sample!!\n",
    "samples = []\n",
    "samples_sec_canal = []\n",
    "for file_name in full_songs:\n",
    "    sample = AudioSegment.from_mp3(file_name)\n",
    "    mono_samples = sample.split_to_mono()\n",
    "    normalized_sample = normalize_sample(mono_samples[0])[0]\n",
    "    #resampled_sample = signal.resample(normalized_sample, 1000)\n",
    "    samples.append(normalized_sample)\n",
    "    normalized_sample_sec_canal = normalize_sample(mono_samples[1])[0]\n",
    "    #resampled_sample_sec_canal = signal.resample(normalized_sample_sec_canal, 1000)\n",
    "    samples_sec_canal.append(normalized_sample_sec_canal)"
   ]
  },
  {
   "cell_type": "code",
   "execution_count": 6,
   "id": "de7554ee",
   "metadata": {
    "collapsed": false,
    "jupyter": {
     "outputs_hidden": false
    },
    "pycharm": {
     "name": "#%%\n"
    }
   },
   "outputs": [
    {
     "data": {
      "text/plain": [
       "8555"
      ]
     },
     "execution_count": 6,
     "metadata": {},
     "output_type": "execute_result"
    }
   ],
   "source": [
    "min(map(len, samples))"
   ]
  },
  {
   "cell_type": "code",
   "execution_count": 7,
   "id": "0f2be702",
   "metadata": {
    "collapsed": false,
    "jupyter": {
     "outputs_hidden": false
    },
    "pycharm": {
     "name": "#%%\n"
    }
   },
   "outputs": [
    {
     "data": {
      "image/png": "[encoded data removed]",
      "text/plain": [
       "<Figure size 432x288 with 1 Axes>"
      ]
     },
     "metadata": {
      "needs_background": "light"
     },
     "output_type": "display_data"
    }
   ],
   "source": [
    "import itertools\n",
    "\n",
    "plt.plot(list(itertools.chain.from_iterable(samples)))\n",
    "plt.show()"
   ]
  },
  {
   "cell_type": "code",
   "execution_count": 8,
   "id": "85faf20f",
   "metadata": {
    "collapsed": false,
    "jupyter": {
     "outputs_hidden": false
    },
    "pycharm": {
     "name": "#%%\n"
    }
   },
   "outputs": [
    {
     "data": {
      "text/plain": [
       "237"
      ]
     },
     "execution_count": 8,
     "metadata": {},
     "output_type": "execute_result"
    }
   ],
   "source": [
    "len(samples)"
   ]
  },
  {
   "cell_type": "code",
   "execution_count": 9,
   "id": "7ef8cf4d",
   "metadata": {
    "collapsed": false,
    "jupyter": {
     "outputs_hidden": false
    },
    "pycharm": {
     "name": "#%%\n"
    }
   },
   "outputs": [],
   "source": [
    "# todo: Check smallest sample!!\n",
    "samples = []\n",
    "samples_sec_canal = []\n",
    "for file_name in full_songs:\n",
    "    sample = AudioSegment.from_mp3(file_name)\n",
    "    mono_samples = sample.split_to_mono()\n",
    "    normalized_sample = normalize_sample(mono_samples[0])[0]\n",
    "    resampled_sample = signal.resample(normalized_sample, int(len(normalized_sample)/50))\n",
    "    samples.append(resampled_sample)\n",
    "    normalized_sample_sec_canal = normalize_sample(mono_samples[1])[0]\n",
    "    resampled_sample_sec_canal = signal.resample(normalized_sample_sec_canal, int(len(normalized_sample)/50))\n",
    "    samples_sec_canal.append(resampled_sample_sec_canal)"
   ]
  },
  {
   "cell_type": "code",
   "execution_count": 10,
   "id": "2f77efb4",
   "metadata": {
    "collapsed": false,
    "jupyter": {
     "outputs_hidden": false
    },
    "pycharm": {
     "name": "#%%\n"
    }
   },
   "outputs": [],
   "source": [
    "edge_size = min(map(len, samples))"
   ]
  },
  {
   "cell_type": "code",
   "execution_count": 11,
   "id": "0edee7b3",
   "metadata": {
    "collapsed": false,
    "jupyter": {
     "outputs_hidden": false
    },
    "pycharm": {
     "name": "#%%\n"
    }
   },
   "outputs": [
    {
     "data": {
      "image/png": "[encoded data removed]",
      "text/plain": [
       "<Figure size 432x288 with 1 Axes>"
      ]
     },
     "metadata": {
      "needs_background": "light"
     },
     "output_type": "display_data"
    }
   ],
   "source": [
    "plt.plot(list(itertools.chain.from_iterable(samples)))\n",
    "plt.show()"
   ]
  },
  {
   "cell_type": "code",
   "execution_count": 12,
   "id": "21c8e94f-6997-49eb-91b7-c08285b1869c",
   "metadata": {},
   "outputs": [],
   "source": [
    "X_train = []\n",
    "Y_train = []\n",
    "for i in range(len(samples)-1):\n",
    "    Y_train.append(True)\n",
    "    first_half = list(samples[i][-edge_size:])\n",
    "    last_half = list(samples[i + 1][:edge_size])\n",
    "    X_train.append(first_half+last_half)\n",
    "    if(i < len(samples)-2):\n",
    "        Y_train.append(True)\n",
    "        sec_last_half = list(samples[i + 2][:edge_size])\n",
    "        X_train.append(first_half+sec_last_half)"
   ]
  },
  {
   "cell_type": "code",
   "execution_count": 13,
   "id": "a5dece43",
   "metadata": {
    "collapsed": false,
    "jupyter": {
     "outputs_hidden": false
    },
    "pycharm": {
     "name": "#%%\n"
    }
   },
   "outputs": [
    {
     "data": {
      "text/plain": [
       "342"
      ]
     },
     "execution_count": 13,
     "metadata": {},
     "output_type": "execute_result"
    }
   ],
   "source": [
    "min(map(len, X_train))"
   ]
  },
  {
   "cell_type": "code",
   "execution_count": 14,
   "id": "c68e424f",
   "metadata": {
    "collapsed": false,
    "jupyter": {
     "outputs_hidden": false
    },
    "pycharm": {
     "name": "#%%\n"
    }
   },
   "outputs": [
    {
     "data": {
      "text/plain": [
       "471"
      ]
     },
     "execution_count": 14,
     "metadata": {},
     "output_type": "execute_result"
    }
   ],
   "source": [
    "len(X_train)"
   ]
  },
  {
   "cell_type": "code",
   "execution_count": 15,
   "id": "7e9a31a3",
   "metadata": {
    "collapsed": false,
    "jupyter": {
     "outputs_hidden": false
    },
    "pycharm": {
     "name": "#%%\n"
    }
   },
   "outputs": [
    {
     "data": {
      "image/png": "[encoded data removed]",
      "text/plain": [
       "<Figure size 432x288 with 1 Axes>"
      ]
     },
     "metadata": {
      "needs_background": "light"
     },
     "output_type": "display_data"
    }
   ],
   "source": [
    "plt.plot(X_train[1])\n",
    "plt.show()"
   ]
  },
  {
   "cell_type": "code",
   "execution_count": 16,
   "id": "8e004b76-5aa3-493f-b6e4-35347d681fb4",
   "metadata": {},
   "outputs": [],
   "source": [
    "from numpy import random\n",
    "\n",
    "def get_strange_end_part(samples, current_index, max_len):\n",
    "    x = random.randint(max_len-1)\n",
    "    if (x != current_index+1) and (x != current_index+2):\n",
    "        return list(samples[x][:edge_size])\n",
    "    else:\n",
    "        return get_strange_end_part(samples, current_index, max_len)\n",
    "\n",
    "\n",
    "for i in range(len(samples)-1):\n",
    "    first_half = list(samples[i][-edge_size:])\n",
    "    last_half = get_strange_end_part(samples, i, len(samples))\n",
    "    X_train.append(first_half+last_half)\n",
    "    Y_train.append(False)\n",
    "    sec_last_half = get_strange_end_part(samples, i, len(samples))\n",
    "    X_train.append(first_half+sec_last_half)\n",
    "    Y_train.append(False)"
   ]
  },
  {
   "cell_type": "code",
   "execution_count": 17,
   "id": "97f7e183",
   "metadata": {
    "collapsed": false,
    "jupyter": {
     "outputs_hidden": false
    },
    "pycharm": {
     "name": "#%%\n"
    }
   },
   "outputs": [
    {
     "data": {
      "text/plain": [
       "943"
      ]
     },
     "execution_count": 17,
     "metadata": {},
     "output_type": "execute_result"
    }
   ],
   "source": [
    "len(X_train)"
   ]
  },
  {
   "cell_type": "code",
   "execution_count": 18,
   "id": "fde23a6c",
   "metadata": {
    "collapsed": false,
    "jupyter": {
     "outputs_hidden": false
    },
    "pycharm": {
     "name": "#%%\n"
    }
   },
   "outputs": [
    {
     "data": {
      "text/plain": [
       "342"
      ]
     },
     "execution_count": 18,
     "metadata": {},
     "output_type": "execute_result"
    }
   ],
   "source": [
    "min(map(len, X_train))"
   ]
  },
  {
   "cell_type": "code",
   "execution_count": 19,
   "id": "ef426dc4-fc40-4f9d-95a3-2273e035ce8d",
   "metadata": {},
   "outputs": [
    {
     "data": {
      "text/plain": [
       "(943, 342)"
      ]
     },
     "execution_count": 19,
     "metadata": {},
     "output_type": "execute_result"
    }
   ],
   "source": [
    "X_train = np.array(X_train)\n",
    "X_train = X_train.reshape(-1, 2*edge_size)\n",
    "X_train.shape"
   ]
  },
  {
   "cell_type": "code",
   "execution_count": 20,
   "id": "a38c41a0-a694-41d2-b07b-5885e910f076",
   "metadata": {},
   "outputs": [
    {
     "data": {
      "text/plain": [
       "(943, 1)"
      ]
     },
     "execution_count": 20,
     "metadata": {},
     "output_type": "execute_result"
    }
   ],
   "source": [
    "Y_train = np.array(Y_train)\n",
    "Y_train = Y_train.reshape(-1, 1)\n",
    "Y_train.shape"
   ]
  },
  {
   "cell_type": "code",
   "execution_count": 21,
   "id": "38d53431",
   "metadata": {
    "collapsed": false,
    "jupyter": {
     "outputs_hidden": false
    },
    "pycharm": {
     "name": "#%%\n"
    }
   },
   "outputs": [
    {
     "name": "stderr",
     "output_type": "stream",
     "text": [
      "2022-06-24 14:29:43.202235: I tensorflow/core/platform/cpu_feature_guard.cc:151] This TensorFlow binary is optimized with oneAPI Deep Neural Network Library (oneDNN) to use the following CPU instructions in performance-critical operations:  SSE4.1 SSE4.2 AVX AVX2 FMA\n",
      "To enable them in other operations, rebuild TensorFlow with the appropriate compiler flags.\n",
      "2022-06-24 14:29:43.814176: I tensorflow/core/common_runtime/gpu/gpu_device.cc:1525] Created device /job:localhost/replica:0/task:0/device:GPU:0 with 9634 MB memory:  -> device: 0, name: GeForce RTX 2080 Ti, pci bus id: 0000:05:00.0, compute capability: 7.5\n"
     ]
    },
    {
     "name": "stdout",
     "output_type": "stream",
     "text": [
      "Model: \"sequential\"\n",
      "_________________________________________________________________\n",
      " Layer (type)                Output Shape              Param #   \n",
      "=================================================================\n",
      " conv1d (Conv1D)             (None, 341, 512)          1536      \n",
      "                                                                 \n",
      " cu_dnnlstm (CuDNNLSTM)      (None, 341, 512)          2101248   \n",
      "                                                                 \n",
      " dense (Dense)               (None, 341, 512)          262656    \n",
      "                                                                 \n",
      " flatten (Flatten)           (None, 174592)            0         \n",
      "                                                                 \n",
      " dense_1 (Dense)             (None, 1)                 174593    \n",
      "                                                                 \n",
      "=================================================================\n",
      "Total params: 2,540,033\n",
      "Trainable params: 2,540,033\n",
      "Non-trainable params: 0\n",
      "_________________________________________________________________\n"
     ]
    }
   ],
   "source": [
    "from keras.layers import Conv1D, LSTM, Flatten, CuDNNLSTM\n",
    "from tensorflow.keras.optimizers import SGD\n",
    "\n",
    "model = Sequential()\n",
    "model.add(Conv1D(filters=512, kernel_size=2, input_shape=(2*edge_size, 1))) # 2 # 3 / filters 512\n",
    "model.add(CuDNNLSTM(512, return_sequences=True)) # 256 # 8 #512 #256\n",
    "model.add(Dense(512))\n",
    "model.add(Flatten())\n",
    "model.add(Dense(1, activation='sigmoid'))\n",
    "\n",
    "model.compile(optimizer='rmsprop', loss='binary_crossentropy', metrics=['accuracy']) #1 'rmsprop' 2 'adam' 3 SGD(learning_rate=0.01)\n",
    "model.summary()"
   ]
  },
  {
   "cell_type": "code",
   "execution_count": 22,
   "id": "e324359e-4308-47ac-9af4-589a2eb41274",
   "metadata": {},
   "outputs": [
    {
     "name": "stdout",
     "output_type": "stream",
     "text": [
      "Epoch 1/100\n"
     ]
    },
    {
     "name": "stderr",
     "output_type": "stream",
     "text": [
      "2022-06-24 14:29:45.996118: I tensorflow/stream_executor/cuda/cuda_dnn.cc:368] Loaded cuDNN version 7605\n",
      "2022-06-24 14:29:45.997566: I tensorflow/core/platform/default/subprocess.cc:304] Start cannot spawn child process: No such file or directory\n",
      "2022-06-24 14:29:45.998215: I tensorflow/core/platform/default/subprocess.cc:304] Start cannot spawn child process: No such file or directory\n",
      "2022-06-24 14:29:45.998238: W tensorflow/stream_executor/gpu/asm_compiler.cc:80] Couldn't get ptxas version string: INTERNAL: Couldn't invoke ptxas --version\n",
      "2022-06-24 14:29:45.998654: I tensorflow/core/platform/default/subprocess.cc:304] Start cannot spawn child process: No such file or directory\n",
      "2022-06-24 14:29:45.998716: W tensorflow/stream_executor/gpu/redzone_allocator.cc:314] INTERNAL: Failed to launch ptxas\n",
      "Relying on driver to perform ptx compilation. \n",
      "Modify $PATH to customize ptxas location.\n",
      "This message will be only logged once.\n"
     ]
    },
    {
     "name": "stdout",
     "output_type": "stream",
     "text": [
      "30/30 [==============================] - 10s 161ms/step - loss: 1.3294 - accuracy: 0.5143\n",
      "Epoch 2/100\n",
      "30/30 [==============================] - 1s 36ms/step - loss: 0.7066 - accuracy: 0.4836\n",
      "Epoch 3/100\n",
      "30/30 [==============================] - 1s 35ms/step - loss: 0.7569 - accuracy: 0.4867\n",
      "Epoch 4/100\n",
      "30/30 [==============================] - 1s 35ms/step - loss: 0.8127 - accuracy: 0.4952\n",
      "Epoch 5/100\n",
      "30/30 [==============================] - 1s 35ms/step - loss: 0.7217 - accuracy: 0.5037\n",
      "Epoch 6/100\n",
      "30/30 [==============================] - 1s 35ms/step - loss: 0.7327 - accuracy: 0.5133\n",
      "Epoch 7/100\n",
      "30/30 [==============================] - 1s 35ms/step - loss: 0.6993 - accuracy: 0.5037\n",
      "Epoch 8/100\n",
      "30/30 [==============================] - 1s 35ms/step - loss: 0.7706 - accuracy: 0.4931\n",
      "Epoch 9/100\n",
      "30/30 [==============================] - 1s 36ms/step - loss: 0.7161 - accuracy: 0.4857\n",
      "Epoch 10/100\n",
      "30/30 [==============================] - 1s 35ms/step - loss: 0.7898 - accuracy: 0.4899\n",
      "Epoch 11/100\n",
      "30/30 [==============================] - 1s 35ms/step - loss: 0.7530 - accuracy: 0.5069\n",
      "Epoch 12/100\n",
      "30/30 [==============================] - 1s 36ms/step - loss: 0.7208 - accuracy: 0.4857\n",
      "Epoch 13/100\n",
      "30/30 [==============================] - 1s 36ms/step - loss: 0.7121 - accuracy: 0.5111\n",
      "Epoch 14/100\n",
      "30/30 [==============================] - 1s 36ms/step - loss: 0.7184 - accuracy: 0.4942\n",
      "Epoch 15/100\n",
      "30/30 [==============================] - 1s 36ms/step - loss: 0.7312 - accuracy: 0.5292\n",
      "Epoch 16/100\n",
      "30/30 [==============================] - 1s 36ms/step - loss: 0.7303 - accuracy: 0.4814\n",
      "Epoch 17/100\n",
      "30/30 [==============================] - 1s 36ms/step - loss: 0.8353 - accuracy: 0.5366\n",
      "Epoch 18/100\n",
      "30/30 [==============================] - 1s 36ms/step - loss: 0.7106 - accuracy: 0.5048\n",
      "Epoch 19/100\n",
      "30/30 [==============================] - 1s 36ms/step - loss: 0.7132 - accuracy: 0.4963\n",
      "Epoch 20/100\n",
      "30/30 [==============================] - 1s 36ms/step - loss: 0.7228 - accuracy: 0.5207\n",
      "Epoch 21/100\n",
      "30/30 [==============================] - 1s 36ms/step - loss: 0.7104 - accuracy: 0.5122\n",
      "Epoch 22/100\n",
      "30/30 [==============================] - 1s 36ms/step - loss: 0.7133 - accuracy: 0.5090\n",
      "Epoch 23/100\n",
      "30/30 [==============================] - 1s 36ms/step - loss: 0.7821 - accuracy: 0.4995\n",
      "Epoch 24/100\n",
      "30/30 [==============================] - 1s 36ms/step - loss: 0.6945 - accuracy: 0.5186\n",
      "Epoch 25/100\n",
      "30/30 [==============================] - 1s 36ms/step - loss: 0.7206 - accuracy: 0.5058\n",
      "Epoch 26/100\n",
      "30/30 [==============================] - 1s 36ms/step - loss: 0.6938 - accuracy: 0.5122\n",
      "Epoch 27/100\n",
      "30/30 [==============================] - 1s 36ms/step - loss: 0.7808 - accuracy: 0.5048\n",
      "Epoch 28/100\n",
      "30/30 [==============================] - 1s 36ms/step - loss: 0.7069 - accuracy: 0.5048\n",
      "Epoch 29/100\n",
      "30/30 [==============================] - 1s 36ms/step - loss: 0.8109 - accuracy: 0.5154\n",
      "Epoch 30/100\n",
      "30/30 [==============================] - 1s 36ms/step - loss: 0.6914 - accuracy: 0.5164\n",
      "Epoch 31/100\n",
      "30/30 [==============================] - 1s 37ms/step - loss: 0.7394 - accuracy: 0.5037\n",
      "Epoch 32/100\n",
      "30/30 [==============================] - 1s 37ms/step - loss: 0.6936 - accuracy: 0.5122\n",
      "Epoch 33/100\n",
      "30/30 [==============================] - 1s 38ms/step - loss: 0.7484 - accuracy: 0.5239\n",
      "Epoch 34/100\n",
      "30/30 [==============================] - 1s 38ms/step - loss: 0.7495 - accuracy: 0.4952\n",
      "Epoch 35/100\n",
      "30/30 [==============================] - 1s 38ms/step - loss: 0.6926 - accuracy: 0.5387\n",
      "Epoch 36/100\n",
      "30/30 [==============================] - 1s 39ms/step - loss: 0.8273 - accuracy: 0.5239\n",
      "Epoch 37/100\n",
      "30/30 [==============================] - 1s 39ms/step - loss: 0.6913 - accuracy: 0.5302\n",
      "Epoch 38/100\n",
      "30/30 [==============================] - 1s 39ms/step - loss: 0.7113 - accuracy: 0.5270\n",
      "Epoch 39/100\n",
      "30/30 [==============================] - 1s 39ms/step - loss: 0.7136 - accuracy: 0.5175\n",
      "Epoch 40/100\n",
      "30/30 [==============================] - 1s 39ms/step - loss: 0.6899 - accuracy: 0.5376\n",
      "Epoch 41/100\n",
      "30/30 [==============================] - 1s 39ms/step - loss: 0.7007 - accuracy: 0.5355\n",
      "Epoch 42/100\n",
      "30/30 [==============================] - 1s 39ms/step - loss: 0.7101 - accuracy: 0.5514\n",
      "Epoch 43/100\n",
      "30/30 [==============================] - 1s 39ms/step - loss: 0.6988 - accuracy: 0.5419\n",
      "Epoch 44/100\n",
      "30/30 [==============================] - 1s 39ms/step - loss: 0.7151 - accuracy: 0.5398\n",
      "Epoch 45/100\n",
      "30/30 [==============================] - 1s 40ms/step - loss: 0.6932 - accuracy: 0.5323\n",
      "Epoch 46/100\n",
      "30/30 [==============================] - 1s 39ms/step - loss: 0.6945 - accuracy: 0.5376\n",
      "Epoch 47/100\n",
      "30/30 [==============================] - 1s 39ms/step - loss: 0.7041 - accuracy: 0.5483\n",
      "Epoch 48/100\n",
      "30/30 [==============================] - 1s 39ms/step - loss: 0.6875 - accuracy: 0.5472\n",
      "Epoch 49/100\n",
      "30/30 [==============================] - 1s 39ms/step - loss: 0.7126 - accuracy: 0.5578\n",
      "Epoch 50/100\n",
      "30/30 [==============================] - 1s 39ms/step - loss: 0.7094 - accuracy: 0.5642\n",
      "Epoch 51/100\n",
      "30/30 [==============================] - 1s 39ms/step - loss: 0.6833 - accuracy: 0.5652\n",
      "Epoch 52/100\n",
      "30/30 [==============================] - 1s 40ms/step - loss: 0.7059 - accuracy: 0.5217\n",
      "Epoch 53/100\n",
      "30/30 [==============================] - 1s 39ms/step - loss: 0.6965 - accuracy: 0.5461\n",
      "Epoch 54/100\n",
      "30/30 [==============================] - 1s 39ms/step - loss: 0.7079 - accuracy: 0.5493\n",
      "Epoch 55/100\n",
      "30/30 [==============================] - 1s 39ms/step - loss: 0.6831 - accuracy: 0.5493\n",
      "Epoch 56/100\n",
      "30/30 [==============================] - 1s 40ms/step - loss: 0.7050 - accuracy: 0.5663\n",
      "Epoch 57/100\n",
      "30/30 [==============================] - 1s 39ms/step - loss: 0.6949 - accuracy: 0.5705\n",
      "Epoch 58/100\n",
      "30/30 [==============================] - 1s 39ms/step - loss: 0.6841 - accuracy: 0.5737\n",
      "Epoch 59/100\n",
      "30/30 [==============================] - 1s 39ms/step - loss: 0.7400 - accuracy: 0.5408\n",
      "Epoch 60/100\n",
      "30/30 [==============================] - 1s 39ms/step - loss: 0.6913 - accuracy: 0.5567\n",
      "Epoch 61/100\n",
      "30/30 [==============================] - 1s 39ms/step - loss: 0.7125 - accuracy: 0.5567\n",
      "Epoch 62/100\n",
      "30/30 [==============================] - 1s 39ms/step - loss: 0.7625 - accuracy: 0.5514\n",
      "Epoch 63/100\n",
      "30/30 [==============================] - 1s 39ms/step - loss: 0.6791 - accuracy: 0.5684\n",
      "Epoch 64/100\n",
      "30/30 [==============================] - 1s 39ms/step - loss: 0.6987 - accuracy: 0.5557\n",
      "Epoch 65/100\n",
      "30/30 [==============================] - 1s 39ms/step - loss: 0.6859 - accuracy: 0.5610\n",
      "Epoch 66/100\n",
      "30/30 [==============================] - 1s 39ms/step - loss: 0.7089 - accuracy: 0.5493\n",
      "Epoch 67/100\n",
      "30/30 [==============================] - 1s 39ms/step - loss: 0.6772 - accuracy: 0.5896\n",
      "Epoch 68/100\n",
      "30/30 [==============================] - 1s 39ms/step - loss: 0.6974 - accuracy: 0.5769\n",
      "Epoch 69/100\n",
      "30/30 [==============================] - 1s 39ms/step - loss: 0.6827 - accuracy: 0.5536\n",
      "Epoch 70/100\n",
      "30/30 [==============================] - 1s 39ms/step - loss: 0.6826 - accuracy: 0.5673\n",
      "Epoch 71/100\n",
      "30/30 [==============================] - 1s 39ms/step - loss: 0.6871 - accuracy: 0.5663\n",
      "Epoch 72/100\n",
      "30/30 [==============================] - 1s 39ms/step - loss: 0.6914 - accuracy: 0.5620\n",
      "Epoch 73/100\n",
      "30/30 [==============================] - 1s 39ms/step - loss: 0.6953 - accuracy: 0.5748\n",
      "Epoch 74/100\n",
      "30/30 [==============================] - 1s 39ms/step - loss: 0.6755 - accuracy: 0.5928\n",
      "Epoch 75/100\n",
      "30/30 [==============================] - 1s 39ms/step - loss: 0.6827 - accuracy: 0.5811\n",
      "Epoch 76/100\n",
      "30/30 [==============================] - 1s 39ms/step - loss: 0.6923 - accuracy: 0.5461\n",
      "Epoch 77/100\n",
      "30/30 [==============================] - 1s 39ms/step - loss: 0.6742 - accuracy: 0.5769\n",
      "Epoch 78/100\n",
      "30/30 [==============================] - 1s 39ms/step - loss: 0.6755 - accuracy: 0.5832\n",
      "Epoch 79/100\n",
      "30/30 [==============================] - 1s 39ms/step - loss: 0.6933 - accuracy: 0.5695\n",
      "Epoch 80/100\n",
      "30/30 [==============================] - 1s 39ms/step - loss: 0.6763 - accuracy: 0.5769\n",
      "Epoch 81/100\n",
      "30/30 [==============================] - 1s 39ms/step - loss: 0.6905 - accuracy: 0.5525\n",
      "Epoch 82/100\n",
      "30/30 [==============================] - 1s 39ms/step - loss: 0.7294 - accuracy: 0.5748\n",
      "Epoch 83/100\n",
      "30/30 [==============================] - 1s 39ms/step - loss: 0.6697 - accuracy: 0.5875\n",
      "Epoch 84/100\n",
      "30/30 [==============================] - 1s 39ms/step - loss: 0.6768 - accuracy: 0.5769\n",
      "Epoch 85/100\n",
      "30/30 [==============================] - 1s 39ms/step - loss: 0.7183 - accuracy: 0.5854\n",
      "Epoch 86/100\n",
      "30/30 [==============================] - 1s 39ms/step - loss: 0.6681 - accuracy: 0.5737\n",
      "Epoch 87/100\n",
      "30/30 [==============================] - 1s 39ms/step - loss: 0.6709 - accuracy: 0.5854\n",
      "Epoch 88/100\n",
      "30/30 [==============================] - 1s 39ms/step - loss: 0.6713 - accuracy: 0.5811\n",
      "Epoch 89/100\n",
      "30/30 [==============================] - 1s 39ms/step - loss: 0.6784 - accuracy: 0.5790\n",
      "Epoch 90/100\n",
      "30/30 [==============================] - 1s 39ms/step - loss: 0.6782 - accuracy: 0.5748\n",
      "Epoch 91/100\n",
      "30/30 [==============================] - 1s 39ms/step - loss: 0.6732 - accuracy: 0.6002\n",
      "Epoch 92/100\n",
      "30/30 [==============================] - 1s 39ms/step - loss: 0.6803 - accuracy: 0.5769\n",
      "Epoch 93/100\n",
      "30/30 [==============================] - 1s 39ms/step - loss: 0.6899 - accuracy: 0.5811\n",
      "Epoch 94/100\n",
      "30/30 [==============================] - 1s 39ms/step - loss: 0.6668 - accuracy: 0.5896\n",
      "Epoch 95/100\n",
      "30/30 [==============================] - 1s 39ms/step - loss: 0.6688 - accuracy: 0.5928\n",
      "Epoch 96/100\n",
      "30/30 [==============================] - 1s 39ms/step - loss: 0.6776 - accuracy: 0.5875\n",
      "Epoch 97/100\n",
      "30/30 [==============================] - 1s 39ms/step - loss: 0.6705 - accuracy: 0.5790\n",
      "Epoch 98/100\n",
      "30/30 [==============================] - 1s 39ms/step - loss: 0.6792 - accuracy: 0.5822\n",
      "Epoch 99/100\n",
      "30/30 [==============================] - 1s 39ms/step - loss: 0.6727 - accuracy: 0.5801\n",
      "Epoch 100/100\n",
      "30/30 [==============================] - 1s 39ms/step - loss: 0.6790 - accuracy: 0.5631\n"
     ]
    },
    {
     "data": {
      "text/plain": [
       "<keras.callbacks.History at 0x7fe1c1515f10>"
      ]
     },
     "execution_count": 22,
     "metadata": {},
     "output_type": "execute_result"
    }
   ],
   "source": [
    "model.fit(X_train, Y_train, epochs=100, batch_size=32) \n",
    "# batch size 8\n",
    "#3s 21ms/step - loss: 0.6818 - accuracy: 0.5719\n",
    "# 3s 21ms/step - loss: 0.7044 - accuracy: 0.5729\n",
    "# 3s 21ms/step - loss: 0.6933 - accuracy: 0.4747\n",
    "# 2s 17ms/step - loss: 0.6923 - accuracy: 0.5574\n",
    "# 3s 29ms/step - loss: 0.6837 - accuracy: 0.5667\n",
    "#121/121 [==============================] - 4s 30ms/step - loss: 0.6872 - accuracy: 0.5595 filters 512 , lstm 512\n",
    "\n",
    "#batch size 64\n",
    "# 2s 117ms/step - loss: 0.6428 - accuracy: 0.5957\n",
    "#16/16 [==============================] - 2s 114ms/step - loss: 0.6905 - accuracy: 0.5522 -> kernel 4 lstm 512\n",
    "# 16/16 [==============================] - 2s 115ms/step - loss: 0.6914 - accuracy: 0.5429 kernel 3 lstm 512\n",
    "# 16/16 [==============================] - 2s 134ms/step - loss: 0.6446 - accuracy: 0.6070 kernel 2 lstm 512 filters 512\n",
    "# Epoch 1000/1000\n",
    "# 16/16 [==============================] - 2s 131ms/step - loss: 0.5504 - accuracy: 0.6856\n",
    "\n",
    "#batch size 32\n",
    "#  1s 46ms/step - loss: 0.7023 - accuracy: 0.5553\n",
    "\n",
    "#batch size 128\n",
    "#1s 92ms/step - loss: 0.6887 - accuracy: 0.5346\n",
    "\n"
   ]
  },
  {
   "cell_type": "code",
   "execution_count": 23,
   "id": "cc60baf3",
   "metadata": {
    "collapsed": false,
    "jupyter": {
     "outputs_hidden": false
    },
    "pycharm": {
     "name": "#%%\n"
    }
   },
   "outputs": [
    {
     "data": {
      "text/plain": [
       "array([[0.42719698]], dtype=float32)"
      ]
     },
     "execution_count": 23,
     "metadata": {},
     "output_type": "execute_result"
    }
   ],
   "source": [
    "example_x_train = X_train[-2]\n",
    "example_x_train = example_x_train.reshape(1, 2*edge_size)\n",
    "model.predict(example_x_train) \n",
    "#array([[0.40588772]], dtype=float32)\n",
    "# array([[0.38362142]], dtype=float32)\n",
    "# array([[0.49879223]], dtype=float32)\n",
    "# array([[0.32653403]], dtype=float32)"
   ]
  },
  {
   "cell_type": "code",
   "execution_count": 24,
   "id": "b661dafa-23ea-47f5-be12-eefcaff54f29",
   "metadata": {},
   "outputs": [
    {
     "data": {
      "text/plain": [
       "array([[0.4098465]], dtype=float32)"
      ]
     },
     "execution_count": 24,
     "metadata": {},
     "output_type": "execute_result"
    }
   ],
   "source": [
    "example_x_train = X_train[1]\n",
    "example_x_train = example_x_train.reshape(1, 2*edge_size)\n",
    "model.predict(example_x_train) \n",
    "#array([[0.66257244]], dtype=float32)\n",
    "#array([[0.72944134]], dtype=float32)\n",
    "#array([[0.4988544]], dtype=float32)\n",
    "#array([[0.63189554]], dtype=float32)"
   ]
  },
  {
   "cell_type": "code",
   "execution_count": 25,
   "id": "69345a92-6bb4-4086-a7d0-bebf82d25467",
   "metadata": {},
   "outputs": [],
   "source": [
    "#Forschungsfragen\n",
    "#› Lässt sich ein „hörbarer“ Musikstream erzeugen?\n",
    "#› Reicht das stochastische Sampling? Wie lange ist eine optimale Sampledauer?\n",
    "#› Wie ähnlich müssen sich die Urspungstracks bezüglich Stimmung, Genre, etc sein?\n",
    "#› Müssen Metadaten wie Lautstärke, Tempo, Spektrum, etc mit einbezogen werden?"
   ]
  }
 ],
 "metadata": {
  "kernelspec": {
   "display_name": "tf2.8",
   "language": "python",
   "name": "tf2.8"
  },
  "language_info": {
   "codemirror_mode": {
    "name": "ipython",
    "version": 3
   },
   "file_extension": ".py",
   "mimetype": "text/x-python",
   "name": "python",
   "nbconvert_exporter": "python",
   "pygments_lexer": "ipython3",
   "version": "3.9.12"
  }
 },
 "nbformat": 4,
 "nbformat_minor": 5
}
