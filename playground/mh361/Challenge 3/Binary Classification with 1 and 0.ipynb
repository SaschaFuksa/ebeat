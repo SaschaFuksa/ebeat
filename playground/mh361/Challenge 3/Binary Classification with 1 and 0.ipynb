{
 "cells": [
  {
   "cell_type": "code",
   "execution_count": 48,
   "metadata": {
    "pycharm": {
     "name": "#%%\n"
    },
    "tags": []
   },
   "outputs": [],
   "source": [
    "import librosa\n",
    "import numpy as np\n",
    "from matplotlib import pyplot as plt\n",
    "from pydub import AudioSegment\n",
    "from scipy import signal\n",
    "from sklearn import preprocessing\n",
    "import os"
   ]
  },
  {
   "cell_type": "code",
   "execution_count": 2,
   "metadata": {
    "collapsed": false,
    "jupyter": {
     "outputs_hidden": false
    },
    "pycharm": {
     "name": "#%%\n"
    }
   },
   "outputs": [
    {
     "data": {
      "text/plain": [
       "'/home/stud/m/mh361/share'"
      ]
     },
     "execution_count": 2,
     "metadata": {},
     "output_type": "execute_result"
    }
   ],
   "source": [
    "os.getcwd()"
   ]
  },
  {
   "cell_type": "code",
   "execution_count": 65,
   "metadata": {
    "collapsed": false,
    "jupyter": {
     "outputs_hidden": false
    },
    "pycharm": {
     "name": "#%%\n"
    }
   },
   "outputs": [],
   "source": [
    "pathAudio = '/home/stud/m/mh361/share/sample-same/'\n",
    "files = librosa.util.find_files(pathAudio, ext=['mp3'])\n",
    "songa = []\n",
    "songb = []\n",
    "songc = []\n",
    "for file in files:\n",
    "    if \"Dee Yan-Key-Yuletide\" in file:\n",
    "        songa.append(file)\n",
    "    if \"Holizna - So Broke\" in file:\n",
    "        songb.append(file)\n",
    "    if \"Independent Music Licensing Collective\" in file:\n",
    "        songc.append(file)\n",
    "filesa = sorted(songa, key=lambda x: int(x.split('_')[-1].split(\".\")[0]))\n",
    "filesb = sorted(songb, key=lambda x: int(x.split('_')[-1].split(\".\")[0]))\n",
    "filesc = sorted(songc, key=lambda x: int(x.split('_')[-1].split(\".\")[0]))\n",
    "filesa = filesa[:-1]\n",
    "filesb = filesb[:-1]\n",
    "filesc = filesc[:-1]\n",
    "\n",
    "files = filesa+filesb+filesc\n"
   ]
  },
  {
   "cell_type": "code",
   "execution_count": 70,
   "metadata": {
    "collapsed": false,
    "jupyter": {
     "outputs_hidden": false
    },
    "pycharm": {
     "name": "#%%\n"
    }
   },
   "outputs": [],
   "source": [
    "def normalize_sample(sample):\n",
    "    array_of_samples = sample.get_array_of_samples()\n",
    "    np_arr = np.array(array_of_samples)\n",
    "    np_arr = np_arr.reshape(1, -1)\n",
    "    return preprocessing.normalize(np_arr)\n",
    "\n",
    "\n",
    "samples = []\n",
    "samples_sec_canal = []\n",
    "for file_name in files:\n",
    "    sample = AudioSegment.from_mp3(file_name)\n",
    "    mono_samples = sample.split_to_mono()\n",
    "    normalized_sample = normalize_sample(mono_samples[0])[0]\n",
    "    #resampled_sample = signal.resample(normalized_sample, int(len(normalized_sample) / 35))\n",
    "    resampled_sample = signal.resample(normalized_sample, 4700)\n",
    "    samples.append(resampled_sample)\n",
    "    normalized_sample_sec_canal = normalize_sample(mono_samples[1])[0]\n",
    "    #resampled_sample_sec_canal = signal.resample(normalized_sample_sec_canal, int(len(normalized_sample) / 35))\n",
    "    resampled_sample_sec_canal = signal.resample(normalized_sample_sec_canal, 4700)\n",
    "    samples_sec_canal.append(resampled_sample_sec_canal)"
   ]
  },
  {
   "cell_type": "code",
   "execution_count": 71,
   "metadata": {},
   "outputs": [
    {
     "data": {
      "text/plain": [
       "4700"
      ]
     },
     "execution_count": 71,
     "metadata": {},
     "output_type": "execute_result"
    }
   ],
   "source": [
    "shortest_length = min(map(len, samples))\n",
    "shortest_length"
   ]
  },
  {
   "cell_type": "code",
   "execution_count": 72,
   "metadata": {},
   "outputs": [
    {
     "data": {
      "text/plain": [
       "4700"
      ]
     },
     "execution_count": 72,
     "metadata": {},
     "output_type": "execute_result"
    }
   ],
   "source": [
    "shortest_length = max(map(len, samples))\n",
    "shortest_length"
   ]
  },
  {
   "cell_type": "code",
   "execution_count": 73,
   "metadata": {
    "collapsed": false,
    "jupyter": {
     "outputs_hidden": false
    },
    "pycharm": {
     "name": "#%%\n"
    }
   },
   "outputs": [],
   "source": [
    "samples = np.array(samples)\n"
   ]
  },
  {
   "cell_type": "code",
   "execution_count": 74,
   "metadata": {},
   "outputs": [],
   "source": [
    "X_train = []\n",
    "Y_train = []\n",
    "for i in range(len(samples)):\n",
    "    Y_train.append(1)\n",
    "    if i < len(samples)-1:\n",
    "        x = list(samples[i])\n",
    "        y = list(samples[i+1])\n",
    "        z = x + y\n",
    "        X_train.append(z)\n",
    "    else:\n",
    "        x = list(samples[i])\n",
    "        y = list(samples[0])\n",
    "        z = x + y\n",
    "        X_train.append(z)"
   ]
  },
  {
   "cell_type": "code",
   "execution_count": null,
   "metadata": {},
   "outputs": [],
   "source": [
    "Y_train"
   ]
  },
  {
   "cell_type": "code",
   "execution_count": 75,
   "metadata": {
    "collapsed": false,
    "jupyter": {
     "outputs_hidden": false
    },
    "pycharm": {
     "name": "#%%\n"
    }
   },
   "outputs": [],
   "source": [
    "import random\n",
    "\n",
    "X_false = []\n",
    "Y_false = []\n",
    "shuffled = samples\n",
    "random.shuffle(shuffled)\n",
    "for i in range(len(shuffled)):\n",
    "    Y_false.append(0)\n",
    "    if i < len(shuffled)-1:\n",
    "        x = list(shuffled[i])\n",
    "        y = list(shuffled[i+1])\n",
    "        z = x + y\n",
    "        X_false.append(z)   \n",
    "    else:\n",
    "        x = list(shuffled[i])\n",
    "        y = list(shuffled[0])\n",
    "        z = x + y\n",
    "        X_false.append(z)\n",
    "\n"
   ]
  },
  {
   "cell_type": "code",
   "execution_count": 76,
   "metadata": {},
   "outputs": [],
   "source": [
    "X_train_total = []\n",
    "Y_train_total = []\n",
    "'''for i in range(len(X)):\n",
    "    X_train.append(X[i])\n",
    "    X_train.append(X_false[i])\n",
    "    Y_train.append(True)\n",
    "    Y_train.append(False)'''\n",
    "X_train_total.append(X_train)\n",
    "X_train_total.append(X_false)\n",
    "Y_train_total.append(Y_train)\n",
    "Y_train_total.append(Y_false)"
   ]
  },
  {
   "cell_type": "code",
   "execution_count": 77,
   "metadata": {
    "collapsed": false,
    "jupyter": {
     "outputs_hidden": false
    },
    "pycharm": {
     "name": "#%%\n"
    }
   },
   "outputs": [
    {
     "data": {
      "text/plain": [
       "(2, 145, 9400)"
      ]
     },
     "execution_count": 77,
     "metadata": {},
     "output_type": "execute_result"
    }
   ],
   "source": [
    "X_train_total = np.array(X_train_total)\n",
    "X_train_total.shape"
   ]
  },
  {
   "cell_type": "code",
   "execution_count": 78,
   "metadata": {
    "collapsed": false,
    "jupyter": {
     "outputs_hidden": false
    },
    "pycharm": {
     "name": "#%%\n"
    }
   },
   "outputs": [
    {
     "data": {
      "text/plain": [
       "(2, 145)"
      ]
     },
     "execution_count": 78,
     "metadata": {},
     "output_type": "execute_result"
    }
   ],
   "source": [
    "Y_train_total = np.array(Y_train_total)\n",
    "Y_train_total.shape"
   ]
  },
  {
   "cell_type": "code",
   "execution_count": 79,
   "metadata": {
    "collapsed": false,
    "jupyter": {
     "outputs_hidden": false
    },
    "pycharm": {
     "name": "#%%\n"
    }
   },
   "outputs": [
    {
     "data": {
      "text/plain": [
       "(290, 9400)"
      ]
     },
     "execution_count": 79,
     "metadata": {},
     "output_type": "execute_result"
    }
   ],
   "source": [
    "X_train_total = X_train_total.reshape(-1, 9400)\n",
    "X_train_total.shape"
   ]
  },
  {
   "cell_type": "code",
   "execution_count": 80,
   "metadata": {
    "collapsed": false,
    "jupyter": {
     "outputs_hidden": false
    },
    "pycharm": {
     "name": "#%%\n"
    }
   },
   "outputs": [
    {
     "data": {
      "text/plain": [
       "(290, 1)"
      ]
     },
     "execution_count": 80,
     "metadata": {},
     "output_type": "execute_result"
    }
   ],
   "source": [
    "Y_train_total = np.array(Y_train_total).reshape(-1, 1)\n",
    "Y_train_total.shape"
   ]
  },
  {
   "cell_type": "code",
   "execution_count": 81,
   "metadata": {
    "collapsed": false,
    "jupyter": {
     "outputs_hidden": false
    },
    "pycharm": {
     "name": "#%%\n"
    }
   },
   "outputs": [
    {
     "name": "stdout",
     "output_type": "stream",
     "text": [
      "Model: \"sequential_1\"\n",
      "_________________________________________________________________\n",
      " Layer (type)                Output Shape              Param #   \n",
      "=================================================================\n",
      " conv1d_1 (Conv1D)           (None, 9399, 50)          150       \n",
      "                                                                 \n",
      " max_pooling1d_1 (MaxPooling  (None, 4699, 50)         0         \n",
      " 1D)                                                             \n",
      "                                                                 \n",
      " lstm (LSTM)                 (None, 20)                5680      \n",
      "                                                                 \n",
      " dense (Dense)               (None, 1)                 21        \n",
      "                                                                 \n",
      "=================================================================\n",
      "Total params: 5,851\n",
      "Trainable params: 5,851\n",
      "Non-trainable params: 0\n",
      "_________________________________________________________________\n"
     ]
    }
   ],
   "source": [
    "from keras.layers import LSTM, Dense, Conv1D, MaxPool1D\n",
    "from keras.models import Sequential\n",
    "\n",
    "model = Sequential()\n",
    "model.add(Conv1D(filters=50, kernel_size=2, input_shape=(9400, 1))) #filter=100, kernel_size=4\n",
    "model.add(MaxPool1D(pool_size=2, strides=2)) # pool_size=4, strides=4\n",
    "model.add(LSTM(20, activation='tanh'))  #499 #sigmoid\n",
    "model.add(Dense(1))\n",
    "\n",
    "model.compile(optimizer='rmsprop', loss='binary_crossentropy', metrics=['accuracy'])  #sgd\n",
    "model.summary()"
   ]
  },
  {
   "cell_type": "code",
   "execution_count": 82,
   "metadata": {
    "collapsed": false,
    "jupyter": {
     "outputs_hidden": false
    },
    "pycharm": {
     "name": "#%%\n"
    }
   },
   "outputs": [
    {
     "name": "stdout",
     "output_type": "stream",
     "text": [
      "5/5 [==============================] - 22s 4s/step - loss: 5.3749 - accuracy: 0.0000e+00\n"
     ]
    },
    {
     "data": {
      "text/plain": [
       "<keras.callbacks.History at 0x7f252a359e20>"
      ]
     },
     "execution_count": 82,
     "metadata": {},
     "output_type": "execute_result"
    }
   ],
   "source": [
    "model.fit(X_train, Y_train, epochs=1)\n",
    "# 17 min"
   ]
  },
  {
   "cell_type": "code",
   "execution_count": null,
   "metadata": {
    "collapsed": false,
    "jupyter": {
     "outputs_hidden": false
    },
    "pycharm": {
     "name": "#%%\n"
    }
   },
   "outputs": [],
   "source": [
    "example_x_train = full_song[4000:6000]\n",
    "plt.plot(example_x_train)\n",
    "plt.show()\n",
    "example_x_train = example_x_train.reshape(1, 2000, 1)\n",
    "model.predict(example_x_train)"
   ]
  },
  {
   "cell_type": "code",
   "execution_count": null,
   "metadata": {
    "collapsed": false,
    "jupyter": {
     "outputs_hidden": false
    },
    "pycharm": {
     "name": "#%%\n"
    }
   },
   "outputs": [],
   "source": [
    "samples_sec_ch = np.array(samples_sec_canal)\n",
    "full_song_sec_ch = []\n",
    "for sample in samples_sec_ch:\n",
    "    full_song_sec_ch.extend(sample)\n",
    "second_channel_data = full_song_sec_ch[4000:6000]\n",
    "plt.plot(second_channel_data)\n",
    "plt.show()\n",
    "second_channel_data = np.array(second_channel_data)\n",
    "second_channel_data = second_channel_data.reshape(1, 2000)\n",
    "model.predict(second_channel_data)"
   ]
  },
  {
   "cell_type": "code",
   "execution_count": null,
   "metadata": {
    "collapsed": false,
    "jupyter": {
     "outputs_hidden": false
    },
    "pycharm": {
     "name": "#%%\n"
    }
   },
   "outputs": [],
   "source": [
    "extracted_sample = full_song_sec_ch[4000:6000]\n",
    "new_start = extracted_sample[999:1999]\n",
    "new_end = extracted_sample[0:1000]\n",
    "switched_sample = new_start + new_end\n",
    "plt.plot(switched_sample)\n",
    "plt.show()\n",
    "switched_sample = np.array(switched_sample)\n",
    "switched_sample = switched_sample.reshape(1, 2000)\n",
    "model.predict(switched_sample)"
   ]
  },
  {
   "cell_type": "code",
   "execution_count": null,
   "metadata": {
    "collapsed": false,
    "jupyter": {
     "outputs_hidden": false
    },
    "pycharm": {
     "name": "#%%\n"
    }
   },
   "outputs": [],
   "source": [
    "reversed_sample = reversed_data[4000:6000]\n",
    "plt.plot(reversed_sample)\n",
    "plt.show()\n",
    "reversed_sample = np.array(reversed_sample)\n",
    "reversed_sample = reversed_sample.reshape(1, 2000)\n",
    "model.predict(reversed_data)"
   ]
  },
  {
   "cell_type": "code",
   "execution_count": null,
   "metadata": {
    "collapsed": false,
    "jupyter": {
     "outputs_hidden": false
    },
    "pycharm": {
     "name": "#%%\n"
    }
   },
   "outputs": [],
   "source": [
    "#filename = 'model_weights.h5'\n",
    "#model.save(filename)"
   ]
  }
 ],
 "metadata": {
  "kernelspec": {
   "display_name": "python3",
   "language": "python",
   "name": "python3"
  },
  "language_info": {
   "codemirror_mode": {
    "name": "ipython",
    "version": 3
   },
   "file_extension": ".py",
   "mimetype": "text/x-python",
   "name": "python",
   "nbconvert_exporter": "python",
   "pygments_lexer": "ipython3",
   "version": "3.9.12"
  }
 },
 "nbformat": 4,
 "nbformat_minor": 4
}
