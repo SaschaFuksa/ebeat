{
 "cells": [
  {
   "cell_type": "code",
   "execution_count": 24,
   "id": "2052319e-e85d-4361-b060-52884246b08e",
   "metadata": {},
   "outputs": [],
   "source": [
    "import librosa\n",
    "import numpy as np\n",
    "#import pandas as pd\n",
    "from keras.layers import Dense\n",
    "from keras.models import Sequential\n",
    "from pydub import AudioSegment\n",
    "from scipy import signal\n",
    "from sklearn import preprocessing\n",
    "from tensorflow import keras\n",
    "from matplotlib import pyplot as plt"
   ]
  },
  {
   "cell_type": "code",
   "execution_count": 31,
   "id": "fb094dc6-cefa-4e64-9501-3d260188e2f7",
   "metadata": {},
   "outputs": [
    {
     "data": {
      "text/plain": [
       "466"
      ]
     },
     "execution_count": 31,
     "metadata": {},
     "output_type": "execute_result"
    }
   ],
   "source": [
    "edge_size"
   ]
  },
  {
   "cell_type": "code",
   "execution_count": 3,
   "id": "4abb4ec0-273b-4150-bbfd-791ff14df2bd",
   "metadata": {},
   "outputs": [],
   "source": [
    "pathAudio = '/home/stud/m/mh361/share/samples-stochastic/'\n",
    "files = librosa.util.find_files(pathAudio, ext=['mp3'])\n",
    "\n",
    "song_lounge_it = []\n",
    "song_tuesday_night = []\n",
    "song_kingtop = []\n",
    "for file in files:\n",
    "    if 'Maarten Schellekens - Lounge It' in file:\n",
    "        song_lounge_it.append(file)\n",
    "    if 'Maarten Schellekens - Tuesday Night Radio Edit' in file:\n",
    "        song_tuesday_night.append(file)\n",
    "    if 'Tea K Pea - kingtop' in file:\n",
    "        song_kingtop.append(file)\n",
    "song_lounge_it = sorted(song_lounge_it, key=lambda x: int(x.split('_')[-1].split('.')[0]))\n",
    "song_tuesday_night = sorted(song_tuesday_night, key=lambda x: int(x.split('_')[-1].split('.')[0]))\n",
    "song_kingtop = sorted(song_kingtop, key=lambda x: int(x.split('_')[-1].split('.')[0]))"
   ]
  },
  {
   "cell_type": "code",
   "execution_count": 4,
   "id": "b2b71c21",
   "metadata": {
    "collapsed": false,
    "jupyter": {
     "outputs_hidden": false
    },
    "pycharm": {
     "name": "#%%\n"
    }
   },
   "outputs": [
    {
     "data": {
      "text/plain": [
       "243"
      ]
     },
     "execution_count": 4,
     "metadata": {},
     "output_type": "execute_result"
    }
   ],
   "source": [
    "full_songs = []\n",
    "full_songs.extend(song_lounge_it)\n",
    "full_songs.extend(song_tuesday_night)\n",
    "full_songs.extend(song_kingtop)\n",
    "len(full_songs)"
   ]
  },
  {
   "cell_type": "code",
   "execution_count": 5,
   "id": "7ef8cf4d",
   "metadata": {
    "collapsed": false,
    "jupyter": {
     "outputs_hidden": false
    },
    "pycharm": {
     "name": "#%%\n"
    }
   },
   "outputs": [],
   "source": [
    "def normalize_sample(sample):\n",
    "    array_of_samples = sample.get_array_of_samples()\n",
    "    np_arr = np.array(array_of_samples)\n",
    "    np_arr = np_arr.reshape(1, -1)\n",
    "    return preprocessing.normalize(np_arr)\n",
    "\n",
    "\n",
    "samples = []\n",
    "samples_sec_canal = []\n",
    "for file_name in full_songs:\n",
    "    sample = AudioSegment.from_mp3(file_name)\n",
    "    mono_samples = sample.split_to_mono()\n",
    "    normalized_sample = normalize_sample(mono_samples[0])[0]\n",
    "    resampled_sample = signal.resample(normalized_sample, int(len(normalized_sample)/35))\n",
    "    samples.append(resampled_sample)\n",
    "    normalized_sample_sec_canal = normalize_sample(mono_samples[1])[0]\n",
    "    resampled_sample_sec_canal = signal.resample(normalized_sample_sec_canal, int(len(normalized_sample)/35))\n",
    "    samples_sec_canal.append(resampled_sample_sec_canal)"
   ]
  },
  {
   "cell_type": "code",
   "execution_count": 6,
   "id": "2f77efb4",
   "metadata": {
    "collapsed": false,
    "jupyter": {
     "outputs_hidden": false
    },
    "pycharm": {
     "name": "#%%\n"
    }
   },
   "outputs": [],
   "source": [
    "edge_size = min(map(len, samples))"
   ]
  },
  {
   "cell_type": "code",
   "execution_count": 7,
   "id": "21c8e94f-6997-49eb-91b7-c08285b1869c",
   "metadata": {},
   "outputs": [],
   "source": [
    "X_train = []\n",
    "Y_train = []\n",
    "for i in range(len(samples)-1):\n",
    "    Y_train.append(True)\n",
    "    first_half = list(samples[i][-edge_size:])\n",
    "    last_half = list(samples[i + 1][:edge_size])\n",
    "    X_train.append(first_half+last_half)\n",
    "    if(i < len(samples)-2):\n",
    "        Y_train.append(True)\n",
    "        sec_last_half = list(samples[i + 2][:edge_size])\n",
    "        X_train.append(first_half+sec_last_half)"
   ]
  },
  {
   "cell_type": "code",
   "execution_count": null,
   "id": "c2baf7d3-8acf-46b9-b4c3-86866a5a1bd0",
   "metadata": {},
   "outputs": [],
   "source": []
  },
  {
   "cell_type": "code",
   "execution_count": 8,
   "id": "8e004b76-5aa3-493f-b6e4-35347d681fb4",
   "metadata": {},
   "outputs": [],
   "source": [
    "from numpy import random\n",
    "\n",
    "def get_strange_end_part(samples, current_index, max_len):\n",
    "    x = random.randint(max_len-1)\n",
    "    if (x != current_index+1) and (x != current_index+2):\n",
    "        return list(samples[x][:edge_size])\n",
    "    else:\n",
    "        return get_strange_end_part(samples, current_index, max_len)\n",
    "\n",
    "\n",
    "for i in range(len(samples)-1):\n",
    "    first_half = list(samples[i][-edge_size:])\n",
    "    last_half = get_strange_end_part(samples, i, len(samples))\n",
    "    X_train.append(first_half+last_half)\n",
    "    Y_train.append(False)\n",
    "    sec_last_half = get_strange_end_part(samples, i, len(samples))\n",
    "    X_train.append(first_half+sec_last_half)\n",
    "    Y_train.append(False)"
   ]
  },
  {
   "cell_type": "code",
   "execution_count": 9,
   "id": "ef426dc4-fc40-4f9d-95a3-2273e035ce8d",
   "metadata": {},
   "outputs": [
    {
     "data": {
      "text/plain": [
       "(967, 932)"
      ]
     },
     "execution_count": 9,
     "metadata": {},
     "output_type": "execute_result"
    }
   ],
   "source": [
    "X_train = np.array(X_train)\n",
    "X_train = X_train.reshape(-1, 2*edge_size)\n",
    "X_train.shape"
   ]
  },
  {
   "cell_type": "code",
   "execution_count": 10,
   "id": "a38c41a0-a694-41d2-b07b-5885e910f076",
   "metadata": {},
   "outputs": [
    {
     "data": {
      "text/plain": [
       "(967, 1)"
      ]
     },
     "execution_count": 10,
     "metadata": {},
     "output_type": "execute_result"
    }
   ],
   "source": [
    "Y_train = np.array(Y_train)\n",
    "Y_train = Y_train.reshape(-1, 1)\n",
    "Y_train.shape"
   ]
  },
  {
   "cell_type": "code",
   "execution_count": 11,
   "id": "d689339c-b421-4e6b-b612-9239bcb46f61",
   "metadata": {},
   "outputs": [
    {
     "name": "stderr",
     "output_type": "stream",
     "text": [
      "2022-06-26 18:13:59.531313: I tensorflow/core/platform/cpu_feature_guard.cc:151] This TensorFlow binary is optimized with oneAPI Deep Neural Network Library (oneDNN) to use the following CPU instructions in performance-critical operations:  SSE4.1 SSE4.2 AVX AVX2 FMA\n",
      "To enable them in other operations, rebuild TensorFlow with the appropriate compiler flags.\n",
      "2022-06-26 18:14:00.055194: I tensorflow/core/common_runtime/gpu/gpu_device.cc:1525] Created device /job:localhost/replica:0/task:0/device:GPU:0 with 11417 MB memory:  -> device: 0, name: TITAN Xp, pci bus id: 0000:05:00.0, compute capability: 6.1\n"
     ]
    }
   ],
   "source": [
    "model = keras.models.load_model('/home/stud/m/mh361/share/saved-model/Best Model with 1024 filters and LSTM 256 Neurons.h5')"
   ]
  },
  {
   "cell_type": "code",
   "execution_count": 131,
   "id": "38d53431",
   "metadata": {
    "collapsed": false,
    "jupyter": {
     "outputs_hidden": false
    },
    "pycharm": {
     "name": "#%%\n"
    }
   },
   "outputs": [
    {
     "name": "stdout",
     "output_type": "stream",
     "text": [
      "Model: \"sequential_17\"\n",
      "_________________________________________________________________\n",
      " Layer (type)                Output Shape              Param #   \n",
      "=================================================================\n",
      " conv1d_17 (Conv1D)          (None, 931, 1024)         3072      \n",
      "                                                                 \n",
      " max_pooling1d_17 (MaxPoolin  (None, 465, 1024)        0         \n",
      " g1D)                                                            \n",
      "                                                                 \n",
      " cu_dnnlstm_17 (CuDNNLSTM)   (None, 465, 256)          1312768   \n",
      "                                                                 \n",
      " dense_32 (Dense)            (None, 465, 256)          65792     \n",
      "                                                                 \n",
      " dropout_4 (Dropout)         (None, 465, 256)          0         \n",
      "                                                                 \n",
      " flatten_15 (Flatten)        (None, 119040)            0         \n",
      "                                                                 \n",
      " dense_33 (Dense)            (None, 1)                 119041    \n",
      "                                                                 \n",
      "=================================================================\n",
      "Total params: 1,500,673\n",
      "Trainable params: 1,500,673\n",
      "Non-trainable params: 0\n",
      "_________________________________________________________________\n"
     ]
    }
   ],
   "source": [
    "from keras.layers import Conv1D, LSTM, Flatten, CuDNNLSTM, MaxPool1D, Dropout\n",
    "from tensorflow.keras.optimizers import SGD\n",
    "\n",
    "#model = keras.models.load_model('path/to/location')\n",
    "\n",
    "\n",
    "model = Sequential()\n",
    "model.add(Conv1D(filters=1024, kernel_size=2, input_shape=(2*edge_size, 1)))\n",
    "model.add(MaxPool1D(pool_size=2, strides=2))\n",
    "model.add(CuDNNLSTM(256, return_sequences=True))\n",
    "model.add(Dense(256))\n",
    "model.add(Dropout(0.25))\n",
    "model.add(Flatten())\n",
    "model.add(Dense(1, activation='sigmoid'))\n",
    "\n",
    "model.compile(optimizer='rmsprop', loss='binary_crossentropy', metrics=['accuracy'])\n",
    "model.summary()\n"
   ]
  },
  {
   "cell_type": "code",
   "execution_count": null,
   "id": "e324359e-4308-47ac-9af4-589a2eb41274",
   "metadata": {},
   "outputs": [],
   "source": [
    "#callback = keras.callbacks.EarlyStopping(monitor='loss', patience=30)\n",
    "#callback = keras.callbacks.EarlyStopping(monitor='accuracy', baseline=0.9)\n",
    "    \n",
    "#monitor =\"val_loss\", mode =\"min\", patience = 30, restore_best_weights = True)\n",
    "    \n",
    "#monitor='loss', mode='min', verbose=1, patience=75)\n",
    "#model.fit(X_train, Y_train, epochs=900, validation_split=0.1, batch_size=64, callbacks=callback)\n",
    "\n",
    "model.fit(X_train, Y_train, epochs=600, batch_size=64)\n",
    "\n",
    "# Calling `save('my_model.h5')` creates a h5 file `my_model.h5`.\n",
    "model.save('/home/stud/m/mh361/share/saved-model/binary_model.h5')\n",
    "print(\"Saved model to disk\")\n",
    "\n",
    "# batch size 8\n",
    "#3s 21ms/step - loss: 0.6818 - accuracy: 0.5719\n",
    "# 3s 21ms/step - loss: 0.7044 - accuracy: 0.5729\n",
    "# 3s 21ms/step - loss: 0.6933 - accuracy: 0.4747\n",
    "# 2s 17ms/step - loss: 0.6923 - accuracy: 0.5574\n",
    "# 3s 29ms/step - loss: 0.6837 - accuracy: 0.5667\n",
    "#121/121 [==============================] - 4s 30ms/step - loss: 0.6872 - accuracy: 0.5595 filters 512 , lstm 512\n",
    "\n",
    "#batch size 64\n",
    "# 2s 117ms/step - loss: 0.6428 - accuracy: 0.5957\n",
    "#16/16 [==============================] - 2s 114ms/step - loss: 0.6905 - accuracy: 0.5522 -> kernel 4 lstm 512\n",
    "# 16/16 [==============================] - 2s 115ms/step - loss: 0.6914 - accuracy: 0.5429 kernel 3 lstm 512\n",
    "# 16/16 [==============================] - 2s 134ms/step - loss: 0.6446 - accuracy: 0.6070 kernel 2 lstm 512 filters 512\n",
    "# Epoch 1000/1000\n",
    "# 16/16 [==============================] - 2s 131ms/step - loss: 0.5504 - accuracy: 0.6856\n",
    "\n",
    "#batch size 32\n",
    "#  1s 46ms/step - loss: 0.7023 - accuracy: 0.5553\n",
    "\n",
    "#batch size 128\n",
    "#1s 92ms/step - loss: 0.6887 - accuracy: 0.5346\n",
    "\n"
   ]
  },
  {
   "cell_type": "code",
   "execution_count": 22,
   "id": "cc60baf3",
   "metadata": {
    "collapsed": false,
    "jupyter": {
     "outputs_hidden": false
    },
    "pycharm": {
     "name": "#%%\n"
    }
   },
   "outputs": [
    {
     "name": "stdout",
     "output_type": "stream",
     "text": [
      "Gutes Sample\n"
     ]
    },
    {
     "data": {
      "text/plain": [
       "0.9886544"
      ]
     },
     "execution_count": 22,
     "metadata": {},
     "output_type": "execute_result"
    }
   ],
   "source": [
    "example_x_train = X_train[7]\n",
    "example_x_train = example_x_train.reshape(1, 2*edge_size)\n",
    "pred = model.predict(example_x_train)\n",
    "print('Gutes Sample')\n",
    "pred[0][0]\n"
   ]
  },
  {
   "cell_type": "code",
   "execution_count": 26,
   "id": "442e0324-cbfb-45e1-a78c-11d305941264",
   "metadata": {},
   "outputs": [
    {
     "data": {
      "image/png": "[encoded data removed]",
      "text/plain": [
       "<Figure size 432x288 with 1 Axes>"
      ]
     },
     "metadata": {
      "needs_background": "light"
     },
     "output_type": "display_data"
    }
   ],
   "source": [
    "plt.plot(X_train[7])\n",
    "plt.show()"
   ]
  },
  {
   "cell_type": "code",
   "execution_count": 14,
   "id": "b661dafa-23ea-47f5-be12-eefcaff54f29",
   "metadata": {},
   "outputs": [
    {
     "name": "stdout",
     "output_type": "stream",
     "text": [
      "Schlechtes Sample\n"
     ]
    },
    {
     "data": {
      "text/plain": [
       "0.006978564"
      ]
     },
     "execution_count": 14,
     "metadata": {},
     "output_type": "execute_result"
    }
   ],
   "source": [
    "example_x_train = X_train[-3]\n",
    "example_x_train = example_x_train.reshape(1, 2*edge_size)\n",
    "pred = model.predict(example_x_train) \n",
    "print('Schlechtes Sample')\n",
    "pred[0][0]"
   ]
  },
  {
   "cell_type": "code",
   "execution_count": 30,
   "id": "12294fbd-6731-42b9-8366-00f35569ca10",
   "metadata": {},
   "outputs": [
    {
     "data": {
      "image/png": "[encoded data removed]",
      "text/plain": [
       "<Figure size 432x288 with 1 Axes>"
      ]
     },
     "metadata": {
      "needs_background": "light"
     },
     "output_type": "display_data"
    }
   ],
   "source": [
    "plt.plot(X_train[-1])\n",
    "plt.show()"
   ]
  },
  {
   "cell_type": "code",
   "execution_count": null,
   "id": "69345a92-6bb4-4086-a7d0-bebf82d25467",
   "metadata": {},
   "outputs": [],
   "source": [
    "#Forschungsfragen\n",
    "#› Lässt sich ein „hörbarer“ Musikstream erzeugen?\n",
    "#› Reicht das stochastische Sampling? Wie lange ist eine optimale Sampledauer?\n",
    "#› Wie ähnlich müssen sich die Urspungstracks bezüglich Stimmung, Genre, etc sein?\n",
    "#› Müssen Metadaten wie Lautstärke, Tempo, Spektrum, etc mit einbezogen werden?"
   ]
  },
  {
   "cell_type": "code",
   "execution_count": null,
   "id": "17f39e97-c572-4339-97f5-701e9959d533",
   "metadata": {},
   "outputs": [],
   "source": [
    "from pathlib import Path\n",
    "\n",
    "path_all_samples = '/home/stud/m/mh361/share/sample-pool/'\n",
    "sample_files = librosa.util.find_files(path_all_samples, ext=['mp3'])\n",
    "loaded_samples = {}\n",
    "for file_path in sample_files:\n",
    "    loaded_audio_file = AudioSegment.from_mp3(file_path)\n",
    "    sample_array = loaded_audio_file.get_array_of_samples()\n",
    "    resampled_part = signal.resample(sample_array, int(len(normalized_sample)/35))\n",
    "    if len(resampled_part) >= edge_size:\n",
    "        file_name = Path(file_path).stem\n",
    "        loaded_samples[file_name] = resampled_part"
   ]
  },
  {
   "cell_type": "code",
   "execution_count": null,
   "id": "317a4fc0-c5a0-4851-beeb-b8199808694d",
   "metadata": {},
   "outputs": [],
   "source": [
    "#loaded_samples"
   ]
  },
  {
   "cell_type": "code",
   "execution_count": null,
   "id": "310b4855-a061-4e59-8b4d-d4bc108e7cb6",
   "metadata": {},
   "outputs": [],
   "source": [
    "list(loaded_samples.keys())[1273][:-4]"
   ]
  },
  {
   "cell_type": "code",
   "execution_count": null,
   "id": "bba91d8c-7c9a-40cd-bb8f-662f0aa02e27",
   "metadata": {},
   "outputs": [],
   "source": [
    "start_sample_name = list(loaded_samples.keys())[1273]"
   ]
  },
  {
   "cell_type": "code",
   "execution_count": null,
   "id": "3cc0cc07-2196-4179-9381-fdf93c9dafb1",
   "metadata": {},
   "outputs": [],
   "source": [
    "reference_sample = loaded_samples[start_sample_name]\n",
    "reference_sample"
   ]
  },
  {
   "cell_type": "code",
   "execution_count": null,
   "id": "aa5eb6d4-a97a-4313-8898-cd4bd2b12abd",
   "metadata": {},
   "outputs": [],
   "source": [
    "len(reference_sample)"
   ]
  },
  {
   "cell_type": "code",
   "execution_count": null,
   "id": "a9f95e43-3b90-4ae5-86c7-b0fb1f53a7ca",
   "metadata": {},
   "outputs": [],
   "source": [
    "'Brylie Christopher Oxley - City view from Torni_119'"
   ]
  },
  {
   "cell_type": "code",
   "execution_count": null,
   "id": "50250ee6-76c6-4a3c-83eb-9bbe9f29f058",
   "metadata": {},
   "outputs": [],
   "source": [
    "i = 0\n",
    "max = 100\n",
    "selected_samples = [start_sample_name]\n",
    "song_counter = [start_sample_name, 0]\n",
    "song_blacklist = []\n",
    "while i < max:\n",
    "    best_sample_name = None\n",
    "    best_score = 0.00000\n",
    "    best_sample = []\n",
    "    for key, value in loaded_samples.items():\n",
    "        if (key not in selected_samples) and (key[:-4] not in song_blacklist):\n",
    "            ref_and_sample = np.append(reference_sample[-edge_size:], value[:edge_size])\n",
    "            prediction = model.predict(ref_and_sample.reshape(1, 932))\n",
    "            score = prediction[0][0]\n",
    "            if score > best_score:\n",
    "                best_score = score\n",
    "                best_sample_name = key\n",
    "                best_sample = value\n",
    "            if score > 0.99:\n",
    "                break\n",
    "    print('Predicted ' + best_sample_name + ' at position ' + str(i) + ' as best sample with score ' + str(\n",
    "        best_score))\n",
    "    reference_sample = best_sample\n",
    "    selected_samples.append(best_sample_name)\n",
    "    if song_counter[0] in best_sample_name:\n",
    "        song_counter[1] = song_counter[1]+1\n",
    "    else:\n",
    "        song_counter[0] = best_sample_name[:-4]\n",
    "        song_counter[1] = 0\n",
    "    if song_counter[1] >= 2:\n",
    "        song_blacklist.append(best_sample_name[:-4])\n",
    "    if len(song_blacklist) >= 3:\n",
    "        song_blacklist = song_blacklist[1:]\n",
    "    i += 1\n",
    "    #print(song_counter)\n",
    "    #if i > 1:\n",
    "    #    break"
   ]
  },
  {
   "cell_type": "code",
   "execution_count": null,
   "id": "aafaf25d-d68b-47c0-b766-5742b46117b2",
   "metadata": {},
   "outputs": [],
   "source": [
    "i = 0\n",
    "max = 100\n",
    "selected_samples = [start_sample_name]\n",
    "while i < max:\n",
    "    best_sample_name = None\n",
    "    best_score = 0.00000\n",
    "    best_sample = []\n",
    "    for key, value in loaded_samples.items():\n",
    "        if key not in selected_samples:\n",
    "            ref_and_sample = np.append(reference_sample[-edge_size:], value[:edge_size])\n",
    "            prediction = model.predict(ref_and_sample.reshape(1, 932))\n",
    "            score = prediction[0][0]\n",
    "            if score > best_score:\n",
    "                best_score = score\n",
    "                best_sample_name = key\n",
    "                best_sample = value\n",
    "            if score > 0.99:\n",
    "                break\n",
    "    print('Predicted ' + best_sample_name + ' at position ' + str(i) + ' as best sample with score ' + str(\n",
    "        best_score))\n",
    "    reference_sample = best_sample\n",
    "    selected_samples.append(best_sample_name)\n",
    "    i += 1"
   ]
  },
  {
   "cell_type": "code",
   "execution_count": null,
   "id": "ee59ecbb-ffed-44a0-b57a-8e266fee1dd1",
   "metadata": {},
   "outputs": [],
   "source": [
    "new_song = AudioSegment.empty()\n",
    "for sample in selected_samples:\n",
    "    complete_path = '/home/stud/m/mh361/share/sample-pool/' + sample + '.mp3'\n",
    "    loaded_sample = AudioSegment.from_mp3(complete_path)\n",
    "    new_song += loaded_sample\n",
    "new_song.export('/home/stud/m/mh361/share/music-out/' + 'karacho_2.mp3', format='mp3')"
   ]
  },
  {
   "cell_type": "code",
   "execution_count": null,
   "id": "f025862e-94bf-4767-b724-ad4034e85ccc",
   "metadata": {},
   "outputs": [],
   "source": [
    "new_song"
   ]
  },
  {
   "cell_type": "code",
   "execution_count": null,
   "id": "9188acb6-4a84-432b-ba35-cbda658428a2",
   "metadata": {},
   "outputs": [],
   "source": [
    "from keras.callbacks import Callback\n",
    "\n",
    "class TerminateOnBaseline(Callback):\n",
    "    \"\"\"\n",
    "    Callback that terminates training when either acc or val_acc reaches a specified\n",
    "    baseline after a specified number of epochs\n",
    "    \"\"\"\n",
    "    def __init__(self, monitor='accuracy', baseline=0.9, n_epochs=40):\n",
    "        super(TerminateOnBaseline, self).__init__()\n",
    "        self.monitor = monitor\n",
    "        self.baseline = baseline\n",
    "        self.n_epochs = n_epochs\n",
    "\n",
    "    def on_epoch_end(self, epoch, logs=None):\n",
    "        logs = logs or {}\n",
    "        acc = logs.get(self.monitor)\n",
    "        if acc is not None:\n",
    "            if acc < self.baseline and epoch >= self.n_epochs:\n",
    "                print('Epoch %d: Accuracy has not reached the baseline, terminating training' % (epoch))\n",
    "                self.model.stop_training = True"
   ]
  }
 ],
 "metadata": {
  "kernelspec": {
   "display_name": "tf2.8",
   "language": "python",
   "name": "tf2.8"
  },
  "language_info": {
   "codemirror_mode": {
    "name": "ipython",
    "version": 3
   },
   "file_extension": ".py",
   "mimetype": "text/x-python",
   "name": "python",
   "nbconvert_exporter": "python",
   "pygments_lexer": "ipython3",
   "version": "3.9.12"
  }
 },
 "nbformat": 4,
 "nbformat_minor": 5
}
