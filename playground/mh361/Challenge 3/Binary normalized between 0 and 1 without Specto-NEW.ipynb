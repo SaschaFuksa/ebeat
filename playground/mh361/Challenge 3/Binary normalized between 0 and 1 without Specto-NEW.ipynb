{
 "cells": [
  {
   "cell_type": "code",
   "execution_count": 1,
   "metadata": {
    "pycharm": {
     "name": "#%%\n"
    },
    "tags": []
   },
   "outputs": [
    {
     "name": "stderr",
     "output_type": "stream",
     "text": [
      "2022-06-23 10:50:13.067365: W tensorflow/stream_executor/platform/default/dso_loader.cc:64] Could not load dynamic library 'libcudart.so.11.0'; dlerror: libcudart.so.11.0: cannot open shared object file: No such file or directory\n",
      "2022-06-23 10:50:13.067392: I tensorflow/stream_executor/cuda/cudart_stub.cc:29] Ignore above cudart dlerror if you do not have a GPU set up on your machine.\n"
     ]
    }
   ],
   "source": [
    "import librosa\n",
    "import numpy as np\n",
    "from matplotlib import pyplot as plt\n",
    "from pydub import AudioSegment\n",
    "from scipy import signal\n",
    "from sklearn import preprocessing\n",
    "import os\n",
    "import matplotlib.pyplot as plt\n",
    "from scipy import signal\n",
    "from scipy.io import wavfile\n",
    "import tensorflow_io as tfio\n",
    "import librosa.display\n",
    "import IPython.display as ipd\n",
    "import warnings\n",
    "warnings.simplefilter(\"ignore\", UserWarning)\n",
    "from tensorflow.keras.callbacks import EarlyStopping\n",
    "import random"
   ]
  },
  {
   "cell_type": "code",
   "execution_count": null,
   "metadata": {
    "pycharm": {
     "name": "#%%\n"
    }
   },
   "outputs": [],
   "source": []
  },
  {
   "cell_type": "code",
   "execution_count": 2,
   "metadata": {
    "collapsed": false,
    "jupyter": {
     "outputs_hidden": false
    },
    "pycharm": {
     "name": "#%%\n"
    }
   },
   "outputs": [
    {
     "data": {
      "text/plain": [
       "'/home/stud/m/mh361/share'"
      ]
     },
     "execution_count": 2,
     "metadata": {},
     "output_type": "execute_result"
    }
   ],
   "source": [
    "os.getcwd()"
   ]
  },
  {
   "cell_type": "code",
   "execution_count": 3,
   "metadata": {
    "collapsed": false,
    "jupyter": {
     "outputs_hidden": false
    },
    "pycharm": {
     "name": "#%%\n"
    }
   },
   "outputs": [],
   "source": [
    "pathAudio = '/home/stud/m/mh361/share/sample-same/'\n",
    "files = librosa.util.find_files(pathAudio, ext=['mp3'])\n",
    "songa = []\n",
    "songb = []\n",
    "songc = []\n",
    "for file in files:\n",
    "    if \"Holizna\" in file:\n",
    "        songa.append(file)\n",
    "    if \"Lounge_it\" in file:\n",
    "        songb.append(file)\n",
    "    if \"Tuesday\" in file:\n",
    "        songc.append(file)\n",
    "filesa = sorted(songa, key=lambda x: int(x.split('_')[-1].split(\".\")[0]))\n",
    "filesb = sorted(songb, key=lambda x: int(x.split('_')[-1].split(\".\")[0]))\n",
    "filesc = sorted(songc, key=lambda x: int(x.split('_')[-1].split(\".\")[0]))\n",
    "filesa = filesa[:-1]\n",
    "filesb = filesb[:-1]\n",
    "filesc = filesc[:-1]\n",
    "\n",
    "files = filesa+filesb+filesc"
   ]
  },
  {
   "cell_type": "code",
   "execution_count": 4,
   "metadata": {
    "pycharm": {
     "name": "#%%\n"
    }
   },
   "outputs": [],
   "source": [
    "#files"
   ]
  },
  {
   "cell_type": "code",
   "execution_count": 5,
   "metadata": {
    "collapsed": false,
    "jupyter": {
     "outputs_hidden": false
    },
    "pycharm": {
     "name": "#%%\n"
    }
   },
   "outputs": [],
   "source": [
    "def normalize_sample(sample):\n",
    "    array_of_samples = sample.get_array_of_samples()\n",
    "    np_arr = np.array(array_of_samples)\n",
    "    np_arr = np_arr.reshape(1, -1)\n",
    "    return preprocessing.normalize(np_arr)\n",
    "\n",
    "def NormalizeData(data):\n",
    "    return (data - np.min(data)) / (np.max(data) - np.min(data))\n",
    "\n",
    "\n",
    "samples = []\n",
    "samples_sec_canal = []\n",
    "for file_name in files:\n",
    "    x, sr = librosa.load(file_name, sr=44100)  \n",
    "    normalized_sample = NormalizeData(x)\n",
    "    #resampled_sample = signal.resample(normalized_sample, 44100)\n",
    "    resampled_sample = signal.resample(normalized_sample, int(len(normalized_sample) / 10))\n",
    "    samples.append(resampled_sample)\n"
   ]
  },
  {
   "cell_type": "code",
   "execution_count": null,
   "metadata": {
    "pycharm": {
     "name": "#%%\n"
    }
   },
   "outputs": [],
   "source": []
  },
  {
   "cell_type": "code",
   "execution_count": null,
   "metadata": {
    "pycharm": {
     "name": "#%%\n"
    }
   },
   "outputs": [],
   "source": [
    "#Play Audio File!!\n",
    "\n",
    "##import IPython.display as ipd\n",
    "##ipd.Audio(files[2])"
   ]
  },
  {
   "cell_type": "code",
   "execution_count": null,
   "metadata": {
    "pycharm": {
     "name": "#%%\n"
    }
   },
   "outputs": [],
   "source": [
    "#example_x_train = samples[3]\n",
    "#plt.plot(example_x_train)\n",
    "#plt.show()"
   ]
  },
  {
   "cell_type": "code",
   "execution_count": 8,
   "metadata": {
    "pycharm": {
     "name": "#%%\n"
    }
   },
   "outputs": [],
   "source": [
    "# Create first sequences with 4 samples in a row\n",
    "X_train = []\n",
    "Y_train = []\n",
    "for i in range(len(samples)):   \n",
    "    if i < len(samples)-6:\n",
    "        Y_train.append(1)\n",
    "        first_sample = list(samples[i])\n",
    "        second_sample = list(samples[i+1])\n",
    "        third_sample = list(samples[i+2])\n",
    "        fourth_sample = list(samples[i+3])\n",
    "        z = first_sample + second_sample + third_sample + fourth_sample\n",
    "        X_train.append(z)\n",
    "#    else:\n",
    " #       x = list(samples[i])\n",
    "  #      y = list(samples[0])\n",
    "   #     z = x + y\n",
    "    #    X_train.append(z)"
   ]
  },
  {
   "cell_type": "code",
   "execution_count": 9,
   "metadata": {
    "pycharm": {
     "name": "#%%\n"
    }
   },
   "outputs": [],
   "source": [
    "#example_x_train = X_train[0]\n",
    "#plt.plot(example_x_train)\n",
    "#plt.show()"
   ]
  },
  {
   "cell_type": "code",
   "execution_count": 10,
   "metadata": {
    "pycharm": {
     "name": "#%%\n"
    }
   },
   "outputs": [],
   "source": [
    "# Create second sequences with 4 samples in a row starting from second sample\n",
    "for i in range(len(samples)):   \n",
    "    if i < len(samples)-6:\n",
    "        Y_train.append(1)\n",
    "        second_sample = list(samples[i+1])\n",
    "        third_sample = list(samples[i+2])\n",
    "        fourth_sample = list(samples[i+3])\n",
    "        fifth_sample = list(samples[i+4])\n",
    "        z = second_sample + third_sample + fourth_sample + fifth_sample\n",
    "        X_train.append(z)\n",
    "#    else:\n",
    " #       x = list(samples[i])\n",
    "  #      y = list(samples[0])\n",
    "   #     z = x + y\n",
    "    #    X_train.append(z)"
   ]
  },
  {
   "cell_type": "code",
   "execution_count": null,
   "metadata": {
    "pycharm": {
     "name": "#%%\n"
    }
   },
   "outputs": [],
   "source": [
    "'''# Create first sequences with 3 samples + 1 skipped\n",
    "\n",
    "for i in range(len(samples)):\n",
    "    if i < len(samples)-6:\n",
    "        Y_train.append(1)\n",
    "        first_sample = list(samples[i])\n",
    "        second_sample = list(samples[i+1])\n",
    "        third_sample = list(samples[i+2])\n",
    "        fifth_sample = list(samples[i+4])\n",
    "        z = first_sample + second_sample + third_sample + fifth_sample\n",
    "        X_train.append(z)\n",
    "#    else:\n",
    " #       x = list(samples[i])\n",
    "  #      y = list(samples[0])\n",
    "   #     z = x + y\n",
    "    #    X_train.append(z)'''"
   ]
  },
  {
   "cell_type": "code",
   "execution_count": null,
   "metadata": {
    "collapsed": false,
    "jupyter": {
     "outputs_hidden": false
    },
    "pycharm": {
     "name": "#%%\n"
    }
   },
   "outputs": [],
   "source": [
    "'''# Create sequence with 3 correct and 1 false sample in a row\n",
    "X_false = []\n",
    "Y_false = []\n",
    "shuffled = samples\n",
    "\n",
    "random.shuffle(shuffled)\n",
    "\n",
    "\n",
    "for i in range(len(samples)):\n",
    "    if i < len(samples)-6:   \n",
    "        Y_false.append(0)\n",
    "        first_sample = list(samples[i])\n",
    "        second_sample = list(samples[i+1])\n",
    "        third_sample = list(samples[i+2])\n",
    "        fourth_sample = list(shuffled[i]) \n",
    "        z = first_sample + second_sample + third_sample + fourth_sample\n",
    "        X_false.append(z)\n",
    "#    else:\n",
    " #       x = list(samples[i])\n",
    "  #      y = list(samples[0])\n",
    "   #     z = x + y\n",
    "    #    X_false.append(z)     '''   "
   ]
  },
  {
   "cell_type": "code",
   "execution_count": 11,
   "metadata": {
    "pycharm": {
     "name": "#%%\n"
    }
   },
   "outputs": [],
   "source": [
    "from numpy import random\n",
    "\n",
    "X_false = []\n",
    "Y_false = []\n",
    "\n",
    "\n",
    "def get_strange_end_part(samples, current_index, max_len):\n",
    "    x = random.randint(max_len)\n",
    "    if (x != current_index) and (x != current_index+ 1) and (x != current_index + 2) and (x != current_index +3) and (x != current_index+4):\n",
    "        return samples[x]\n",
    "    else:\n",
    "        return get_strange_end_part(samples, current_index, max_len)\n",
    "\n",
    "for i in range(len(samples)):   \n",
    "    if i < len(samples)-6:\n",
    "        Y_false.append(1)\n",
    "        second_sample = list(samples[i+2])\n",
    "        third_sample = list(samples[i+3])\n",
    "        fourth_sample = list(samples[i+4])\n",
    "        fifth_sample = list(samples[i+5])\n",
    "        z = second_sample + third_sample + fourth_sample + fifth_sample\n",
    "        X_false.append(z)\n"
   ]
  },
  {
   "cell_type": "code",
   "execution_count": 12,
   "metadata": {
    "pycharm": {
     "name": "#%%\n"
    }
   },
   "outputs": [
    {
     "data": {
      "text/plain": [
       "'from numpy import random\\n\\nX_false = []\\nY_false = []\\n\\n\\ndef get_strange_end_part(samples, current_index, max_len):\\n    x = random.randint(max_len)\\n    if (x != current_index) and (x != current_index+ 1) and (x != current_index + 2) and (x != current_index +3) and (x != current_index+4):\\n        return samples[x]\\n    else:\\n        return get_strange_end_part(samples, current_index, max_len)\\n\\n\\nfor i in range(len(samples)-6):\\n    Y_false.append(0)\\n    first_sample = list(samples[i])\\n    second_sample = list(samples[i+1])\\n    third_sample = list(samples[i+2])\\n    random_sample = get_strange_end_part(samples, i, len(samples))\\n    new_sample = first_sample + second_sample + third_sample + list(random_sample)\\n    X_false.append(new_sample)'"
      ]
     },
     "execution_count": 12,
     "metadata": {},
     "output_type": "execute_result"
    }
   ],
   "source": [
    "'''from numpy import random\n",
    "\n",
    "X_false = []\n",
    "Y_false = []\n",
    "\n",
    "\n",
    "def get_strange_end_part(samples, current_index, max_len):\n",
    "    x = random.randint(max_len)\n",
    "    if (x != current_index) and (x != current_index+ 1) and (x != current_index + 2) and (x != current_index +3) and (x != current_index+4):\n",
    "        return samples[x]\n",
    "    else:\n",
    "        return get_strange_end_part(samples, current_index, max_len)\n",
    "\n",
    "\n",
    "for i in range(len(samples)-6):\n",
    "    Y_false.append(0)\n",
    "    first_sample = list(samples[i])\n",
    "    second_sample = list(samples[i+1])\n",
    "    third_sample = list(samples[i+2])\n",
    "    random_sample = get_strange_end_part(samples, i, len(samples))\n",
    "    new_sample = first_sample + second_sample + third_sample + list(random_sample)\n",
    "    X_false.append(new_sample)'''"
   ]
  },
  {
   "cell_type": "code",
   "execution_count": 13,
   "metadata": {
    "pycharm": {
     "name": "#%%\n"
    }
   },
   "outputs": [],
   "source": [
    "#example_x_train = X_false[0]\n",
    "#plt.plot(example_x_train)\n",
    "#plt.show()"
   ]
  },
  {
   "cell_type": "code",
   "execution_count": 14,
   "metadata": {
    "pycharm": {
     "name": "#%%\n"
    }
   },
   "outputs": [],
   "source": [
    "# Create more data with wrong sequences 1+3 sample ok, 2+4 bad\n",
    "from numpy import random\n",
    "\n",
    "for i in range(len(samples)-6):\n",
    "    Y_false.append(0)\n",
    "    first_sample = list(samples[i])\n",
    "    second_sample = get_strange_end_part(samples, i+1, len(samples))\n",
    "    third_sample =  get_strange_end_part(samples, i+2, len(samples))\n",
    "    random_sample = get_strange_end_part(samples, i, len(samples))\n",
    "    new_sample = first_sample + list(second_sample) + list(third_sample) + list(random_sample)\n",
    "    X_false.append(new_sample)"
   ]
  },
  {
   "cell_type": "code",
   "execution_count": null,
   "metadata": {
    "pycharm": {
     "name": "#%%\n"
    }
   },
   "outputs": [],
   "source": []
  },
  {
   "cell_type": "code",
   "execution_count": null,
   "metadata": {
    "pycharm": {
     "name": "#%%\n"
    }
   },
   "outputs": [],
   "source": [
    "'''# Create sequence with false samples \n",
    "for i in range(len(samples)):\n",
    "    if i < len(samples)-6:  \n",
    "        Y_false.append(0)\n",
    "        first_sample = list(samples[i])\n",
    "        second_sample = list(samples[i+1])\n",
    "        third_sample = list(samples[i+2])\n",
    "        fourth_sample = list(shuffled[i+6]) \n",
    "        z = first_sample + second_sample + third_sample + fourth_sample\n",
    "        X_false.append(z)\n",
    "#    else:\n",
    " #       x = list(samples[i])\n",
    "  #      y = list(samples[0])\n",
    "   #     z = x + y\n",
    "    #    X_false.append(z)        '''"
   ]
  },
  {
   "cell_type": "code",
   "execution_count": 15,
   "metadata": {
    "pycharm": {
     "name": "#%%\n"
    }
   },
   "outputs": [],
   "source": [
    "X_train_total = []\n",
    "Y_train_total = []\n",
    "\n",
    "X_train_total.append(X_train)\n",
    "X_train_total.append(X_false)\n",
    "Y_train_total.append(Y_train)\n",
    "Y_train_total.append(Y_false)"
   ]
  },
  {
   "cell_type": "code",
   "execution_count": 20,
   "metadata": {
    "pycharm": {
     "name": "#%%\n"
    }
   },
   "outputs": [
    {
     "name": "stdout",
     "output_type": "stream",
     "text": [
      "320\n"
     ]
    }
   ],
   "source": [
    "print(len(Y_false))\n",
    "#for a in Y_train_total:\n",
    "#    print(len(a))"
   ]
  },
  {
   "cell_type": "code",
   "execution_count": 21,
   "metadata": {
    "collapsed": false,
    "jupyter": {
     "outputs_hidden": false
    },
    "pycharm": {
     "name": "#%%\n"
    }
   },
   "outputs": [
    {
     "data": {
      "text/plain": [
       "(2, 320, 52920)"
      ]
     },
     "execution_count": 21,
     "metadata": {},
     "output_type": "execute_result"
    }
   ],
   "source": [
    "X_train_total = np.array(X_train_total)\n",
    "X_train_total.shape"
   ]
  },
  {
   "cell_type": "code",
   "execution_count": 22,
   "metadata": {
    "collapsed": false,
    "jupyter": {
     "outputs_hidden": false
    },
    "pycharm": {
     "name": "#%%\n"
    }
   },
   "outputs": [
    {
     "data": {
      "text/plain": [
       "(2, 320)"
      ]
     },
     "execution_count": 22,
     "metadata": {},
     "output_type": "execute_result"
    }
   ],
   "source": [
    "Y_train_total = np.array(Y_train_total)\n",
    "Y_train_total.shape"
   ]
  },
  {
   "cell_type": "code",
   "execution_count": 23,
   "metadata": {
    "collapsed": false,
    "jupyter": {
     "outputs_hidden": false
    },
    "pycharm": {
     "name": "#%%\n"
    }
   },
   "outputs": [
    {
     "data": {
      "text/plain": [
       "(640, 52920)"
      ]
     },
     "execution_count": 23,
     "metadata": {},
     "output_type": "execute_result"
    }
   ],
   "source": [
    "X_train_total = X_train_total.reshape(-1, 52920 )\n",
    "X_train_total.shape"
   ]
  },
  {
   "cell_type": "code",
   "execution_count": 24,
   "metadata": {
    "collapsed": false,
    "jupyter": {
     "outputs_hidden": false
    },
    "pycharm": {
     "name": "#%%\n"
    }
   },
   "outputs": [
    {
     "data": {
      "text/plain": [
       "(640, 1)"
      ]
     },
     "execution_count": 24,
     "metadata": {},
     "output_type": "execute_result"
    }
   ],
   "source": [
    "Y_train_total = np.array(Y_train_total).reshape(-1, 1)\n",
    "Y_train_total.shape"
   ]
  },
  {
   "cell_type": "code",
   "execution_count": 25,
   "metadata": {
    "collapsed": false,
    "jupyter": {
     "outputs_hidden": false
    },
    "pycharm": {
     "name": "#%%\n"
    }
   },
   "outputs": [
    {
     "name": "stderr",
     "output_type": "stream",
     "text": [
      "2022-06-23 10:52:40.738701: W tensorflow/stream_executor/platform/default/dso_loader.cc:64] Could not load dynamic library 'libcudart.so.11.0'; dlerror: libcudart.so.11.0: cannot open shared object file: No such file or directory\n",
      "2022-06-23 10:52:40.739026: W tensorflow/stream_executor/platform/default/dso_loader.cc:64] Could not load dynamic library 'libcublas.so.11'; dlerror: libcublas.so.11: cannot open shared object file: No such file or directory\n",
      "2022-06-23 10:52:40.739209: W tensorflow/stream_executor/platform/default/dso_loader.cc:64] Could not load dynamic library 'libcublasLt.so.11'; dlerror: libcublasLt.so.11: cannot open shared object file: No such file or directory\n",
      "2022-06-23 10:52:40.739386: W tensorflow/stream_executor/platform/default/dso_loader.cc:64] Could not load dynamic library 'libcufft.so.10'; dlerror: libcufft.so.10: cannot open shared object file: No such file or directory\n",
      "2022-06-23 10:52:40.739572: W tensorflow/stream_executor/platform/default/dso_loader.cc:64] Could not load dynamic library 'libcurand.so.10'; dlerror: libcurand.so.10: cannot open shared object file: No such file or directory\n",
      "2022-06-23 10:52:40.739761: W tensorflow/stream_executor/platform/default/dso_loader.cc:64] Could not load dynamic library 'libcusolver.so.11'; dlerror: libcusolver.so.11: cannot open shared object file: No such file or directory\n",
      "2022-06-23 10:52:40.739948: W tensorflow/stream_executor/platform/default/dso_loader.cc:64] Could not load dynamic library 'libcusparse.so.11'; dlerror: libcusparse.so.11: cannot open shared object file: No such file or directory\n",
      "2022-06-23 10:52:40.740137: W tensorflow/stream_executor/platform/default/dso_loader.cc:64] Could not load dynamic library 'libcudnn.so.8'; dlerror: libcudnn.so.8: cannot open shared object file: No such file or directory\n",
      "2022-06-23 10:52:40.740150: W tensorflow/core/common_runtime/gpu/gpu_device.cc:1850] Cannot dlopen some GPU libraries. Please make sure the missing libraries mentioned above are installed properly if you would like to use GPU. Follow the guide at https://www.tensorflow.org/install/gpu for how to download and setup the required libraries for your platform.\n",
      "Skipping registering GPU devices...\n",
      "2022-06-23 10:52:40.740678: I tensorflow/core/platform/cpu_feature_guard.cc:193] This TensorFlow binary is optimized with oneAPI Deep Neural Network Library (oneDNN) to use the following CPU instructions in performance-critical operations:  AVX2 FMA\n",
      "To enable them in other operations, rebuild TensorFlow with the appropriate compiler flags.\n"
     ]
    },
    {
     "name": "stdout",
     "output_type": "stream",
     "text": [
      "Model: \"sequential\"\n",
      "_________________________________________________________________\n",
      " Layer (type)                Output Shape              Param #   \n",
      "=================================================================\n",
      " conv1d (Conv1D)             (None, 52919, 64)         192       \n",
      "                                                                 \n",
      " max_pooling1d (MaxPooling1D  (None, 26459, 64)        0         \n",
      " )                                                               \n",
      "                                                                 \n",
      " conv1d_1 (Conv1D)           (None, 26458, 32)         4128      \n",
      "                                                                 \n",
      " max_pooling1d_1 (MaxPooling  (None, 13229, 32)        0         \n",
      " 1D)                                                             \n",
      "                                                                 \n",
      " dropout (Dropout)           (None, 13229, 32)         0         \n",
      "                                                                 \n",
      " lstm (LSTM)                 (None, 128)               82432     \n",
      "                                                                 \n",
      " dense (Dense)               (None, 32)                4128      \n",
      "                                                                 \n",
      " flatten (Flatten)           (None, 32)                0         \n",
      "                                                                 \n",
      " dense_1 (Dense)             (None, 1)                 33        \n",
      "                                                                 \n",
      "=================================================================\n",
      "Total params: 90,913\n",
      "Trainable params: 90,913\n",
      "Non-trainable params: 0\n",
      "_________________________________________________________________\n"
     ]
    }
   ],
   "source": [
    "from keras.layers import LSTM, Dense, Conv1D, MaxPool1D, Flatten, Dropout\n",
    "from keras.models import Sequential\n",
    "\n",
    "model = Sequential()\n",
    "model.add(Conv1D(filters=64, kernel_size=2, input_shape=(52920, 1))) \n",
    "model.add(MaxPool1D(pool_size=2, strides=2))\n",
    "model.add(Conv1D(filters=32, kernel_size=2, input_shape=(52920, 1))) \n",
    "model.add(MaxPool1D(pool_size=2, strides=2))\n",
    "model.add(Dropout(0.2))\n",
    "model.add(LSTM(128, activation='sigmoid')) \n",
    "model.add(Dense(32))\n",
    "model.add(Flatten())\n",
    "model.add(Dense(1, activation='sigmoid'))\n",
    "\n",
    "model.compile(optimizer='rmsprop', loss='binary_crossentropy', metrics=['accuracy'])  \n",
    "model.summary()"
   ]
  },
  {
   "cell_type": "code",
   "execution_count": null,
   "metadata": {
    "pycharm": {
     "name": "#%%\n"
    }
   },
   "outputs": [],
   "source": [
    "model.evaluate(X_train_total, Y_train_total)"
   ]
  },
  {
   "cell_type": "code",
   "execution_count": 26,
   "metadata": {
    "collapsed": false,
    "jupyter": {
     "outputs_hidden": false
    },
    "pycharm": {
     "name": "#%%\n"
    }
   },
   "outputs": [
    {
     "name": "stdout",
     "output_type": "stream",
     "text": [
      "Epoch 1/2\n",
      "20/20 [==============================] - 422s 21s/step - loss: 0.5957 - accuracy: 0.7219\n",
      "Epoch 2/2\n",
      "20/20 [==============================] - 423s 21s/step - loss: 0.5797 - accuracy: 0.7500\n"
     ]
    },
    {
     "data": {
      "text/plain": [
       "<keras.callbacks.History at 0x7fd700f83670>"
      ]
     },
     "execution_count": 26,
     "metadata": {},
     "output_type": "execute_result"
    }
   ],
   "source": [
    "\n",
    "model.fit(X_train_total, Y_train_total, epochs=2)\n",
    "\n",
    "# 17 min"
   ]
  },
  {
   "cell_type": "code",
   "execution_count": 37,
   "metadata": {
    "collapsed": false,
    "jupyter": {
     "outputs_hidden": false
    },
    "pycharm": {
     "name": "#%%\n"
    }
   },
   "outputs": [
    {
     "data": {
      "image/png": "[encoded data removed]",
      "text/plain": [
       "<Figure size 432x288 with 1 Axes>"
      ]
     },
     "metadata": {
      "needs_background": "light"
     },
     "output_type": "display_data"
    },
    {
     "name": "stdout",
     "output_type": "stream",
     "text": [
      "1/1 [==============================] - 0s 156ms/step\n"
     ]
    },
    {
     "data": {
      "text/plain": [
       "array([[0.7888427]], dtype=float32)"
      ]
     },
     "execution_count": 37,
     "metadata": {},
     "output_type": "execute_result"
    }
   ],
   "source": [
    "example_x_train = samples[5]\n",
    "plt.plot(example_x_train)\n",
    "plt.show()\n",
    "example_x_train = example_x_train.reshape(1, 13230   , 1)\n",
    "model.predict(example_x_train)"
   ]
  },
  {
   "cell_type": "code",
   "execution_count": 29,
   "metadata": {
    "pycharm": {
     "name": "#%%\n"
    }
   },
   "outputs": [
    {
     "data": {
      "image/png": "[encoded data removed]",
      "text/plain": [
       "<Figure size 432x288 with 1 Axes>"
      ]
     },
     "metadata": {
      "needs_background": "light"
     },
     "output_type": "display_data"
    },
    {
     "name": "stdout",
     "output_type": "stream",
     "text": [
      "1/1 [==============================] - 1s 583ms/step\n"
     ]
    },
    {
     "data": {
      "text/plain": [
       "array([[0.7888031]], dtype=float32)"
      ]
     },
     "execution_count": 29,
     "metadata": {},
     "output_type": "execute_result"
    }
   ],
   "source": [
    "example_x_train = X_train_total[-2]\n",
    "plt.plot(example_x_train)\n",
    "plt.show()\n",
    "example_x_train = example_x_train.reshape(1, 52920  , 1)\n",
    "model.predict(example_x_train)"
   ]
  },
  {
   "cell_type": "code",
   "execution_count": null,
   "metadata": {
    "collapsed": false,
    "jupyter": {
     "outputs_hidden": false
    },
    "pycharm": {
     "name": "#%%\n"
    }
   },
   "outputs": [],
   "source": [
    "samples_sec_ch = np.array(samples_sec_canal)\n",
    "full_song_sec_ch = []\n",
    "for sample in samples_sec_ch:\n",
    "    full_song_sec_ch.extend(sample)\n",
    "second_channel_data = full_song_sec_ch[4000:6000]\n",
    "plt.plot(second_channel_data)\n",
    "plt.show()\n",
    "second_channel_data = np.array(second_channel_data)\n",
    "second_channel_data = second_channel_data.reshape(1, 2000)\n",
    "model.predict(second_channel_data)"
   ]
  },
  {
   "cell_type": "code",
   "execution_count": null,
   "metadata": {
    "collapsed": false,
    "jupyter": {
     "outputs_hidden": false
    },
    "pycharm": {
     "name": "#%%\n"
    }
   },
   "outputs": [],
   "source": [
    "extracted_sample = full_song_sec_ch[4000:6000]\n",
    "new_start = extracted_sample[999:1999]\n",
    "new_end = extracted_sample[0:1000]\n",
    "switched_sample = new_start + new_end\n",
    "plt.plot(switched_sample)\n",
    "plt.show()\n",
    "switched_sample = np.array(switched_sample)\n",
    "switched_sample = switched_sample.reshape(1, 2000)\n",
    "model.predict(switched_sample)"
   ]
  },
  {
   "cell_type": "code",
   "execution_count": null,
   "metadata": {
    "collapsed": false,
    "jupyter": {
     "outputs_hidden": false
    },
    "pycharm": {
     "name": "#%%\n"
    }
   },
   "outputs": [],
   "source": [
    "reversed_sample = reversed_data[4000:6000]\n",
    "plt.plot(reversed_sample)\n",
    "plt.show()\n",
    "reversed_sample = np.array(reversed_sample)\n",
    "reversed_sample = reversed_sample.reshape(1, 2000)\n",
    "model.predict(reversed_data)"
   ]
  },
  {
   "cell_type": "code",
   "execution_count": null,
   "metadata": {
    "collapsed": false,
    "jupyter": {
     "outputs_hidden": false
    },
    "pycharm": {
     "name": "#%%\n"
    }
   },
   "outputs": [],
   "source": [
    "#filename = 'model_weights.h5'\n",
    "#model.save(filename)"
   ]
  }
 ],
 "metadata": {
  "kernelspec": {
   "display_name": "python3",
   "language": "python",
   "name": "python3"
  },
  "language_info": {
   "codemirror_mode": {
    "name": "ipython",
    "version": 3
   },
   "file_extension": ".py",
   "mimetype": "text/x-python",
   "name": "python",
   "nbconvert_exporter": "python",
   "pygments_lexer": "ipython3",
   "version": "3.9.12"
  }
 },
 "nbformat": 4,
 "nbformat_minor": 4
}