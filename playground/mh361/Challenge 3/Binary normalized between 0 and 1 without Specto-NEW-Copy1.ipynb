{
 "cells": [
  {
   "cell_type": "code",
   "execution_count": 1,
   "metadata": {
    "pycharm": {
     "name": "#%%\n"
    },
    "tags": []
   },
   "outputs": [],
   "source": [
    "import librosa\n",
    "import numpy as np\n",
    "from matplotlib import pyplot as plt\n",
    "from pydub import AudioSegment\n",
    "from scipy import signal\n",
    "from sklearn import preprocessing\n",
    "import os\n",
    "import matplotlib.pyplot as plt\n",
    "from scipy import signal\n",
    "from scipy.io import wavfile\n",
    "import librosa.display\n",
    "import IPython.display as ipd\n",
    "import warnings\n",
    "warnings.simplefilter(\"ignore\", UserWarning)\n",
    "from tensorflow.keras.callbacks import EarlyStopping\n",
    "import random"
   ]
  },
  {
   "cell_type": "code",
   "execution_count": null,
   "metadata": {
    "pycharm": {
     "name": "#%%\n"
    }
   },
   "outputs": [],
   "source": [
    "#import tensorflow_io as tfio"
   ]
  },
  {
   "cell_type": "code",
   "execution_count": 3,
   "metadata": {
    "collapsed": false,
    "jupyter": {
     "outputs_hidden": false
    },
    "pycharm": {
     "name": "#%%\n"
    }
   },
   "outputs": [],
   "source": [
    "os.getcwd()\n",
    "os.chdir('C:/Users/hennm/Desktop/')"
   ]
  },
  {
   "cell_type": "code",
   "execution_count": 4,
   "outputs": [
    {
     "data": {
      "text/plain": "'C:\\\\Users\\\\hennm\\\\Desktop'"
     },
     "execution_count": 4,
     "metadata": {},
     "output_type": "execute_result"
    }
   ],
   "source": [
    "os.getcwd()"
   ],
   "metadata": {
    "collapsed": false,
    "pycharm": {
     "name": "#%%\n"
    }
   }
  },
  {
   "cell_type": "code",
   "execution_count": 15,
   "metadata": {
    "collapsed": false,
    "jupyter": {
     "outputs_hidden": false
    },
    "pycharm": {
     "name": "#%%\n"
    }
   },
   "outputs": [],
   "source": [
    "pathAudio = 'C:/Users/hennm/Desktop/sample-same/'\n",
    "files = librosa.util.find_files(pathAudio, ext=['mp3'])\n",
    "songa = []\n",
    "songb = []\n",
    "songc = []\n",
    "songbad = []\n",
    "for file in files:\n",
    "    if \"Holizna\" in file:\n",
    "        songa.append(file)\n",
    "    if \"Lounge_it\" in file:\n",
    "        songb.append(file)\n",
    "    if \"Tuesday\" in file:\n",
    "        songc.append(file)\n",
    "    if \"John\" in file:\n",
    "        songbad.append(file)\n",
    "filesa = sorted(songa, key=lambda x: int(x.split('_')[-1].split(\".\")[0]))\n",
    "filesb = sorted(songb, key=lambda x: int(x.split('_')[-1].split(\".\")[0]))\n",
    "filesc = sorted(songc, key=lambda x: int(x.split('_')[-1].split(\".\")[0]))\n",
    "filesbad = sorted(songbad, key=lambda x: int(x.split('_')[-1].split(\".\")[0]))\n",
    "filesa = filesa[:-1]\n",
    "filesb = filesb[:-1]\n",
    "filesc = filesc[:-1]\n",
    "filesbad = filesbad[:-1]\n",
    "\n",
    "files = filesa+filesb+filesc\n"
   ]
  },
  {
   "cell_type": "code",
   "execution_count": 10,
   "outputs": [
    {
     "data": {
      "text/plain": "['C:\\\\Users\\\\hennm\\\\Desktop\\\\BadSong\\\\JohnLopker-SeverelyClear_1.mp3',\n 'C:\\\\Users\\\\hennm\\\\Desktop\\\\BadSong\\\\JohnLopker-SeverelyClear_2.mp3',\n 'C:\\\\Users\\\\hennm\\\\Desktop\\\\BadSong\\\\JohnLopker-SeverelyClear_3.mp3',\n 'C:\\\\Users\\\\hennm\\\\Desktop\\\\BadSong\\\\JohnLopker-SeverelyClear_4.mp3',\n 'C:\\\\Users\\\\hennm\\\\Desktop\\\\BadSong\\\\JohnLopker-SeverelyClear_5.mp3',\n 'C:\\\\Users\\\\hennm\\\\Desktop\\\\BadSong\\\\JohnLopker-SeverelyClear_6.mp3',\n 'C:\\\\Users\\\\hennm\\\\Desktop\\\\BadSong\\\\JohnLopker-SeverelyClear_7.mp3',\n 'C:\\\\Users\\\\hennm\\\\Desktop\\\\BadSong\\\\JohnLopker-SeverelyClear_8.mp3',\n 'C:\\\\Users\\\\hennm\\\\Desktop\\\\BadSong\\\\JohnLopker-SeverelyClear_9.mp3',\n 'C:\\\\Users\\\\hennm\\\\Desktop\\\\BadSong\\\\JohnLopker-SeverelyClear_10.mp3',\n 'C:\\\\Users\\\\hennm\\\\Desktop\\\\BadSong\\\\JohnLopker-SeverelyClear_11.mp3',\n 'C:\\\\Users\\\\hennm\\\\Desktop\\\\BadSong\\\\JohnLopker-SeverelyClear_12.mp3',\n 'C:\\\\Users\\\\hennm\\\\Desktop\\\\BadSong\\\\JohnLopker-SeverelyClear_13.mp3',\n 'C:\\\\Users\\\\hennm\\\\Desktop\\\\BadSong\\\\JohnLopker-SeverelyClear_14.mp3',\n 'C:\\\\Users\\\\hennm\\\\Desktop\\\\BadSong\\\\JohnLopker-SeverelyClear_15.mp3',\n 'C:\\\\Users\\\\hennm\\\\Desktop\\\\BadSong\\\\JohnLopker-SeverelyClear_16.mp3',\n 'C:\\\\Users\\\\hennm\\\\Desktop\\\\BadSong\\\\JohnLopker-SeverelyClear_17.mp3',\n 'C:\\\\Users\\\\hennm\\\\Desktop\\\\BadSong\\\\JohnLopker-SeverelyClear_18.mp3',\n 'C:\\\\Users\\\\hennm\\\\Desktop\\\\BadSong\\\\JohnLopker-SeverelyClear_19.mp3',\n 'C:\\\\Users\\\\hennm\\\\Desktop\\\\BadSong\\\\JohnLopker-SeverelyClear_20.mp3',\n 'C:\\\\Users\\\\hennm\\\\Desktop\\\\BadSong\\\\JohnLopker-SeverelyClear_21.mp3',\n 'C:\\\\Users\\\\hennm\\\\Desktop\\\\BadSong\\\\JohnLopker-SeverelyClear_22.mp3',\n 'C:\\\\Users\\\\hennm\\\\Desktop\\\\BadSong\\\\JohnLopker-SeverelyClear_23.mp3',\n 'C:\\\\Users\\\\hennm\\\\Desktop\\\\BadSong\\\\JohnLopker-SeverelyClear_24.mp3',\n 'C:\\\\Users\\\\hennm\\\\Desktop\\\\BadSong\\\\JohnLopker-SeverelyClear_25.mp3',\n 'C:\\\\Users\\\\hennm\\\\Desktop\\\\BadSong\\\\JohnLopker-SeverelyClear_26.mp3',\n 'C:\\\\Users\\\\hennm\\\\Desktop\\\\BadSong\\\\JohnLopker-SeverelyClear_27.mp3',\n 'C:\\\\Users\\\\hennm\\\\Desktop\\\\BadSong\\\\JohnLopker-SeverelyClear_28.mp3',\n 'C:\\\\Users\\\\hennm\\\\Desktop\\\\BadSong\\\\JohnLopker-SeverelyClear_29.mp3',\n 'C:\\\\Users\\\\hennm\\\\Desktop\\\\BadSong\\\\JohnLopker-SeverelyClear_30.mp3',\n 'C:\\\\Users\\\\hennm\\\\Desktop\\\\BadSong\\\\JohnLopker-SeverelyClear_31.mp3',\n 'C:\\\\Users\\\\hennm\\\\Desktop\\\\BadSong\\\\JohnLopker-SeverelyClear_32.mp3',\n 'C:\\\\Users\\\\hennm\\\\Desktop\\\\BadSong\\\\JohnLopker-SeverelyClear_33.mp3',\n 'C:\\\\Users\\\\hennm\\\\Desktop\\\\BadSong\\\\JohnLopker-SeverelyClear_34.mp3',\n 'C:\\\\Users\\\\hennm\\\\Desktop\\\\BadSong\\\\JohnLopker-SeverelyClear_35.mp3',\n 'C:\\\\Users\\\\hennm\\\\Desktop\\\\BadSong\\\\JohnLopker-SeverelyClear_36.mp3',\n 'C:\\\\Users\\\\hennm\\\\Desktop\\\\BadSong\\\\JohnLopker-SeverelyClear_37.mp3',\n 'C:\\\\Users\\\\hennm\\\\Desktop\\\\BadSong\\\\JohnLopker-SeverelyClear_38.mp3',\n 'C:\\\\Users\\\\hennm\\\\Desktop\\\\BadSong\\\\JohnLopker-SeverelyClear_39.mp3',\n 'C:\\\\Users\\\\hennm\\\\Desktop\\\\BadSong\\\\JohnLopker-SeverelyClear_40.mp3',\n 'C:\\\\Users\\\\hennm\\\\Desktop\\\\BadSong\\\\JohnLopker-SeverelyClear_41.mp3',\n 'C:\\\\Users\\\\hennm\\\\Desktop\\\\BadSong\\\\JohnLopker-SeverelyClear_42.mp3',\n 'C:\\\\Users\\\\hennm\\\\Desktop\\\\BadSong\\\\JohnLopker-SeverelyClear_43.mp3']"
     },
     "execution_count": 10,
     "metadata": {},
     "output_type": "execute_result"
    }
   ],
   "source": [],
   "metadata": {
    "collapsed": false,
    "pycharm": {
     "name": "#%%\n"
    }
   }
  },
  {
   "cell_type": "code",
   "execution_count": 18,
   "metadata": {
    "collapsed": false,
    "jupyter": {
     "outputs_hidden": false
    },
    "pycharm": {
     "name": "#%%\n"
    }
   },
   "outputs": [],
   "source": [
    "def NormalizeData(data):\n",
    "    return (data - np.min(data)) / (np.max(data) - np.min(data))\n",
    "\n",
    "\n",
    "samples = []\n",
    "samples_sec_canal = []\n",
    "samplesbad = []\n",
    "for file_name in files:\n",
    "    x, sr = librosa.load(file_name, sr=44100)  \n",
    "    normalized_sample = NormalizeData(x)\n",
    "    #resampled_sample = signal.resample(normalized_sample, 44100)\n",
    "    #resampled_sample = signal.resample(normalized_sample, int(len(normalized_sample) / 10))\n",
    "    #samples.append(resampled_sample)\n",
    "    samples.append(normalized_sample)\n",
    "for a in filesbad:\n",
    "    b, sr = librosa.load(a, sr=44100)\n",
    "    normalized_sample_bad = NormalizeData(b)\n",
    "    #resampled_sample = signal.resample(normalized_sample, 44100)\n",
    "    #resampled_sample = signal.resample(normalized_sample, int(len(normalized_sample) / 10))\n",
    "    #samples.append(resampled_sample)\n",
    "    samplesbad.append(normalized_sample_bad)\n"
   ]
  },
  {
   "cell_type": "code",
   "execution_count": null,
   "metadata": {
    "pycharm": {
     "name": "#%%\n"
    }
   },
   "outputs": [],
   "source": []
  },
  {
   "cell_type": "code",
   "execution_count": 5,
   "metadata": {
    "pycharm": {
     "name": "#%%\n"
    }
   },
   "outputs": [],
   "source": [
    "#Play Audio File!!\n",
    "\n",
    "##import IPython.display as ipd\n",
    "##ipd.Audio(files[2])"
   ]
  },
  {
   "cell_type": "code",
   "execution_count": 6,
   "metadata": {
    "pycharm": {
     "name": "#%%\n"
    }
   },
   "outputs": [],
   "source": [
    "#example_x_train = samples[3]\n",
    "#plt.plot(example_x_train)\n",
    "#plt.show()"
   ]
  },
  {
   "cell_type": "code",
   "execution_count": 7,
   "metadata": {
    "pycharm": {
     "name": "#%%\n"
    }
   },
   "outputs": [],
   "source": [
    "X_train = []\n",
    "Y_train = []\n",
    "for i in range(len(samples)):\n",
    "    Y_train.append(1)\n",
    "    if i < len(samples)-1:\n",
    "        x = list(samples[i])\n",
    "        y = list(samples[i+1])\n",
    "        z = x + y\n",
    "        X_train.append(z)\n",
    "    else:\n",
    "        x = list(samples[i])\n",
    "        y = list(samples[0])\n",
    "        z = x + y\n",
    "        X_train.append(z)"
   ]
  },
  {
   "cell_type": "code",
   "execution_count": 8,
   "metadata": {
    "pycharm": {
     "name": "#%%\n"
    }
   },
   "outputs": [
    {
     "data": {
      "text/plain": [
       "166"
      ]
     },
     "execution_count": 8,
     "metadata": {},
     "output_type": "execute_result"
    }
   ],
   "source": [
    "len(X_train)"
   ]
  },
  {
   "cell_type": "code",
   "execution_count": 9,
   "metadata": {
    "pycharm": {
     "name": "#%%\n"
    }
   },
   "outputs": [],
   "source": [
    "import random\n",
    "\n",
    "X_false = []\n",
    "Y_false = []\n",
    "shuffled = samples\n",
    "random.shuffle(shuffled)\n",
    "for i in range(len(shuffled)):\n",
    "    Y_false.append(0)\n",
    "    if i < len(shuffled)-1:\n",
    "        x = list(shuffled[i])\n",
    "        y = list(shuffled[i+1])\n",
    "        z = x + y\n",
    "        X_false.append(z)   \n",
    "    else:\n",
    "        x = list(shuffled[i])\n",
    "        y = list(shuffled[0])\n",
    "        z = x + y\n",
    "        X_false.append(z)\n"
   ]
  },
  {
   "cell_type": "code",
   "execution_count": 10,
   "metadata": {
    "pycharm": {
     "name": "#%%\n"
    }
   },
   "outputs": [
    {
     "data": {
      "text/plain": [
       "166"
      ]
     },
     "execution_count": 10,
     "metadata": {},
     "output_type": "execute_result"
    }
   ],
   "source": [
    "len(X_false)"
   ]
  },
  {
   "cell_type": "code",
   "execution_count": 11,
   "metadata": {
    "pycharm": {
     "name": "#%%\n"
    }
   },
   "outputs": [],
   "source": [
    "X_train_total = []\n",
    "Y_train_total = []\n",
    "\n",
    "X_train_total.append(X_train)\n",
    "X_train_total.append(X_false)\n",
    "Y_train_total.append(Y_train)\n",
    "Y_train_total.append(Y_false)"
   ]
  },
  {
   "cell_type": "code",
   "execution_count": 12,
   "metadata": {
    "pycharm": {
     "name": "#%%\n"
    }
   },
   "outputs": [
    {
     "name": "stdout",
     "output_type": "stream",
     "text": [
      "166\n"
     ]
    }
   ],
   "source": [
    "print(len(Y_false))\n",
    "#for a in Y_train_total:\n",
    "#    print(len(a))"
   ]
  },
  {
   "cell_type": "code",
   "execution_count": 13,
   "metadata": {
    "collapsed": false,
    "jupyter": {
     "outputs_hidden": false
    },
    "pycharm": {
     "name": "#%%\n"
    }
   },
   "outputs": [
    {
     "data": {
      "text/plain": [
       "(2, 166, 264600)"
      ]
     },
     "execution_count": 13,
     "metadata": {},
     "output_type": "execute_result"
    }
   ],
   "source": [
    "X_train_total = np.array(X_train_total)\n",
    "X_train_total.shape"
   ]
  },
  {
   "cell_type": "code",
   "execution_count": 14,
   "metadata": {
    "collapsed": false,
    "jupyter": {
     "outputs_hidden": false
    },
    "pycharm": {
     "name": "#%%\n"
    }
   },
   "outputs": [
    {
     "data": {
      "text/plain": [
       "(2, 166)"
      ]
     },
     "execution_count": 14,
     "metadata": {},
     "output_type": "execute_result"
    }
   ],
   "source": [
    "Y_train_total = np.array(Y_train_total)\n",
    "Y_train_total.shape"
   ]
  },
  {
   "cell_type": "code",
   "execution_count": 15,
   "metadata": {
    "collapsed": false,
    "jupyter": {
     "outputs_hidden": false
    },
    "pycharm": {
     "name": "#%%\n"
    }
   },
   "outputs": [
    {
     "data": {
      "text/plain": [
       "(332, 264600)"
      ]
     },
     "execution_count": 15,
     "metadata": {},
     "output_type": "execute_result"
    }
   ],
   "source": [
    "X_train_total = X_train_total.reshape(-1, 264600 )\n",
    "X_train_total.shape"
   ]
  },
  {
   "cell_type": "code",
   "execution_count": 16,
   "metadata": {
    "collapsed": false,
    "jupyter": {
     "outputs_hidden": false
    },
    "pycharm": {
     "name": "#%%\n"
    }
   },
   "outputs": [
    {
     "data": {
      "text/plain": [
       "(332, 1)"
      ]
     },
     "execution_count": 16,
     "metadata": {},
     "output_type": "execute_result"
    }
   ],
   "source": [
    "Y_train_total = np.array(Y_train_total).reshape(-1, 1)\n",
    "Y_train_total.shape"
   ]
  },
  {
   "cell_type": "code",
   "execution_count": null,
   "metadata": {
    "pycharm": {
     "name": "#%%\n"
    }
   },
   "outputs": [],
   "source": [
    "\n"
   ]
  },
  {
   "cell_type": "code",
   "execution_count": 18,
   "metadata": {
    "collapsed": false,
    "jupyter": {
     "outputs_hidden": false
    },
    "pycharm": {
     "name": "#%%\n"
    }
   },
   "outputs": [
    {
     "ename": "ImportError",
     "evalue": "cannot import name 'get_config' from 'tensorflow.python.eager.context' (/opt/miniconda3/envs/python3/lib/python3.9/site-packages/tensorflow/python/eager/context.py)",
     "output_type": "error",
     "traceback": [
      "\u001B[0;31m---------------------------------------------------------------------------\u001B[0m",
      "\u001B[0;31mImportError\u001B[0m                               Traceback (most recent call last)",
      "Input \u001B[0;32mIn [18]\u001B[0m, in \u001B[0;36m<cell line: 2>\u001B[0;34m()\u001B[0m\n\u001B[1;32m      1\u001B[0m \u001B[38;5;28;01mfrom\u001B[39;00m \u001B[38;5;21;01mtensorflow\u001B[39;00m \u001B[38;5;28;01mimport\u001B[39;00m keras\n\u001B[0;32m----> 2\u001B[0m \u001B[38;5;28;01mfrom\u001B[39;00m \u001B[38;5;21;01mkeras\u001B[39;00m\u001B[38;5;21;01m.\u001B[39;00m\u001B[38;5;21;01mlayers\u001B[39;00m \u001B[38;5;28;01mimport\u001B[39;00m LSTM, Dense, Conv1D, MaxPool1D, Flatten, Dropout\n\u001B[1;32m      3\u001B[0m \u001B[38;5;28;01mfrom\u001B[39;00m \u001B[38;5;21;01mkeras\u001B[39;00m\u001B[38;5;21;01m.\u001B[39;00m\u001B[38;5;21;01mmodels\u001B[39;00m \u001B[38;5;28;01mimport\u001B[39;00m Sequential\n\u001B[1;32m      5\u001B[0m model \u001B[38;5;241m=\u001B[39m Sequential()\n",
      "File \u001B[0;32m/opt/miniconda3/envs/python3/lib/python3.9/site-packages/keras/__init__.py:24\u001B[0m, in \u001B[0;36m<module>\u001B[0;34m\u001B[0m\n\u001B[1;32m     21\u001B[0m \u001B[38;5;28;01mfrom\u001B[39;00m \u001B[38;5;21;01mtensorflow\u001B[39;00m\u001B[38;5;21;01m.\u001B[39;00m\u001B[38;5;21;01mpython\u001B[39;00m \u001B[38;5;28;01mimport\u001B[39;00m tf2\n\u001B[1;32m     22\u001B[0m \u001B[38;5;28;01mfrom\u001B[39;00m \u001B[38;5;21;01mkeras\u001B[39;00m \u001B[38;5;28;01mimport\u001B[39;00m distribute\n\u001B[0;32m---> 24\u001B[0m \u001B[38;5;28;01mfrom\u001B[39;00m \u001B[38;5;21;01mkeras\u001B[39;00m \u001B[38;5;28;01mimport\u001B[39;00m models\n\u001B[1;32m     26\u001B[0m \u001B[38;5;28;01mfrom\u001B[39;00m \u001B[38;5;21;01mkeras\u001B[39;00m\u001B[38;5;21;01m.\u001B[39;00m\u001B[38;5;21;01mengine\u001B[39;00m\u001B[38;5;21;01m.\u001B[39;00m\u001B[38;5;21;01minput_layer\u001B[39;00m \u001B[38;5;28;01mimport\u001B[39;00m Input\n\u001B[1;32m     27\u001B[0m \u001B[38;5;28;01mfrom\u001B[39;00m \u001B[38;5;21;01mkeras\u001B[39;00m\u001B[38;5;21;01m.\u001B[39;00m\u001B[38;5;21;01mengine\u001B[39;00m\u001B[38;5;21;01m.\u001B[39;00m\u001B[38;5;21;01msequential\u001B[39;00m \u001B[38;5;28;01mimport\u001B[39;00m Sequential\n",
      "File \u001B[0;32m/opt/miniconda3/envs/python3/lib/python3.9/site-packages/keras/models/__init__.py:18\u001B[0m, in \u001B[0;36m<module>\u001B[0;34m\u001B[0m\n\u001B[1;32m     15\u001B[0m \u001B[38;5;124;03m\"\"\"Keras models API.\"\"\"\u001B[39;00m\n\u001B[1;32m     16\u001B[0m \u001B[38;5;66;03m# pylint: disable=g-bad-import-order\u001B[39;00m\n\u001B[0;32m---> 18\u001B[0m \u001B[38;5;28;01mfrom\u001B[39;00m \u001B[38;5;21;01mkeras\u001B[39;00m\u001B[38;5;21;01m.\u001B[39;00m\u001B[38;5;21;01mengine\u001B[39;00m\u001B[38;5;21;01m.\u001B[39;00m\u001B[38;5;21;01mfunctional\u001B[39;00m \u001B[38;5;28;01mimport\u001B[39;00m Functional\n\u001B[1;32m     19\u001B[0m \u001B[38;5;28;01mfrom\u001B[39;00m \u001B[38;5;21;01mkeras\u001B[39;00m\u001B[38;5;21;01m.\u001B[39;00m\u001B[38;5;21;01mengine\u001B[39;00m\u001B[38;5;21;01m.\u001B[39;00m\u001B[38;5;21;01msequential\u001B[39;00m \u001B[38;5;28;01mimport\u001B[39;00m Sequential\n\u001B[1;32m     20\u001B[0m \u001B[38;5;28;01mfrom\u001B[39;00m \u001B[38;5;21;01mkeras\u001B[39;00m\u001B[38;5;21;01m.\u001B[39;00m\u001B[38;5;21;01mengine\u001B[39;00m\u001B[38;5;21;01m.\u001B[39;00m\u001B[38;5;21;01mtraining\u001B[39;00m \u001B[38;5;28;01mimport\u001B[39;00m Model\n",
      "File \u001B[0;32m/opt/miniconda3/envs/python3/lib/python3.9/site-packages/keras/engine/functional.py:23\u001B[0m, in \u001B[0;36m<module>\u001B[0;34m\u001B[0m\n\u001B[1;32m     21\u001B[0m \u001B[38;5;28;01mimport\u001B[39;00m \u001B[38;5;21;01mitertools\u001B[39;00m\n\u001B[1;32m     22\u001B[0m \u001B[38;5;28;01mimport\u001B[39;00m \u001B[38;5;21;01mwarnings\u001B[39;00m\n\u001B[0;32m---> 23\u001B[0m \u001B[38;5;28;01mfrom\u001B[39;00m \u001B[38;5;21;01mkeras\u001B[39;00m \u001B[38;5;28;01mimport\u001B[39;00m backend\n\u001B[1;32m     24\u001B[0m \u001B[38;5;28;01mfrom\u001B[39;00m \u001B[38;5;21;01mkeras\u001B[39;00m\u001B[38;5;21;01m.\u001B[39;00m\u001B[38;5;21;01mdtensor\u001B[39;00m \u001B[38;5;28;01mimport\u001B[39;00m layout_map \u001B[38;5;28;01mas\u001B[39;00m layout_map_lib\n\u001B[1;32m     25\u001B[0m \u001B[38;5;28;01mfrom\u001B[39;00m \u001B[38;5;21;01mkeras\u001B[39;00m\u001B[38;5;21;01m.\u001B[39;00m\u001B[38;5;21;01mengine\u001B[39;00m \u001B[38;5;28;01mimport\u001B[39;00m base_layer\n",
      "File \u001B[0;32m/opt/miniconda3/envs/python3/lib/python3.9/site-packages/keras/backend.py:39\u001B[0m, in \u001B[0;36m<module>\u001B[0;34m\u001B[0m\n\u001B[1;32m     37\u001B[0m \u001B[38;5;28;01mfrom\u001B[39;00m \u001B[38;5;21;01mtensorflow\u001B[39;00m\u001B[38;5;21;01m.\u001B[39;00m\u001B[38;5;21;01mcore\u001B[39;00m\u001B[38;5;21;01m.\u001B[39;00m\u001B[38;5;21;01mprotobuf\u001B[39;00m \u001B[38;5;28;01mimport\u001B[39;00m config_pb2\n\u001B[1;32m     38\u001B[0m \u001B[38;5;28;01mfrom\u001B[39;00m \u001B[38;5;21;01mtensorflow\u001B[39;00m\u001B[38;5;21;01m.\u001B[39;00m\u001B[38;5;21;01mpython\u001B[39;00m\u001B[38;5;21;01m.\u001B[39;00m\u001B[38;5;21;01meager\u001B[39;00m \u001B[38;5;28;01mimport\u001B[39;00m context\n\u001B[0;32m---> 39\u001B[0m \u001B[38;5;28;01mfrom\u001B[39;00m \u001B[38;5;21;01mtensorflow\u001B[39;00m\u001B[38;5;21;01m.\u001B[39;00m\u001B[38;5;21;01mpython\u001B[39;00m\u001B[38;5;21;01m.\u001B[39;00m\u001B[38;5;21;01meager\u001B[39;00m\u001B[38;5;21;01m.\u001B[39;00m\u001B[38;5;21;01mcontext\u001B[39;00m \u001B[38;5;28;01mimport\u001B[39;00m get_config\n\u001B[1;32m     40\u001B[0m \u001B[38;5;28;01mfrom\u001B[39;00m \u001B[38;5;21;01mtensorflow\u001B[39;00m\u001B[38;5;21;01m.\u001B[39;00m\u001B[38;5;21;01mpython\u001B[39;00m\u001B[38;5;21;01m.\u001B[39;00m\u001B[38;5;21;01mframework\u001B[39;00m \u001B[38;5;28;01mimport\u001B[39;00m config\n\u001B[1;32m     41\u001B[0m \u001B[38;5;28;01mfrom\u001B[39;00m \u001B[38;5;21;01mkeras\u001B[39;00m \u001B[38;5;28;01mimport\u001B[39;00m backend_config\n",
      "\u001B[0;31mImportError\u001B[0m: cannot import name 'get_config' from 'tensorflow.python.eager.context' (/opt/miniconda3/envs/python3/lib/python3.9/site-packages/tensorflow/python/eager/context.py)"
     ]
    }
   ],
   "source": [
    "from tensorflow import keras\n",
    "from keras.layers import LSTM, Dense, Conv1D, MaxPool1D, Flatten, Dropout\n",
    "from keras.models import Sequential\n",
    "\n",
    "model = Sequential()\n",
    "model.add(Conv1D(filters=64, kernel_size=2, input_shape=(264600, 1))) \n",
    "model.add(MaxPool1D(pool_size=2, strides=2))\n",
    "model.add(Conv1D(filters=32, kernel_size=2)) \n",
    "model.add(MaxPool1D(pool_size=2, strides=2))\n",
    "model.add(Dropout(0.2))\n",
    "model.add(LSTM(128, activation='sigmoid')) \n",
    "model.add(Dense(32))\n",
    "model.add(Flatten())\n",
    "model.add(Dense(1, activation='sigmoid'))\n",
    "\n",
    "model.compile(optimizer='rmsprop', loss='binary_crossentropy', metrics=['accuracy'])  \n",
    "model.summary()"
   ]
  },
  {
   "cell_type": "code",
   "execution_count": null,
   "metadata": {
    "pycharm": {
     "name": "#%%\n"
    }
   },
   "outputs": [],
   "source": [
    "model.evaluate(X_train_total, Y_train_total)"
   ]
  },
  {
   "cell_type": "code",
   "execution_count": null,
   "metadata": {
    "collapsed": false,
    "jupyter": {
     "outputs_hidden": false
    },
    "pycharm": {
     "name": "#%%\n"
    }
   },
   "outputs": [],
   "source": [
    "\n",
    "model.fit(X_train_total, Y_train_total, epochs=2)\n",
    "\n",
    "# 17 min"
   ]
  },
  {
   "cell_type": "code",
   "execution_count": null,
   "metadata": {
    "collapsed": false,
    "jupyter": {
     "outputs_hidden": false
    },
    "pycharm": {
     "name": "#%%\n"
    }
   },
   "outputs": [],
   "source": [
    "example_x_train = X_train_total[1]\n",
    "plt.plot(example_x_train)\n",
    "plt.show()\n",
    "example_x_train = example_x_train.reshape(1, 26460     , 1)\n",
    "model.predict(example_x_train)"
   ]
  },
  {
   "cell_type": "code",
   "execution_count": null,
   "metadata": {
    "pycharm": {
     "name": "#%%\n"
    }
   },
   "outputs": [],
   "source": [
    "example_x_train = X_train_total[-2]\n",
    "plt.plot(example_x_train)\n",
    "plt.show()\n",
    "example_x_train = example_x_train.reshape(1, 26460   , 1)\n",
    "model.predict(example_x_train)"
   ]
  },
  {
   "cell_type": "code",
   "execution_count": null,
   "metadata": {
    "collapsed": false,
    "jupyter": {
     "outputs_hidden": false
    },
    "pycharm": {
     "name": "#%%\n"
    }
   },
   "outputs": [],
   "source": [
    "samples_sec_ch = np.array(samples_sec_canal)\n",
    "full_song_sec_ch = []\n",
    "for sample in samples_sec_ch:\n",
    "    full_song_sec_ch.extend(sample)\n",
    "second_channel_data = full_song_sec_ch[4000:6000]\n",
    "plt.plot(second_channel_data)\n",
    "plt.show()\n",
    "second_channel_data = np.array(second_channel_data)\n",
    "second_channel_data = second_channel_data.reshape(1, 2000)\n",
    "model.predict(second_channel_data)"
   ]
  },
  {
   "cell_type": "code",
   "execution_count": null,
   "metadata": {
    "collapsed": false,
    "jupyter": {
     "outputs_hidden": false
    },
    "pycharm": {
     "name": "#%%\n"
    }
   },
   "outputs": [],
   "source": [
    "extracted_sample = full_song_sec_ch[4000:6000]\n",
    "new_start = extracted_sample[999:1999]\n",
    "new_end = extracted_sample[0:1000]\n",
    "switched_sample = new_start + new_end\n",
    "plt.plot(switched_sample)\n",
    "plt.show()\n",
    "switched_sample = np.array(switched_sample)\n",
    "switched_sample = switched_sample.reshape(1, 2000)\n",
    "model.predict(switched_sample)"
   ]
  },
  {
   "cell_type": "code",
   "execution_count": null,
   "metadata": {
    "collapsed": false,
    "jupyter": {
     "outputs_hidden": false
    },
    "pycharm": {
     "name": "#%%\n"
    }
   },
   "outputs": [],
   "source": [
    "reversed_sample = reversed_data[4000:6000]\n",
    "plt.plot(reversed_sample)\n",
    "plt.show()\n",
    "reversed_sample = np.array(reversed_sample)\n",
    "reversed_sample = reversed_sample.reshape(1, 2000)\n",
    "model.predict(reversed_data)"
   ]
  },
  {
   "cell_type": "code",
   "execution_count": null,
   "metadata": {
    "collapsed": false,
    "jupyter": {
     "outputs_hidden": false
    },
    "pycharm": {
     "name": "#%%\n"
    }
   },
   "outputs": [],
   "source": [
    "#filename = 'model_weights.h5'\n",
    "#model.save(filename)"
   ]
  }
 ],
 "metadata": {
  "kernelspec": {
   "display_name": "python3",
   "language": "python",
   "name": "python3"
  },
  "language_info": {
   "codemirror_mode": {
    "name": "ipython",
    "version": 3
   },
   "file_extension": ".py",
   "mimetype": "text/x-python",
   "name": "python",
   "nbconvert_exporter": "python",
   "pygments_lexer": "ipython3",
   "version": "3.9.12"
  }
 },
 "nbformat": 4,
 "nbformat_minor": 4
}