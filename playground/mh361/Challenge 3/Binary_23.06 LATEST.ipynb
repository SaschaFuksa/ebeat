{
 "cells": [
  {
   "cell_type": "code",
   "execution_count": 1,
   "metadata": {
    "pycharm": {
     "name": "#%%\n"
    },
    "tags": []
   },
   "outputs": [],
   "source": [
    "import librosa\n",
    "import numpy as np\n",
    "#from matplotlib import pyplot as plt\n",
    "#from pydub import AudioSegment\n",
    "from scipy import signal\n",
    "from sklearn import preprocessing\n",
    "import os\n",
    "import matplotlib.pyplot as plt\n",
    "#import tensorflow_io as tfio\n",
    "import warnings\n",
    "warnings.simplefilter(\"ignore\", UserWarning)\n",
    "from tensorflow.keras.callbacks import EarlyStopping\n",
    "import random"
   ]
  },
  {
   "cell_type": "code",
   "execution_count": 2,
   "metadata": {
    "pycharm": {
     "name": "#%%\n"
    }
   },
   "outputs": [
    {
     "data": {
      "text/plain": [
       "'/home/stud/m/mh361/share'"
      ]
     },
     "execution_count": 2,
     "metadata": {},
     "output_type": "execute_result"
    }
   ],
   "source": [
    "import os\n",
    "os.getcwd()"
   ]
  },
  {
   "cell_type": "code",
   "execution_count": 3,
   "metadata": {
    "collapsed": false,
    "jupyter": {
     "outputs_hidden": false
    },
    "pycharm": {
     "name": "#%%\n"
    }
   },
   "outputs": [],
   "source": [
    "pathAudio = '/home/stud/m/mh361/share/sample-same/'\n",
    "files = librosa.util.find_files(pathAudio, ext=['mp3'])\n",
    "songa = []\n",
    "songb = []\n",
    "songc = []\n",
    "songbad = []\n",
    "for file in files:\n",
    "    if \"Holizna\" in file:\n",
    "        songa.append(file)\n",
    "    if \"Lounge It\" in file:\n",
    "        songb.append(file)\n",
    "    if \"Tuesday\" in file:\n",
    "        songc.append(file)\n",
    "    if \"John\" in file:\n",
    "        songbad.append(file)\n",
    "filesa = sorted(songa, key=lambda x: int(x.split('_')[-1].split(\".\")[0]))\n",
    "filesb = sorted(songb, key=lambda x: int(x.split('_')[-1].split(\".\")[0]))\n",
    "filesc = sorted(songc, key=lambda x: int(x.split('_')[-1].split(\".\")[0]))\n",
    "filesbad = sorted(songbad, key=lambda x: int(x.split('_')[-1].split(\".\")[0]))\n",
    "filesa = filesa[:-1]\n",
    "filesb = filesb[:-1]\n",
    "filesc = filesc[:-1]\n",
    "filesbad = filesbad[:-1]\n",
    "\n",
    "files = filesa+filesb+filesc\n"
   ]
  },
  {
   "cell_type": "code",
   "execution_count": 4,
   "metadata": {
    "collapsed": false,
    "jupyter": {
     "outputs_hidden": false
    },
    "pycharm": {
     "name": "#%%\n"
    }
   },
   "outputs": [],
   "source": [
    "def NormalizeData(data):\n",
    "    return (data - np.min(data)) / (np.max(data) - np.min(data))\n",
    "\n",
    "\n",
    "samples = []\n",
    "samples_sec_canal = []\n",
    "samplesbad = []\n",
    "for file_name in files:\n",
    "    x, sr = librosa.load(file_name, sr=44100)\n",
    "    normalized_sample = NormalizeData(x)\n",
    "    #resampled_sample = signal.resample(normalized_sample, 44100)\n",
    "    resampled_sample = signal.resample(normalized_sample, int(len(normalized_sample) / 10))\n",
    "    #samples.append(resampled_sample)\n",
    "    samples.append(resampled_sample)\n",
    "for a in filesbad:\n",
    "    b, sr = librosa.load(a, sr=44100)\n",
    "    normalized_sample_bad = NormalizeData(b)\n",
    "    #resampled_sample = signal.resample(normalized_sample, 44100)\n",
    "    resampled_sample_bad = signal.resample(normalized_sample_bad, int(len(normalized_sample_bad) / 10))\n",
    "    #samples.append(resampled_sample)\n",
    "    samplesbad.append(resampled_sample_bad)"
   ]
  },
  {
   "cell_type": "code",
   "execution_count": null,
   "metadata": {
    "pycharm": {
     "name": "#%%\n"
    }
   },
   "outputs": [],
   "source": []
  },
  {
   "cell_type": "code",
   "execution_count": 5,
   "metadata": {
    "pycharm": {
     "name": "#%%\n"
    }
   },
   "outputs": [],
   "source": [
    "#example_x_train = samples[3]\n",
    "#plt.plot(example_x_train)\n",
    "#plt.show()"
   ]
  },
  {
   "cell_type": "code",
   "execution_count": 6,
   "metadata": {
    "pycharm": {
     "name": "#%%\n"
    }
   },
   "outputs": [],
   "source": [
    "# Create first sequences with 4 samples in a row\n",
    "X_train = []\n",
    "Y_train = []\n",
    "for i in range(len(samples)):   \n",
    "    if i < len(samples)-6:\n",
    "        Y_train.append(1)\n",
    "        first_sample = list(samples[i])\n",
    "        second_sample = list(samples[i+1])\n",
    "        third_sample = list(samples[i+2])\n",
    "        fourth_sample = list(samples[i+3])\n",
    "        z = first_sample + second_sample + third_sample + fourth_sample\n",
    "        X_train.append(z)\n",
    "#    else:\n",
    " #       x = list(samples[i])\n",
    "  #      y = list(samples[0])\n",
    "   #     z = x + y\n",
    "    #    X_train.append(z)"
   ]
  },
  {
   "cell_type": "code",
   "execution_count": 7,
   "metadata": {
    "pycharm": {
     "name": "#%%\n"
    }
   },
   "outputs": [
    {
     "data": {
      "image/png": "[encoded data removed]",
      "text/plain": [
       "<Figure size 432x288 with 1 Axes>"
      ]
     },
     "metadata": {
      "needs_background": "light"
     },
     "output_type": "display_data"
    }
   ],
   "source": [
    "example_x_train = X_train[0]\n",
    "plt.plot(example_x_train)\n",
    "plt.show()"
   ]
  },
  {
   "cell_type": "code",
   "execution_count": 8,
   "metadata": {
    "pycharm": {
     "name": "#%%\n"
    }
   },
   "outputs": [],
   "source": [
    "# Create second sequences with 4 samples in a row starting from second sample\n",
    "for i in range(len(samples)):   \n",
    "    if i < len(samples)-6:\n",
    "        Y_train.append(1)\n",
    "        first_sample = list(samples[i])\n",
    "        second_sample = list(samples[i+1])\n",
    "        third_sample = list(samples[i+2])\n",
    "        fifth_sample = list(samples[i+4])\n",
    "        z = second_sample + third_sample + fourth_sample + fifth_sample\n",
    "        X_train.append(z)\n",
    "#    else:\n",
    " #       x = list(samples[i])\n",
    "  #      y = list(samples[0])\n",
    "   #     z = x + y\n",
    "    #    X_train.append(z)"
   ]
  },
  {
   "cell_type": "code",
   "execution_count": 9,
   "metadata": {
    "collapsed": false,
    "jupyter": {
     "outputs_hidden": false
    },
    "pycharm": {
     "name": "#%%\n"
    }
   },
   "outputs": [],
   "source": [
    "#Play Audio File!!\n",
    "\n",
    "#import IPython.display as ipd\n",
    "#ipd.Audio(X_train[0], rate=44100)"
   ]
  },
  {
   "cell_type": "code",
   "execution_count": 10,
   "metadata": {
    "pycharm": {
     "name": "#%%\n"
    }
   },
   "outputs": [
    {
     "data": {
      "text/plain": [
       "'# Create first sequences with 3 samples + 1 skipped\\n\\nfor i in range(len(samples)):\\n    if i < len(samples)-6:\\n        Y_train.append(1)\\n        first_sample = list(samples[i])\\n        second_sample = list(samples[i+1])\\n        third_sample = list(samples[i+2])\\n        fifth_sample = list(samples[i+4])\\n        z = first_sample + second_sample + third_sample + fifth_sample\\n        X_train.append(z)\\n#    else:\\n #       x = list(samples[i])\\n  #      y = list(samples[0])\\n   #     z = x + y\\n    #    X_train.append(z)'"
      ]
     },
     "execution_count": 10,
     "metadata": {},
     "output_type": "execute_result"
    }
   ],
   "source": [
    "'''# Create first sequences with 3 samples + 1 skipped\n",
    "\n",
    "for i in range(len(samples)):\n",
    "    if i < len(samples)-6:\n",
    "        Y_train.append(1)\n",
    "        first_sample = list(samples[i])\n",
    "        second_sample = list(samples[i+1])\n",
    "        third_sample = list(samples[i+2])\n",
    "        fifth_sample = list(samples[i+4])\n",
    "        z = first_sample + second_sample + third_sample + fifth_sample\n",
    "        X_train.append(z)\n",
    "#    else:\n",
    " #       x = list(samples[i])\n",
    "  #      y = list(samples[0])\n",
    "   #     z = x + y\n",
    "    #    X_train.append(z)'''"
   ]
  },
  {
   "cell_type": "code",
   "execution_count": 11,
   "metadata": {
    "collapsed": false,
    "jupyter": {
     "outputs_hidden": false
    },
    "pycharm": {
     "name": "#%%\n"
    }
   },
   "outputs": [
    {
     "data": {
      "text/plain": [
       "'# Create sequence with 3 correct and 1 false sample in a row\\nX_false = []\\nY_false = []\\nshuffled = samples\\n\\nrandom.shuffle(shuffled)\\n\\n\\nfor i in range(len(samples)):\\n    if i < len(samples)-6:   \\n        Y_false.append(0)\\n        first_sample = list(samples[i])\\n        second_sample = list(samples[i+1])\\n        third_sample = list(samples[i+2])\\n        fourth_sample = list(shuffled[i]) \\n        z = first_sample + second_sample + third_sample + fourth_sample\\n        X_false.append(z)\\n#    else:\\n #       x = list(samples[i])\\n  #      y = list(samples[0])\\n   #     z = x + y\\n    #    X_false.append(z)     '"
      ]
     },
     "execution_count": 11,
     "metadata": {},
     "output_type": "execute_result"
    }
   ],
   "source": [
    "'''# Create sequence with 3 correct and 1 false sample in a row\n",
    "X_false = []\n",
    "Y_false = []\n",
    "shuffled = samples\n",
    "\n",
    "random.shuffle(shuffled)\n",
    "\n",
    "\n",
    "for i in range(len(samples)):\n",
    "    if i < len(samples)-6:   \n",
    "        Y_false.append(0)\n",
    "        first_sample = list(samples[i])\n",
    "        second_sample = list(samples[i+1])\n",
    "        third_sample = list(samples[i+2])\n",
    "        fourth_sample = list(shuffled[i]) \n",
    "        z = first_sample + second_sample + third_sample + fourth_sample\n",
    "        X_false.append(z)\n",
    "#    else:\n",
    " #       x = list(samples[i])\n",
    "  #      y = list(samples[0])\n",
    "   #     z = x + y\n",
    "    #    X_false.append(z)     '''"
   ]
  },
  {
   "cell_type": "code",
   "execution_count": 12,
   "metadata": {
    "collapsed": false,
    "jupyter": {
     "outputs_hidden": false
    },
    "pycharm": {
     "name": "#%%\n"
    }
   },
   "outputs": [],
   "source": [
    "# Create empty lists\n",
    "X_false = []\n",
    "Y_false = []"
   ]
  },
  {
   "cell_type": "code",
   "execution_count": 13,
   "metadata": {
    "pycharm": {
     "name": "#%%\n"
    },
    "tags": []
   },
   "outputs": [],
   "source": [
    "from numpy import random\n",
    "\n",
    "\n",
    "\n",
    "def get_strange_end_part(samples, current_index, max_len):\n",
    "    x = random.randint(max_len)\n",
    "    if (x != current_index) and (x != current_index+ 1) and (x != current_index + 2) and (x != current_index +3) and (x != current_index+4):\n",
    "        return samples[x]\n",
    "    else:\n",
    "        return get_strange_end_part(samples, current_index, max_len)\n",
    "\n",
    "for b in range(5):\n",
    "    for i in range(len(samples)):\n",
    "        if i < len(samples)-6:\n",
    "            Y_false.append(0)\n",
    "            first_sample = list(samples[i])\n",
    "            second_sample = list(samples[i+1])\n",
    "            third_sample = list(samples[i+2])\n",
    "            random_sample = get_strange_end_part(samples, i, len(samples))\n",
    "            new_sample = first_sample + second_sample + third_sample + list(random_sample)\n",
    "            X_false.append(new_sample)\n"
   ]
  },
  {
   "cell_type": "code",
   "execution_count": 14,
   "metadata": {
    "collapsed": false,
    "jupyter": {
     "outputs_hidden": false
    },
    "pycharm": {
     "name": "#%%\n"
    }
   },
   "outputs": [],
   "source": [
    "def get_strange_end_part_bad(samplesbad, current_index, max_len):\n",
    "    x = random.randint(max_len)\n",
    "    if (x != current_index) and (x != current_index+ 1) and (x != current_index + 2) and (x != current_index +3) and (x != current_index+4):\n",
    "        return samplesbad[x]\n",
    "    else:\n",
    "        return get_strange_end_part(samplesbad, current_index, max_len)\n",
    "\n",
    "for i in range(len(samples)):\n",
    "    if i < len(samples) - 6:\n",
    "        Y_false.append(0)\n",
    "        first_sample = list(samples[i])\n",
    "        second_sample = list(samples[i + 1])\n",
    "        third_sample = list(samples[i + 2])\n",
    "        random_sample = get_strange_end_part_bad(samplesbad, i, len(samplesbad))\n",
    "        new_sample = first_sample + second_sample + third_sample + list(random_sample)\n",
    "        X_false.append(new_sample)"
   ]
  },
  {
   "cell_type": "code",
   "execution_count": 15,
   "metadata": {
    "collapsed": false,
    "jupyter": {
     "outputs_hidden": false
    },
    "pycharm": {
     "name": "#%%\n"
    }
   },
   "outputs": [
    {
     "data": {
      "image/png": "[encoded data removed]",
      "text/plain": [
       "<Figure size 432x288 with 1 Axes>"
      ]
     },
     "metadata": {
      "needs_background": "light"
     },
     "output_type": "display_data"
    }
   ],
   "source": [
    "example_x_train = X_false[0]\n",
    "plt.plot(example_x_train)\n",
    "plt.show()"
   ]
  },
  {
   "cell_type": "code",
   "execution_count": 16,
   "metadata": {
    "pycharm": {
     "name": "#%%\n"
    }
   },
   "outputs": [
    {
     "data": {
      "text/plain": [
       "'from numpy import random\\n\\nX_false = []\\nY_false = []\\n\\n\\ndef get_strange_end_part(samples, current_index, max_len):\\n    x = random.randint(max_len)\\n    if (x != current_index) and (x != current_index+ 1) and (x != current_index + 2) and (x != current_index +3) and (x != current_index+4):\\n        return samples[x]\\n    else:\\n        return get_strange_end_part(samples, current_index, max_len)\\n\\n\\nfor i in range(len(samples)-6):\\n    Y_false.append(0)\\n    first_sample = list(samples[i])\\n    second_sample = list(samples[i+1])\\n    third_sample = list(samples[i+2])\\n    random_sample = get_strange_end_part(samples, i, len(samples))\\n    new_sample = first_sample + second_sample + third_sample + list(random_sample)\\n    X_false.append(new_sample)'"
      ]
     },
     "execution_count": 16,
     "metadata": {},
     "output_type": "execute_result"
    }
   ],
   "source": [
    "'''from numpy import random\n",
    "\n",
    "X_false = []\n",
    "Y_false = []\n",
    "\n",
    "\n",
    "def get_strange_end_part(samples, current_index, max_len):\n",
    "    x = random.randint(max_len)\n",
    "    if (x != current_index) and (x != current_index+ 1) and (x != current_index + 2) and (x != current_index +3) and (x != current_index+4):\n",
    "        return samples[x]\n",
    "    else:\n",
    "        return get_strange_end_part(samples, current_index, max_len)\n",
    "\n",
    "\n",
    "for i in range(len(samples)-6):\n",
    "    Y_false.append(0)\n",
    "    first_sample = list(samples[i])\n",
    "    second_sample = list(samples[i+1])\n",
    "    third_sample = list(samples[i+2])\n",
    "    random_sample = get_strange_end_part(samples, i, len(samples))\n",
    "    new_sample = first_sample + second_sample + third_sample + list(random_sample)\n",
    "    X_false.append(new_sample)'''"
   ]
  },
  {
   "cell_type": "code",
   "execution_count": 17,
   "metadata": {
    "pycharm": {
     "name": "#%%\n"
    }
   },
   "outputs": [],
   "source": [
    "#example_x_train = X_false[0]\n",
    "#plt.plot(example_x_train)\n",
    "#plt.show()"
   ]
  },
  {
   "cell_type": "code",
   "execution_count": 18,
   "metadata": {
    "pycharm": {
     "name": "#%%\n"
    }
   },
   "outputs": [
    {
     "data": {
      "text/plain": [
       "'# Create sequence with false samples \\nfor i in range(len(samples)):\\n    if i < len(samples)-6:  \\n        Y_false.append(0)\\n        first_sample = list(samples[i])\\n        second_sample = list(samples[i+1])\\n        third_sample = list(samples[i+2])\\n        fourth_sample = list(shuffled[i+6]) \\n        z = first_sample + second_sample + third_sample + fourth_sample\\n        X_false.append(z)\\n#    else:\\n #       x = list(samples[i])\\n  #      y = list(samples[0])\\n   #     z = x + y\\n    #    X_false.append(z)        '"
      ]
     },
     "execution_count": 18,
     "metadata": {},
     "output_type": "execute_result"
    }
   ],
   "source": [
    "'''# Create sequence with false samples \n",
    "for i in range(len(samples)):\n",
    "    if i < len(samples)-6:  \n",
    "        Y_false.append(0)\n",
    "        first_sample = list(samples[i])\n",
    "        second_sample = list(samples[i+1])\n",
    "        third_sample = list(samples[i+2])\n",
    "        fourth_sample = list(shuffled[i+6]) \n",
    "        z = first_sample + second_sample + third_sample + fourth_sample\n",
    "        X_false.append(z)\n",
    "#    else:\n",
    " #       x = list(samples[i])\n",
    "  #      y = list(samples[0])\n",
    "   #     z = x + y\n",
    "    #    X_false.append(z)        '''"
   ]
  },
  {
   "cell_type": "code",
   "execution_count": 19,
   "metadata": {
    "pycharm": {
     "name": "#%%\n"
    }
   },
   "outputs": [
    {
     "data": {
      "text/plain": [
       "'X_train_total = []\\nY_train_total = []\\n\\nX_train_total.append(X_train)\\nX_train_total.append(X_false)\\nY_train_total.append(Y_train)\\nY_train_total.append(Y_false)'"
      ]
     },
     "execution_count": 19,
     "metadata": {},
     "output_type": "execute_result"
    }
   ],
   "source": [
    "'''X_train_total = []\n",
    "Y_train_total = []\n",
    "\n",
    "X_train_total.append(X_train)\n",
    "X_train_total.append(X_false)\n",
    "Y_train_total.append(Y_train)\n",
    "Y_train_total.append(Y_false)'''\n"
   ]
  },
  {
   "cell_type": "code",
   "execution_count": 20,
   "metadata": {
    "pycharm": {
     "name": "#%%\n"
    }
   },
   "outputs": [],
   "source": [
    "X_train_total = X_train + X_false\n",
    "Y_train_total = Y_train + Y_false"
   ]
  },
  {
   "cell_type": "code",
   "execution_count": null,
   "metadata": {
    "collapsed": false,
    "jupyter": {
     "outputs_hidden": false
    },
    "pycharm": {
     "name": "#%%\n"
    }
   },
   "outputs": [],
   "source": [
    "X_train_total = np.array(X_train_total)\n",
    "X_train_total.shape"
   ]
  },
  {
   "cell_type": "code",
   "execution_count": null,
   "metadata": {
    "collapsed": false,
    "jupyter": {
     "outputs_hidden": false
    },
    "pycharm": {
     "name": "#%%\n"
    }
   },
   "outputs": [],
   "source": [
    "Y_train_total = np.array(Y_train_total)\n",
    "Y_train_total.shape"
   ]
  },
  {
   "cell_type": "code",
   "execution_count": null,
   "metadata": {
    "collapsed": false,
    "jupyter": {
     "outputs_hidden": false
    },
    "pycharm": {
     "name": "#%%\n"
    }
   },
   "outputs": [],
   "source": [
    "'''X_train_total = X_train_total.reshape(-1, 52920 )\n",
    "X_train_total.shape'''"
   ]
  },
  {
   "cell_type": "code",
   "execution_count": null,
   "metadata": {
    "collapsed": false,
    "jupyter": {
     "outputs_hidden": false
    },
    "pycharm": {
     "name": "#%%\n"
    }
   },
   "outputs": [],
   "source": [
    "Y_train_total = np.array(Y_train_total).reshape(-1, 1)\n",
    "Y_train_total.shape"
   ]
  },
  {
   "cell_type": "code",
   "execution_count": null,
   "metadata": {
    "collapsed": false,
    "jupyter": {
     "outputs_hidden": false
    },
    "pycharm": {
     "name": "#%%\n"
    }
   },
   "outputs": [],
   "source": [
    "from tensorflow.keras.optimizers import SGD\n",
    "from keras.layers import LSTM, Dense, Conv1D, MaxPool1D, Flatten, Dropout\n",
    "from keras.models import Sequential\n",
    "\n",
    "model = Sequential()\n",
    "model.add(Conv1D(filters=128, kernel_size=3, strides=1, padding='causal', activation='relu', input_shape=(52920, 1))) \n",
    "model.add(MaxPool1D(pool_size=2)) \n",
    "model.add(Conv1D(filters=64, kernel_size=3, strides=1, padding='causal', activation='relu')) \n",
    "model.add(MaxPool1D(pool_size=2)) \n",
    "model.add(Dropout(0.25))\n",
    "model.add(LSTM(128)) \n",
    "model.add(Dense(32))\n",
    "model.add(Dense(1, activation='sigmoid'))\n",
    "\n",
    "model.compile(optimizer=SGD(lr=0.01), loss='binary_crossentropy', metrics=['accuracy'])  \n",
    "model.summary()"
   ]
  },
  {
   "cell_type": "code",
   "execution_count": null,
   "metadata": {
    "pycharm": {
     "name": "#%%\n"
    }
   },
   "outputs": [],
   "source": [
    "model.evaluate(X_train_total, Y_train_total)"
   ]
  },
  {
   "cell_type": "code",
   "execution_count": null,
   "metadata": {
    "collapsed": false,
    "jupyter": {
     "outputs_hidden": false
    },
    "pycharm": {
     "name": "#%%\n"
    }
   },
   "outputs": [],
   "source": [
    "\n",
    "model.fit(X_train_total, Y_train_total, epochs=30, batch_size=32)\n",
    "\n",
    "# 17 min"
   ]
  },
  {
   "cell_type": "code",
   "execution_count": null,
   "metadata": {
    "collapsed": false,
    "jupyter": {
     "outputs_hidden": false
    },
    "pycharm": {
     "name": "#%%\n"
    }
   },
   "outputs": [],
   "source": [
    "example_x_train = X_train_total[0]\n",
    "plt.plot(example_x_train)\n",
    "plt.show()\n",
    "example_x_train = example_x_train.reshape(1, 52920   , 1)\n",
    "model.predict(example_x_train)"
   ]
  },
  {
   "cell_type": "code",
   "execution_count": null,
   "metadata": {
    "pycharm": {
     "name": "#%%\n"
    }
   },
   "outputs": [],
   "source": [
    "example_x_train = X_train_total[-1]\n",
    "plt.plot(example_x_train)\n",
    "plt.show()\n",
    "example_x_train = example_x_train.reshape(1, 52920)\n",
    "model.predict(example_x_train)"
   ]
  },
  {
   "cell_type": "code",
   "execution_count": null,
   "metadata": {
    "collapsed": false,
    "jupyter": {
     "outputs_hidden": false
    },
    "pycharm": {
     "name": "#%%\n"
    }
   },
   "outputs": [],
   "source": [
    "samples_sec_ch = np.array(samples_sec_canal)\n",
    "full_song_sec_ch = []\n",
    "for sample in samples_sec_ch:\n",
    "    full_song_sec_ch.extend(sample)\n",
    "second_channel_data = full_song_sec_ch[4000:6000]\n",
    "plt.plot(second_channel_data)\n",
    "plt.show()\n",
    "second_channel_data = np.array(second_channel_data)\n",
    "second_channel_data = second_channel_data.reshape(1, 2000)\n",
    "model.predict(second_channel_data)"
   ]
  },
  {
   "cell_type": "code",
   "execution_count": null,
   "metadata": {
    "collapsed": false,
    "jupyter": {
     "outputs_hidden": false
    },
    "pycharm": {
     "name": "#%%\n"
    }
   },
   "outputs": [],
   "source": [
    "extracted_sample = full_song_sec_ch[4000:6000]\n",
    "new_start = extracted_sample[999:1999]\n",
    "new_end = extracted_sample[0:1000]\n",
    "switched_sample = new_start + new_end\n",
    "plt.plot(switched_sample)\n",
    "plt.show()\n",
    "switched_sample = np.array(switched_sample)\n",
    "switched_sample = switched_sample.reshape(1, 2000)\n",
    "model.predict(switched_sample)"
   ]
  },
  {
   "cell_type": "code",
   "execution_count": null,
   "metadata": {
    "collapsed": false,
    "jupyter": {
     "outputs_hidden": false
    },
    "pycharm": {
     "name": "#%%\n"
    }
   },
   "outputs": [],
   "source": [
    "reversed_sample = reversed_data[4000:6000]\n",
    "plt.plot(reversed_sample)\n",
    "plt.show()\n",
    "reversed_sample = np.array(reversed_sample)\n",
    "reversed_sample = reversed_sample.reshape(1, 2000)\n",
    "model.predict(reversed_data)"
   ]
  },
  {
   "cell_type": "code",
   "execution_count": null,
   "metadata": {
    "collapsed": false,
    "jupyter": {
     "outputs_hidden": false
    },
    "pycharm": {
     "name": "#%%\n"
    }
   },
   "outputs": [],
   "source": [
    "#filename = 'model_weights.h5'\n",
    "#model.save(filename)"
   ]
  }
 ],
 "metadata": {
  "kernelspec": {
   "display_name": "tf2.8",
   "language": "python",
   "name": "tf2.8"
  },
  "language_info": {
   "codemirror_mode": {
    "name": "ipython",
    "version": 3
   },
   "file_extension": ".py",
   "mimetype": "text/x-python",
   "name": "python",
   "nbconvert_exporter": "python",
   "pygments_lexer": "ipython3",
   "version": "3.9.12"
  }
 },
 "nbformat": 4,
 "nbformat_minor": 4
}