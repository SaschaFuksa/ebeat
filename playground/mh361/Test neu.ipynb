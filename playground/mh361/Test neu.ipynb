{
 "cells": [
  {
   "cell_type": "code",
   "execution_count": null,
   "metadata": {
    "collapsed": true,
    "pycharm": {
     "name": "#%%\n"
    }
   },
   "outputs": [],
   "source": []
  },
  {
   "cell_type": "code",
   "execution_count": 27,
   "outputs": [
    {
     "name": "stdout",
     "output_type": "stream",
     "text": [
      "Model: \"model_13\"\n",
      "_________________________________________________________________\n",
      " Layer (type)                Output Shape              Param #   \n",
      "=================================================================\n",
      " input (InputLayer)          [(None, 66150, 1)]        0         \n",
      "                                                                 \n",
      " RNN (LSTM)                  (None, 66150, 64)         16896     \n",
      "                                                                 \n",
      " time_distributed_13 (TimeDi  (None, 66150, 1)         65        \n",
      " stributed)                                                      \n",
      "                                                                 \n",
      "=================================================================\n",
      "Total params: 16,961\n",
      "Trainable params: 16,961\n",
      "Non-trainable params: 0\n",
      "_________________________________________________________________\n",
      "Epoch 1/20\n",
      "1/1 [==============================] - ETA: 0s - loss: 0.0207WARNING:tensorflow:`evaluate()` received a value for `sample_weight`, but `weighted_metrics` were not provided.  Did you mean to pass metrics to `weighted_metrics` in `compile()`?  If this is intentional you can pass `weighted_metrics=[]` to `compile()` in order to silence this warning.\n",
      "1/1 [==============================] - 23s 23s/step - loss: 0.0207 - val_loss: 0.0595\n",
      "Epoch 2/20\n",
      "1/1 [==============================] - ETA: 0s - loss: 0.0196WARNING:tensorflow:`evaluate()` received a value for `sample_weight`, but `weighted_metrics` were not provided.  Did you mean to pass metrics to `weighted_metrics` in `compile()`?  If this is intentional you can pass `weighted_metrics=[]` to `compile()` in order to silence this warning.\n",
      "1/1 [==============================] - 24s 24s/step - loss: 0.0196 - val_loss: 0.0601\n",
      "Epoch 3/20\n",
      "1/1 [==============================] - ETA: 0s - loss: 0.0198WARNING:tensorflow:`evaluate()` received a value for `sample_weight`, but `weighted_metrics` were not provided.  Did you mean to pass metrics to `weighted_metrics` in `compile()`?  If this is intentional you can pass `weighted_metrics=[]` to `compile()` in order to silence this warning.\n",
      "1/1 [==============================] - 23s 23s/step - loss: 0.0198 - val_loss: 0.0593\n",
      "Epoch 4/20\n",
      "1/1 [==============================] - ETA: 0s - loss: 0.0193WARNING:tensorflow:`evaluate()` received a value for `sample_weight`, but `weighted_metrics` were not provided.  Did you mean to pass metrics to `weighted_metrics` in `compile()`?  If this is intentional you can pass `weighted_metrics=[]` to `compile()` in order to silence this warning.\n",
      "1/1 [==============================] - 24s 24s/step - loss: 0.0193 - val_loss: 0.0594\n",
      "Epoch 5/20\n",
      "1/1 [==============================] - ETA: 0s - loss: 0.0192WARNING:tensorflow:`evaluate()` received a value for `sample_weight`, but `weighted_metrics` were not provided.  Did you mean to pass metrics to `weighted_metrics` in `compile()`?  If this is intentional you can pass `weighted_metrics=[]` to `compile()` in order to silence this warning.\n",
      "1/1 [==============================] - 25s 25s/step - loss: 0.0192 - val_loss: 0.0593\n",
      "Epoch 6/20\n",
      "1/1 [==============================] - ETA: 0s - loss: 0.0192WARNING:tensorflow:`evaluate()` received a value for `sample_weight`, but `weighted_metrics` were not provided.  Did you mean to pass metrics to `weighted_metrics` in `compile()`?  If this is intentional you can pass `weighted_metrics=[]` to `compile()` in order to silence this warning.\n",
      "1/1 [==============================] - 24s 24s/step - loss: 0.0192 - val_loss: 0.0593\n",
      "Epoch 7/20\n",
      "1/1 [==============================] - ETA: 0s - loss: 0.0192WARNING:tensorflow:`evaluate()` received a value for `sample_weight`, but `weighted_metrics` were not provided.  Did you mean to pass metrics to `weighted_metrics` in `compile()`?  If this is intentional you can pass `weighted_metrics=[]` to `compile()` in order to silence this warning.\n",
      "1/1 [==============================] - 26s 26s/step - loss: 0.0192 - val_loss: 0.0593\n",
      "Epoch 8/20\n",
      "1/1 [==============================] - ETA: 0s - loss: 0.0192WARNING:tensorflow:`evaluate()` received a value for `sample_weight`, but `weighted_metrics` were not provided.  Did you mean to pass metrics to `weighted_metrics` in `compile()`?  If this is intentional you can pass `weighted_metrics=[]` to `compile()` in order to silence this warning.\n",
      "1/1 [==============================] - 24s 24s/step - loss: 0.0192 - val_loss: 0.0593\n",
      "Epoch 9/20\n",
      "1/1 [==============================] - ETA: 0s - loss: 0.0192WARNING:tensorflow:`evaluate()` received a value for `sample_weight`, but `weighted_metrics` were not provided.  Did you mean to pass metrics to `weighted_metrics` in `compile()`?  If this is intentional you can pass `weighted_metrics=[]` to `compile()` in order to silence this warning.\n",
      "1/1 [==============================] - 24s 24s/step - loss: 0.0192 - val_loss: 0.0593\n",
      "Epoch 10/20\n",
      "1/1 [==============================] - ETA: 0s - loss: 0.0192WARNING:tensorflow:`evaluate()` received a value for `sample_weight`, but `weighted_metrics` were not provided.  Did you mean to pass metrics to `weighted_metrics` in `compile()`?  If this is intentional you can pass `weighted_metrics=[]` to `compile()` in order to silence this warning.\n",
      "1/1 [==============================] - 24s 24s/step - loss: 0.0192 - val_loss: 0.0593\n",
      "Epoch 11/20\n",
      "1/1 [==============================] - ETA: 0s - loss: 0.0192WARNING:tensorflow:`evaluate()` received a value for `sample_weight`, but `weighted_metrics` were not provided.  Did you mean to pass metrics to `weighted_metrics` in `compile()`?  If this is intentional you can pass `weighted_metrics=[]` to `compile()` in order to silence this warning.\n",
      "1/1 [==============================] - 24s 24s/step - loss: 0.0192 - val_loss: 0.0593\n",
      "Epoch 12/20\n",
      "1/1 [==============================] - ETA: 0s - loss: 0.0192WARNING:tensorflow:`evaluate()` received a value for `sample_weight`, but `weighted_metrics` were not provided.  Did you mean to pass metrics to `weighted_metrics` in `compile()`?  If this is intentional you can pass `weighted_metrics=[]` to `compile()` in order to silence this warning.\n",
      "1/1 [==============================] - 25s 25s/step - loss: 0.0192 - val_loss: 0.0593\n",
      "Epoch 13/20\n",
      "1/1 [==============================] - ETA: 0s - loss: 0.0192WARNING:tensorflow:`evaluate()` received a value for `sample_weight`, but `weighted_metrics` were not provided.  Did you mean to pass metrics to `weighted_metrics` in `compile()`?  If this is intentional you can pass `weighted_metrics=[]` to `compile()` in order to silence this warning.\n",
      "1/1 [==============================] - 25s 25s/step - loss: 0.0192 - val_loss: 0.0593\n",
      "Epoch 14/20\n",
      "1/1 [==============================] - ETA: 0s - loss: 0.0192WARNING:tensorflow:`evaluate()` received a value for `sample_weight`, but `weighted_metrics` were not provided.  Did you mean to pass metrics to `weighted_metrics` in `compile()`?  If this is intentional you can pass `weighted_metrics=[]` to `compile()` in order to silence this warning.\n",
      "1/1 [==============================] - 24s 24s/step - loss: 0.0192 - val_loss: 0.0593\n",
      "Epoch 15/20\n",
      "1/1 [==============================] - ETA: 0s - loss: 0.0192WARNING:tensorflow:`evaluate()` received a value for `sample_weight`, but `weighted_metrics` were not provided.  Did you mean to pass metrics to `weighted_metrics` in `compile()`?  If this is intentional you can pass `weighted_metrics=[]` to `compile()` in order to silence this warning.\n",
      "1/1 [==============================] - 24s 24s/step - loss: 0.0192 - val_loss: 0.0593\n",
      "Epoch 16/20\n",
      "1/1 [==============================] - ETA: 0s - loss: 0.0192WARNING:tensorflow:`evaluate()` received a value for `sample_weight`, but `weighted_metrics` were not provided.  Did you mean to pass metrics to `weighted_metrics` in `compile()`?  If this is intentional you can pass `weighted_metrics=[]` to `compile()` in order to silence this warning.\n",
      "1/1 [==============================] - 24s 24s/step - loss: 0.0192 - val_loss: 0.0593\n",
      "Epoch 17/20\n",
      "1/1 [==============================] - ETA: 0s - loss: 0.0192WARNING:tensorflow:`evaluate()` received a value for `sample_weight`, but `weighted_metrics` were not provided.  Did you mean to pass metrics to `weighted_metrics` in `compile()`?  If this is intentional you can pass `weighted_metrics=[]` to `compile()` in order to silence this warning.\n",
      "1/1 [==============================] - 24s 24s/step - loss: 0.0192 - val_loss: 0.0593\n",
      "Epoch 18/20\n",
      "1/1 [==============================] - ETA: 0s - loss: 0.0192WARNING:tensorflow:`evaluate()` received a value for `sample_weight`, but `weighted_metrics` were not provided.  Did you mean to pass metrics to `weighted_metrics` in `compile()`?  If this is intentional you can pass `weighted_metrics=[]` to `compile()` in order to silence this warning.\n",
      "1/1 [==============================] - 24s 24s/step - loss: 0.0192 - val_loss: 0.0593\n",
      "Epoch 19/20\n",
      "1/1 [==============================] - ETA: 0s - loss: 0.0192WARNING:tensorflow:`evaluate()` received a value for `sample_weight`, but `weighted_metrics` were not provided.  Did you mean to pass metrics to `weighted_metrics` in `compile()`?  If this is intentional you can pass `weighted_metrics=[]` to `compile()` in order to silence this warning.\n",
      "1/1 [==============================] - 24s 24s/step - loss: 0.0192 - val_loss: 0.0593\n",
      "Epoch 20/20\n",
      "1/1 [==============================] - ETA: 0s - loss: 0.0192WARNING:tensorflow:`evaluate()` received a value for `sample_weight`, but `weighted_metrics` were not provided.  Did you mean to pass metrics to `weighted_metrics` in `compile()`?  If this is intentional you can pass `weighted_metrics=[]` to `compile()` in order to silence this warning.\n",
      "1/1 [==============================] - 24s 24s/step - loss: 0.0192 - val_loss: 0.0593\n",
      "Time Took :8.09 min\n"
     ]
    },
    {
     "data": {
      "text/plain": "'\\n\\nsmodel = StatefulModel(model=model_stateful, print_val_every=500)\\n\\nstart = time.time()\\nsmodel.fit(X_train, y_train, w_train,\\n                              X_val, y_val, w_val,\\n                              Nepoch=100)\\n\\nend = time.time()\\nprint(\"Time Took {:3.2f} min\".format((end - start) / 60))\\n'"
     },
     "execution_count": 27,
     "metadata": {},
     "output_type": "execute_result"
    }
   ],
   "source": [
    "\n",
    "from keras.utils import np_utils\n",
    "from keras.callbacks import ModelCheckpoint\n",
    "import wave\n",
    "import numpy as np\n",
    "from music21 import converter, instrument, note, chord\n",
    "import glob\n",
    "import os\n",
    "import Paths\n",
    "from pydub import AudioSegment\n",
    "from keras.models import Sequential\n",
    "from keras.layers import Dense, LSTM, MaxPooling1D, Dropout, Conv1D\n",
    "import librosa\n",
    "import tensorflow as tf\n",
    "from keras.layers import LeakyReLU\n",
    "from keras import models, layers\n",
    "from StatefulModel import StatefulModel\n",
    "import sys, time\n",
    "import matplotlib.pyplot as plt\n",
    "\n",
    "def define_model(len_ts,\n",
    "                 hidden_neurons = 10,\n",
    "                 nfeature=1,\n",
    "                 batch_size=None,\n",
    "                 stateful=False):\n",
    "    in_out_neurons = 1\n",
    "\n",
    "    inp = layers.Input(batch_shape= (batch_size, len_ts, nfeature),\n",
    "                       name=\"input\")\n",
    "\n",
    "    rnn = layers.LSTM(hidden_neurons,\n",
    "                    return_sequences=True,\n",
    "                    stateful=stateful,\n",
    "                    name=\"RNN\")(inp)\n",
    "\n",
    "    dens = layers.TimeDistributed(layers.Dense(in_out_neurons,name=\"dense\"))(rnn)\n",
    "    model = models.Model(inputs=[inp],outputs=[dens])\n",
    "\n",
    "    model.compile(loss=\"mean_squared_error\",\n",
    "                  sample_weight_mode=\"temporal\",\n",
    "                  optimizer=\"rmsprop\")\n",
    "    return(model,(inp,rnn,dens))\n",
    "\n",
    "\n",
    "\n",
    "\n",
    "directory = os.listdir(Paths.IN_DIRECTORY)\n",
    "array = []\n",
    "\n",
    "sequence_length = []\n",
    "for sample_name in directory:\n",
    "    if 'wav' in sample_name:\n",
    "        file_path = os.path.join(Paths.IN_DIRECTORY, sample_name)\n",
    "        song, sr = librosa.load(file_path)\n",
    "        sequence_length.append(len(song))\n",
    "        #print(len(song))\n",
    "        #song = AudioSegment.from_wav(file_path)\n",
    "        #samples = song.get_array_of_samples()\n",
    "        array.append(song)\n",
    "\n",
    "# Removing the last element using slicing\n",
    "lastElementIndex = len(array)-1\n",
    "in_array = array[:lastElementIndex]\n",
    "out_array = array[1:]\n",
    "\n",
    "# Get overall number of Input values from samples\n",
    "#Number_of_values = sum(x for x in sequence_length)\n",
    "\n",
    "\n",
    "# Create the Input and Output to tensors\n",
    "input_tensor = tf.convert_to_tensor(in_array)\n",
    "output_tensor = tf.convert_to_tensor(out_array)\n",
    "\n",
    "batch_size = len(input_tensor)\n",
    "timestep = sequence_length[0]\n",
    "\n",
    "input_data = tf.reshape(input_tensor, shape=(batch_size, timestep, 1))\n",
    "output_data = tf.reshape(output_tensor, shape=(batch_size, timestep, 1))\n",
    "\n",
    "prop_train = 0.8\n",
    "ntrain = int(input_data.shape[0]*prop_train)\n",
    "\n",
    "D=100\n",
    "\n",
    "w = np.zeros(output_data.shape[:2])\n",
    "w[:,D:] = 1\n",
    "w_train = w\n",
    "\n",
    "X_train, X_val = input_data[:ntrain], input_data[ntrain:]\n",
    "y_train, y_val = output_data[:ntrain], output_data[ntrain:]\n",
    "w_train, w_val = w[:ntrain], w[ntrain:]\n",
    "\n",
    "hunits = 64\n",
    "\n",
    "model_stateful, _ = define_model(\n",
    "    hidden_neurons = hunits,\n",
    "    batch_size=400,\n",
    "    stateful=True,\n",
    "    len_ts = 500)\n",
    "\n",
    "#model_stateful.summary()\n",
    "\n",
    "hunits = 64\n",
    "model_stateless, _ = define_model(\n",
    "                    hidden_neurons = hunits,\n",
    "                    len_ts = X_train.shape[1])\n",
    "model_stateless.summary()\n",
    "\n",
    "start = time.time()\n",
    "history = model_stateless.fit(X_train,y_train,\n",
    "                             batch_size=batch_size,\n",
    "                             epochs=20,\n",
    "                             verbose=1,\n",
    "                              sample_weight=w_train,\n",
    "                             validation_data=(X_val,y_val,w_val))\n",
    "end = time.time()\n",
    "print(\"Time Took :{:3.2f} min\".format( (end-start)/60 ))\n",
    "\n",
    "'''\n",
    "\n",
    "smodel = StatefulModel(model=model_stateful, print_val_every=500)\n",
    "\n",
    "start = time.time()\n",
    "smodel.fit(X_train, y_train, w_train,\n",
    "                              X_val, y_val, w_val,\n",
    "                              Nepoch=100)\n",
    "\n",
    "end = time.time()\n",
    "print(\"Time Took {:3.2f} min\".format((end - start) / 60))\n",
    "'''"
   ],
   "metadata": {
    "collapsed": false,
    "pycharm": {
     "name": "#%%\n"
    }
   }
  },
  {
   "cell_type": "code",
   "execution_count": 31,
   "outputs": [
    {
     "name": "stdout",
     "output_type": "stream",
     "text": [
      "Evaluate on test data\n",
      "1/1 [==============================] - 3s 3s/step - loss: 0.0281\n",
      "test loss, test acc: 0.028130121529102325\n"
     ]
    }
   ],
   "source": [
    "# Evaluate the model on the test data using evaluate\n",
    "print(\"Evaluate on test data\")\n",
    "results = model_stateless.evaluate(input_tensor, output_tensor, batch_size)\n",
    "print(\"test loss, test acc:\", results)"
   ],
   "metadata": {
    "collapsed": false,
    "pycharm": {
     "name": "#%%\n"
    }
   }
  },
  {
   "cell_type": "code",
   "execution_count": 30,
   "outputs": [
    {
     "data": {
      "text/plain": "<tf.Tensor: shape=(66150, 1), dtype=float32, numpy=\narray([[-0.19236994],\n       [-0.29156643],\n       [-0.25135237],\n       ...,\n       [-0.38337252],\n       [-0.36457327],\n       [-0.38309956]], dtype=float32)>"
     },
     "execution_count": 30,
     "metadata": {},
     "output_type": "execute_result"
    }
   ],
   "source": [
    "X_train[1]"
   ],
   "metadata": {
    "collapsed": false,
    "pycharm": {
     "name": "#%%\n"
    }
   }
  },
  {
   "cell_type": "code",
   "execution_count": 23,
   "outputs": [
    {
     "data": {
      "text/plain": "<tf.Tensor: shape=(66150, 1), dtype=float32, numpy=\narray([[ 0.        ],\n       [ 0.        ],\n       [ 0.        ],\n       ...,\n       [-0.2871928 ],\n       [-0.27692395],\n       [-0.29513258]], dtype=float32)>"
     },
     "execution_count": 23,
     "metadata": {},
     "output_type": "execute_result"
    }
   ],
   "source": [
    "X_train[0]"
   ],
   "metadata": {
    "collapsed": false,
    "pycharm": {
     "name": "#%%\n"
    }
   }
  },
  {
   "cell_type": "code",
   "execution_count": null,
   "outputs": [],
   "source": [],
   "metadata": {
    "collapsed": false,
    "pycharm": {
     "name": "#%%\n"
    }
   }
  }
 ],
 "metadata": {
  "kernelspec": {
   "display_name": "Python 3",
   "language": "python",
   "name": "python3"
  },
  "language_info": {
   "codemirror_mode": {
    "name": "ipython",
    "version": 2
   },
   "file_extension": ".py",
   "mimetype": "text/x-python",
   "name": "python",
   "nbconvert_exporter": "python",
   "pygments_lexer": "ipython2",
   "version": "2.7.6"
  }
 },
 "nbformat": 4,
 "nbformat_minor": 0
}